{
 "cells": [
  {
   "cell_type": "code",
   "execution_count": 1,
   "id": "initial_id",
   "metadata": {
    "collapsed": true,
    "ExecuteTime": {
     "end_time": "2024-03-06T00:35:12.141520Z",
     "start_time": "2024-03-06T00:35:11.727522Z"
    }
   },
   "outputs": [],
   "source": [
    "import numpy as np\n",
    "import pandas as pd\n",
    "import matplotlib.pyplot as plt\n",
    "import seaborn as sns\n",
    "from sklearn import datasets\n",
    "from sklearn.model_selection import train_test_split\n",
    "from sklearn.linear_model import LinearRegression\n",
    "from sklearn.metrics import mean_squared_error\n",
    "import requests\n",
    "import json\n",
    "import io"
   ]
  },
  {
   "cell_type": "code",
   "outputs": [
    {
     "data": {
      "text/plain": "    school sex  age address famsize Pstatus  Medu  Fedu      Mjob      Fjob  \\\n0       GP   F   18       U     GT3       A     4     4   at_home   teacher   \n1       GP   F   17       U     GT3       T     1     1   at_home     other   \n2       GP   F   15       U     LE3       T     1     1   at_home     other   \n3       GP   F   15       U     GT3       T     4     2    health  services   \n4       GP   F   16       U     GT3       T     3     3     other     other   \n..     ...  ..  ...     ...     ...     ...   ...   ...       ...       ...   \n390     MS   M   20       U     LE3       A     2     2  services  services   \n391     MS   M   17       U     LE3       T     3     1  services  services   \n392     MS   M   21       R     GT3       T     1     1     other     other   \n393     MS   M   18       R     LE3       T     3     2  services     other   \n394     MS   M   19       U     LE3       T     1     1     other   at_home   \n\n     ... famrel freetime  goout  Dalc  Walc health absences  G1  G2  G3  \n0    ...      4        3      4     1     1      3        6   5   6   6  \n1    ...      5        3      3     1     1      3        4   5   5   6  \n2    ...      4        3      2     2     3      3       10   7   8  10  \n3    ...      3        2      2     1     1      5        2  15  14  15  \n4    ...      4        3      2     1     2      5        4   6  10  10  \n..   ...    ...      ...    ...   ...   ...    ...      ...  ..  ..  ..  \n390  ...      5        5      4     4     5      4       11   9   9   9  \n391  ...      2        4      5     3     4      2        3  14  16  16  \n392  ...      5        5      3     3     3      3        3  10   8   7  \n393  ...      4        4      1     3     4      5        0  11  12  10  \n394  ...      3        2      3     3     3      5        5   8   9   9  \n\n[395 rows x 33 columns]",
      "text/html": "<div>\n<style scoped>\n    .dataframe tbody tr th:only-of-type {\n        vertical-align: middle;\n    }\n\n    .dataframe tbody tr th {\n        vertical-align: top;\n    }\n\n    .dataframe thead th {\n        text-align: right;\n    }\n</style>\n<table border=\"1\" class=\"dataframe\">\n  <thead>\n    <tr style=\"text-align: right;\">\n      <th></th>\n      <th>school</th>\n      <th>sex</th>\n      <th>age</th>\n      <th>address</th>\n      <th>famsize</th>\n      <th>Pstatus</th>\n      <th>Medu</th>\n      <th>Fedu</th>\n      <th>Mjob</th>\n      <th>Fjob</th>\n      <th>...</th>\n      <th>famrel</th>\n      <th>freetime</th>\n      <th>goout</th>\n      <th>Dalc</th>\n      <th>Walc</th>\n      <th>health</th>\n      <th>absences</th>\n      <th>G1</th>\n      <th>G2</th>\n      <th>G3</th>\n    </tr>\n  </thead>\n  <tbody>\n    <tr>\n      <th>0</th>\n      <td>GP</td>\n      <td>F</td>\n      <td>18</td>\n      <td>U</td>\n      <td>GT3</td>\n      <td>A</td>\n      <td>4</td>\n      <td>4</td>\n      <td>at_home</td>\n      <td>teacher</td>\n      <td>...</td>\n      <td>4</td>\n      <td>3</td>\n      <td>4</td>\n      <td>1</td>\n      <td>1</td>\n      <td>3</td>\n      <td>6</td>\n      <td>5</td>\n      <td>6</td>\n      <td>6</td>\n    </tr>\n    <tr>\n      <th>1</th>\n      <td>GP</td>\n      <td>F</td>\n      <td>17</td>\n      <td>U</td>\n      <td>GT3</td>\n      <td>T</td>\n      <td>1</td>\n      <td>1</td>\n      <td>at_home</td>\n      <td>other</td>\n      <td>...</td>\n      <td>5</td>\n      <td>3</td>\n      <td>3</td>\n      <td>1</td>\n      <td>1</td>\n      <td>3</td>\n      <td>4</td>\n      <td>5</td>\n      <td>5</td>\n      <td>6</td>\n    </tr>\n    <tr>\n      <th>2</th>\n      <td>GP</td>\n      <td>F</td>\n      <td>15</td>\n      <td>U</td>\n      <td>LE3</td>\n      <td>T</td>\n      <td>1</td>\n      <td>1</td>\n      <td>at_home</td>\n      <td>other</td>\n      <td>...</td>\n      <td>4</td>\n      <td>3</td>\n      <td>2</td>\n      <td>2</td>\n      <td>3</td>\n      <td>3</td>\n      <td>10</td>\n      <td>7</td>\n      <td>8</td>\n      <td>10</td>\n    </tr>\n    <tr>\n      <th>3</th>\n      <td>GP</td>\n      <td>F</td>\n      <td>15</td>\n      <td>U</td>\n      <td>GT3</td>\n      <td>T</td>\n      <td>4</td>\n      <td>2</td>\n      <td>health</td>\n      <td>services</td>\n      <td>...</td>\n      <td>3</td>\n      <td>2</td>\n      <td>2</td>\n      <td>1</td>\n      <td>1</td>\n      <td>5</td>\n      <td>2</td>\n      <td>15</td>\n      <td>14</td>\n      <td>15</td>\n    </tr>\n    <tr>\n      <th>4</th>\n      <td>GP</td>\n      <td>F</td>\n      <td>16</td>\n      <td>U</td>\n      <td>GT3</td>\n      <td>T</td>\n      <td>3</td>\n      <td>3</td>\n      <td>other</td>\n      <td>other</td>\n      <td>...</td>\n      <td>4</td>\n      <td>3</td>\n      <td>2</td>\n      <td>1</td>\n      <td>2</td>\n      <td>5</td>\n      <td>4</td>\n      <td>6</td>\n      <td>10</td>\n      <td>10</td>\n    </tr>\n    <tr>\n      <th>...</th>\n      <td>...</td>\n      <td>...</td>\n      <td>...</td>\n      <td>...</td>\n      <td>...</td>\n      <td>...</td>\n      <td>...</td>\n      <td>...</td>\n      <td>...</td>\n      <td>...</td>\n      <td>...</td>\n      <td>...</td>\n      <td>...</td>\n      <td>...</td>\n      <td>...</td>\n      <td>...</td>\n      <td>...</td>\n      <td>...</td>\n      <td>...</td>\n      <td>...</td>\n      <td>...</td>\n    </tr>\n    <tr>\n      <th>390</th>\n      <td>MS</td>\n      <td>M</td>\n      <td>20</td>\n      <td>U</td>\n      <td>LE3</td>\n      <td>A</td>\n      <td>2</td>\n      <td>2</td>\n      <td>services</td>\n      <td>services</td>\n      <td>...</td>\n      <td>5</td>\n      <td>5</td>\n      <td>4</td>\n      <td>4</td>\n      <td>5</td>\n      <td>4</td>\n      <td>11</td>\n      <td>9</td>\n      <td>9</td>\n      <td>9</td>\n    </tr>\n    <tr>\n      <th>391</th>\n      <td>MS</td>\n      <td>M</td>\n      <td>17</td>\n      <td>U</td>\n      <td>LE3</td>\n      <td>T</td>\n      <td>3</td>\n      <td>1</td>\n      <td>services</td>\n      <td>services</td>\n      <td>...</td>\n      <td>2</td>\n      <td>4</td>\n      <td>5</td>\n      <td>3</td>\n      <td>4</td>\n      <td>2</td>\n      <td>3</td>\n      <td>14</td>\n      <td>16</td>\n      <td>16</td>\n    </tr>\n    <tr>\n      <th>392</th>\n      <td>MS</td>\n      <td>M</td>\n      <td>21</td>\n      <td>R</td>\n      <td>GT3</td>\n      <td>T</td>\n      <td>1</td>\n      <td>1</td>\n      <td>other</td>\n      <td>other</td>\n      <td>...</td>\n      <td>5</td>\n      <td>5</td>\n      <td>3</td>\n      <td>3</td>\n      <td>3</td>\n      <td>3</td>\n      <td>3</td>\n      <td>10</td>\n      <td>8</td>\n      <td>7</td>\n    </tr>\n    <tr>\n      <th>393</th>\n      <td>MS</td>\n      <td>M</td>\n      <td>18</td>\n      <td>R</td>\n      <td>LE3</td>\n      <td>T</td>\n      <td>3</td>\n      <td>2</td>\n      <td>services</td>\n      <td>other</td>\n      <td>...</td>\n      <td>4</td>\n      <td>4</td>\n      <td>1</td>\n      <td>3</td>\n      <td>4</td>\n      <td>5</td>\n      <td>0</td>\n      <td>11</td>\n      <td>12</td>\n      <td>10</td>\n    </tr>\n    <tr>\n      <th>394</th>\n      <td>MS</td>\n      <td>M</td>\n      <td>19</td>\n      <td>U</td>\n      <td>LE3</td>\n      <td>T</td>\n      <td>1</td>\n      <td>1</td>\n      <td>other</td>\n      <td>at_home</td>\n      <td>...</td>\n      <td>3</td>\n      <td>2</td>\n      <td>3</td>\n      <td>3</td>\n      <td>3</td>\n      <td>5</td>\n      <td>5</td>\n      <td>8</td>\n      <td>9</td>\n      <td>9</td>\n    </tr>\n  </tbody>\n</table>\n<p>395 rows × 33 columns</p>\n</div>"
     },
     "execution_count": 2,
     "metadata": {},
     "output_type": "execute_result"
    }
   ],
   "source": [
    "# load the data\n",
    "math_df = pd.read_csv('student-mat.csv')\n",
    "por_df = pd.read_csv('student-por.csv')\n",
    "math_df"
   ],
   "metadata": {
    "collapsed": false,
    "ExecuteTime": {
     "end_time": "2024-03-06T00:35:12.186520Z",
     "start_time": "2024-03-06T00:35:12.143520Z"
    }
   },
   "id": "38bb5064b3a7b2df",
   "execution_count": 2
  },
  {
   "cell_type": "code",
   "outputs": [],
   "source": [
    "# Rename columns to be more descriptive\n",
    "math_df.rename(columns={'Medu': 'mother_edu'}, inplace=True)\n",
    "por_df.rename(columns={'Medu': 'mother_edu'}, inplace=True)\n",
    "\n",
    "math_df.rename(columns={'Fedu': 'father_edu'}, inplace=True)\n",
    "por_df.rename(columns={'Fedu': 'father_edu'}, inplace=True)\n",
    "\n",
    "math_df.rename(columns={'Mjob': 'mother_job'}, inplace=True)\n",
    "por_df.rename(columns={'Mjob': 'mother_job'}, inplace=True)\n",
    "\n",
    "math_df.rename(columns={'Fjob': 'father_job'}, inplace=True)\n",
    "por_df.rename(columns={'Fjob': 'father_job'}, inplace=True)\n",
    "\n",
    "math_df.rename(columns={'Pstatus': 'parent_status'}, inplace=True)\n",
    "por_df.rename(columns={'Pstatus': 'parent_status'}, inplace=True)\n",
    "\n",
    "math_df.rename(columns={'famsize': 'family_size'}, inplace=True)\n",
    "por_df.rename(columns={'famsize': 'family_size'}, inplace=True)\n",
    "\n",
    "math_df.rename(columns={'famsup': 'family_support'}, inplace=True)\n",
    "por_df.rename(columns={'famsup': 'family_support'}, inplace=True)\n",
    "\n",
    "math_df.rename(columns={'famrel': 'family_relationship'}, inplace=True)\n",
    "por_df.rename(columns={'famrel': 'family_relationship'}, inplace=True)\n",
    "\n",
    "math_df.rename(columns={'schoolsup': 'edu_support'}, inplace=True)\n",
    "por_df.rename(columns={'schoolsup': 'edu_support'}, inplace=True)\n",
    "\n",
    "math_df.rename(columns={'Dalc': 'workday_alc'}, inplace=True)\n",
    "por_df.rename(columns={'Dalc': 'workday_alc'}, inplace=True)\n",
    "\n",
    "math_df.rename(columns={'Walc': 'weekend_alc'}, inplace=True)\n",
    "por_df.rename(columns={'Walc': 'weekend_alc'}, inplace=True)"
   ],
   "metadata": {
    "collapsed": false,
    "ExecuteTime": {
     "end_time": "2024-03-06T00:35:12.201522Z",
     "start_time": "2024-03-06T00:35:12.187523Z"
    }
   },
   "id": "f39dc4650f027ac1",
   "execution_count": 3
  },
  {
   "cell_type": "code",
   "outputs": [
    {
     "data": {
      "text/plain": "    school sex  age address family_size parent_status  mother_edu  father_edu  \\\n0       GP   F   18       U         GT3             A           4           4   \n1       GP   F   17       U         GT3             T           1           1   \n2       GP   F   15       U         LE3             T           1           1   \n3       GP   F   15       U         GT3             T           4           2   \n4       GP   F   16       U         GT3             T           3           3   \n..     ...  ..  ...     ...         ...           ...         ...         ...   \n390     MS   M   20       U         LE3             A           2           2   \n391     MS   M   17       U         LE3             T           3           1   \n392     MS   M   21       R         GT3             T           1           1   \n393     MS   M   18       R         LE3             T           3           2   \n394     MS   M   19       U         LE3             T           1           1   \n\n    mother_job father_job  ... family_relationship freetime  goout  \\\n0      at_home    teacher  ...                   4        3      4   \n1      at_home      other  ...                   5        3      3   \n2      at_home      other  ...                   4        3      2   \n3       health   services  ...                   3        2      2   \n4        other      other  ...                   4        3      2   \n..         ...        ...  ...                 ...      ...    ...   \n390   services   services  ...                   5        5      4   \n391   services   services  ...                   2        4      5   \n392      other      other  ...                   5        5      3   \n393   services      other  ...                   4        4      1   \n394      other    at_home  ...                   3        2      3   \n\n     workday_alc  weekend_alc health absences  G1  G2  G3  \n0              1            1      3        6   5   6   6  \n1              1            1      3        4   5   5   6  \n2              2            3      3       10   7   8  10  \n3              1            1      5        2  15  14  15  \n4              1            2      5        4   6  10  10  \n..           ...          ...    ...      ...  ..  ..  ..  \n390            4            5      4       11   9   9   9  \n391            3            4      2        3  14  16  16  \n392            3            3      3        3  10   8   7  \n393            3            4      5        0  11  12  10  \n394            3            3      5        5   8   9   9  \n\n[395 rows x 33 columns]",
      "text/html": "<div>\n<style scoped>\n    .dataframe tbody tr th:only-of-type {\n        vertical-align: middle;\n    }\n\n    .dataframe tbody tr th {\n        vertical-align: top;\n    }\n\n    .dataframe thead th {\n        text-align: right;\n    }\n</style>\n<table border=\"1\" class=\"dataframe\">\n  <thead>\n    <tr style=\"text-align: right;\">\n      <th></th>\n      <th>school</th>\n      <th>sex</th>\n      <th>age</th>\n      <th>address</th>\n      <th>family_size</th>\n      <th>parent_status</th>\n      <th>mother_edu</th>\n      <th>father_edu</th>\n      <th>mother_job</th>\n      <th>father_job</th>\n      <th>...</th>\n      <th>family_relationship</th>\n      <th>freetime</th>\n      <th>goout</th>\n      <th>workday_alc</th>\n      <th>weekend_alc</th>\n      <th>health</th>\n      <th>absences</th>\n      <th>G1</th>\n      <th>G2</th>\n      <th>G3</th>\n    </tr>\n  </thead>\n  <tbody>\n    <tr>\n      <th>0</th>\n      <td>GP</td>\n      <td>F</td>\n      <td>18</td>\n      <td>U</td>\n      <td>GT3</td>\n      <td>A</td>\n      <td>4</td>\n      <td>4</td>\n      <td>at_home</td>\n      <td>teacher</td>\n      <td>...</td>\n      <td>4</td>\n      <td>3</td>\n      <td>4</td>\n      <td>1</td>\n      <td>1</td>\n      <td>3</td>\n      <td>6</td>\n      <td>5</td>\n      <td>6</td>\n      <td>6</td>\n    </tr>\n    <tr>\n      <th>1</th>\n      <td>GP</td>\n      <td>F</td>\n      <td>17</td>\n      <td>U</td>\n      <td>GT3</td>\n      <td>T</td>\n      <td>1</td>\n      <td>1</td>\n      <td>at_home</td>\n      <td>other</td>\n      <td>...</td>\n      <td>5</td>\n      <td>3</td>\n      <td>3</td>\n      <td>1</td>\n      <td>1</td>\n      <td>3</td>\n      <td>4</td>\n      <td>5</td>\n      <td>5</td>\n      <td>6</td>\n    </tr>\n    <tr>\n      <th>2</th>\n      <td>GP</td>\n      <td>F</td>\n      <td>15</td>\n      <td>U</td>\n      <td>LE3</td>\n      <td>T</td>\n      <td>1</td>\n      <td>1</td>\n      <td>at_home</td>\n      <td>other</td>\n      <td>...</td>\n      <td>4</td>\n      <td>3</td>\n      <td>2</td>\n      <td>2</td>\n      <td>3</td>\n      <td>3</td>\n      <td>10</td>\n      <td>7</td>\n      <td>8</td>\n      <td>10</td>\n    </tr>\n    <tr>\n      <th>3</th>\n      <td>GP</td>\n      <td>F</td>\n      <td>15</td>\n      <td>U</td>\n      <td>GT3</td>\n      <td>T</td>\n      <td>4</td>\n      <td>2</td>\n      <td>health</td>\n      <td>services</td>\n      <td>...</td>\n      <td>3</td>\n      <td>2</td>\n      <td>2</td>\n      <td>1</td>\n      <td>1</td>\n      <td>5</td>\n      <td>2</td>\n      <td>15</td>\n      <td>14</td>\n      <td>15</td>\n    </tr>\n    <tr>\n      <th>4</th>\n      <td>GP</td>\n      <td>F</td>\n      <td>16</td>\n      <td>U</td>\n      <td>GT3</td>\n      <td>T</td>\n      <td>3</td>\n      <td>3</td>\n      <td>other</td>\n      <td>other</td>\n      <td>...</td>\n      <td>4</td>\n      <td>3</td>\n      <td>2</td>\n      <td>1</td>\n      <td>2</td>\n      <td>5</td>\n      <td>4</td>\n      <td>6</td>\n      <td>10</td>\n      <td>10</td>\n    </tr>\n    <tr>\n      <th>...</th>\n      <td>...</td>\n      <td>...</td>\n      <td>...</td>\n      <td>...</td>\n      <td>...</td>\n      <td>...</td>\n      <td>...</td>\n      <td>...</td>\n      <td>...</td>\n      <td>...</td>\n      <td>...</td>\n      <td>...</td>\n      <td>...</td>\n      <td>...</td>\n      <td>...</td>\n      <td>...</td>\n      <td>...</td>\n      <td>...</td>\n      <td>...</td>\n      <td>...</td>\n      <td>...</td>\n    </tr>\n    <tr>\n      <th>390</th>\n      <td>MS</td>\n      <td>M</td>\n      <td>20</td>\n      <td>U</td>\n      <td>LE3</td>\n      <td>A</td>\n      <td>2</td>\n      <td>2</td>\n      <td>services</td>\n      <td>services</td>\n      <td>...</td>\n      <td>5</td>\n      <td>5</td>\n      <td>4</td>\n      <td>4</td>\n      <td>5</td>\n      <td>4</td>\n      <td>11</td>\n      <td>9</td>\n      <td>9</td>\n      <td>9</td>\n    </tr>\n    <tr>\n      <th>391</th>\n      <td>MS</td>\n      <td>M</td>\n      <td>17</td>\n      <td>U</td>\n      <td>LE3</td>\n      <td>T</td>\n      <td>3</td>\n      <td>1</td>\n      <td>services</td>\n      <td>services</td>\n      <td>...</td>\n      <td>2</td>\n      <td>4</td>\n      <td>5</td>\n      <td>3</td>\n      <td>4</td>\n      <td>2</td>\n      <td>3</td>\n      <td>14</td>\n      <td>16</td>\n      <td>16</td>\n    </tr>\n    <tr>\n      <th>392</th>\n      <td>MS</td>\n      <td>M</td>\n      <td>21</td>\n      <td>R</td>\n      <td>GT3</td>\n      <td>T</td>\n      <td>1</td>\n      <td>1</td>\n      <td>other</td>\n      <td>other</td>\n      <td>...</td>\n      <td>5</td>\n      <td>5</td>\n      <td>3</td>\n      <td>3</td>\n      <td>3</td>\n      <td>3</td>\n      <td>3</td>\n      <td>10</td>\n      <td>8</td>\n      <td>7</td>\n    </tr>\n    <tr>\n      <th>393</th>\n      <td>MS</td>\n      <td>M</td>\n      <td>18</td>\n      <td>R</td>\n      <td>LE3</td>\n      <td>T</td>\n      <td>3</td>\n      <td>2</td>\n      <td>services</td>\n      <td>other</td>\n      <td>...</td>\n      <td>4</td>\n      <td>4</td>\n      <td>1</td>\n      <td>3</td>\n      <td>4</td>\n      <td>5</td>\n      <td>0</td>\n      <td>11</td>\n      <td>12</td>\n      <td>10</td>\n    </tr>\n    <tr>\n      <th>394</th>\n      <td>MS</td>\n      <td>M</td>\n      <td>19</td>\n      <td>U</td>\n      <td>LE3</td>\n      <td>T</td>\n      <td>1</td>\n      <td>1</td>\n      <td>other</td>\n      <td>at_home</td>\n      <td>...</td>\n      <td>3</td>\n      <td>2</td>\n      <td>3</td>\n      <td>3</td>\n      <td>3</td>\n      <td>5</td>\n      <td>5</td>\n      <td>8</td>\n      <td>9</td>\n      <td>9</td>\n    </tr>\n  </tbody>\n</table>\n<p>395 rows × 33 columns</p>\n</div>"
     },
     "execution_count": 4,
     "metadata": {},
     "output_type": "execute_result"
    }
   ],
   "source": [
    "math_df"
   ],
   "metadata": {
    "collapsed": false,
    "ExecuteTime": {
     "end_time": "2024-03-06T00:35:12.219523Z",
     "start_time": "2024-03-06T00:35:12.202521Z"
    }
   },
   "id": "4e4915c91fdc2ba6",
   "execution_count": 4
  },
  {
   "cell_type": "code",
   "outputs": [],
   "source": [
    "def standardize_school(school):\n",
    "    if school == 'GP':\n",
    "        return 'Gabriel Pereira'\n",
    "    else:\n",
    "        return 'Mousinho da Silveira'\n",
    "\n",
    "def standardize_address(address):\n",
    "    if address == 'U':\n",
    "        return 'urban'\n",
    "    else:\n",
    "        return 'rural'\n",
    "    \n",
    "def standardize_parent_status(status):\n",
    "    if status == 'A':\n",
    "        return 'apart'\n",
    "    else:\n",
    "        return 'together'"
   ],
   "metadata": {
    "collapsed": false,
    "ExecuteTime": {
     "end_time": "2024-03-06T00:35:12.226522Z",
     "start_time": "2024-03-06T00:35:12.220522Z"
    }
   },
   "id": "4232c80e126f8649",
   "execution_count": 5
  },
  {
   "cell_type": "code",
   "outputs": [],
   "source": [
    "math_df['school'] = math_df['school'].apply(standardize_school)\n",
    "por_df['school'] = por_df['school'].apply(standardize_school)\n",
    "\n",
    "math_df['address'] = math_df['address'].apply(standardize_address)\n",
    "por_df['address'] = por_df['address'].apply(standardize_address)\n",
    "\n",
    "math_df['parent_status'] = math_df['parent_status'].apply(standardize_parent_status)\n",
    "por_df['parent_status'] = por_df['parent_status'].apply(standardize_parent_status)"
   ],
   "metadata": {
    "collapsed": false,
    "ExecuteTime": {
     "end_time": "2024-03-06T00:35:12.237521Z",
     "start_time": "2024-03-06T00:35:12.228524Z"
    }
   },
   "id": "e2c293513e851cf3",
   "execution_count": 6
  },
  {
   "cell_type": "code",
   "outputs": [
    {
     "name": "stdout",
     "output_type": "stream",
     "text": [
      "Missing values in Math dataset:\n",
      " school                 0\n",
      "sex                    0\n",
      "age                    0\n",
      "address                0\n",
      "family_size            0\n",
      "parent_status          0\n",
      "mother_edu             0\n",
      "father_edu             0\n",
      "mother_job             0\n",
      "father_job             0\n",
      "reason                 0\n",
      "guardian               0\n",
      "traveltime             0\n",
      "studytime              0\n",
      "failures               0\n",
      "edu_support            0\n",
      "family_support         0\n",
      "paid                   0\n",
      "activities             0\n",
      "nursery                0\n",
      "higher                 0\n",
      "internet               0\n",
      "romantic               0\n",
      "family_relationship    0\n",
      "freetime               0\n",
      "goout                  0\n",
      "workday_alc            0\n",
      "weekend_alc            0\n",
      "health                 0\n",
      "absences               0\n",
      "G1                     0\n",
      "G2                     0\n",
      "G3                     0\n",
      "dtype: int64\n",
      "\n",
      "Missing values in Portuguese dataset:\n",
      " school                 0\n",
      "sex                    0\n",
      "age                    0\n",
      "address                0\n",
      "family_size            0\n",
      "parent_status          0\n",
      "mother_edu             0\n",
      "father_edu             0\n",
      "mother_job             0\n",
      "father_job             0\n",
      "reason                 0\n",
      "guardian               0\n",
      "traveltime             0\n",
      "studytime              0\n",
      "failures               0\n",
      "edu_support            0\n",
      "family_support         0\n",
      "paid                   0\n",
      "activities             0\n",
      "nursery                0\n",
      "higher                 0\n",
      "internet               0\n",
      "romantic               0\n",
      "family_relationship    0\n",
      "freetime               0\n",
      "goout                  0\n",
      "workday_alc            0\n",
      "weekend_alc            0\n",
      "health                 0\n",
      "absences               0\n",
      "G1                     0\n",
      "G2                     0\n",
      "G3                     0\n",
      "dtype: int64\n"
     ]
    }
   ],
   "source": [
    "# Step 1: Missing Values - Checking for missing values\n",
    "print(\"Missing values in Math dataset:\\n\", math_df.isnull().sum())\n",
    "print(\"\\nMissing values in Portuguese dataset:\\n\", por_df.isnull().sum())"
   ],
   "metadata": {
    "collapsed": false,
    "ExecuteTime": {
     "end_time": "2024-03-06T00:35:12.249522Z",
     "start_time": "2024-03-06T00:35:12.239521Z"
    }
   },
   "id": "c84187cf67417907",
   "execution_count": 7
  },
  {
   "cell_type": "code",
   "outputs": [
    {
     "name": "stdout",
     "output_type": "stream",
     "text": [
      "Number of duplicate entries in Math dataset:  0\n",
      "Number of duplicate entries in Portuguese dataset:  0\n"
     ]
    }
   ],
   "source": [
    "# Step 2: Duplicate Entries - Checking for duplicates\n",
    "math_duplicates = math_df.duplicated().sum()\n",
    "por_duplicates = por_df.duplicated().sum()\n",
    "print(\"Number of duplicate entries in Math dataset: \", math_duplicates)\n",
    "print(\"Number of duplicate entries in Portuguese dataset: \", por_duplicates)"
   ],
   "metadata": {
    "collapsed": false,
    "ExecuteTime": {
     "end_time": "2024-03-06T00:35:12.265521Z",
     "start_time": "2024-03-06T00:35:12.250524Z"
    }
   },
   "id": "24ea1e150b342284",
   "execution_count": 8
  },
  {
   "cell_type": "code",
   "outputs": [
    {
     "name": "stdout",
     "output_type": "stream",
     "text": [
      "Data types in Math dataset:\n",
      " school                 object\n",
      "sex                    object\n",
      "age                     int64\n",
      "address                object\n",
      "family_size            object\n",
      "parent_status          object\n",
      "mother_edu              int64\n",
      "father_edu              int64\n",
      "mother_job             object\n",
      "father_job             object\n",
      "reason                 object\n",
      "guardian               object\n",
      "traveltime              int64\n",
      "studytime               int64\n",
      "failures                int64\n",
      "edu_support            object\n",
      "family_support         object\n",
      "paid                   object\n",
      "activities             object\n",
      "nursery                object\n",
      "higher                 object\n",
      "internet               object\n",
      "romantic               object\n",
      "family_relationship     int64\n",
      "freetime                int64\n",
      "goout                   int64\n",
      "workday_alc             int64\n",
      "weekend_alc             int64\n",
      "health                  int64\n",
      "absences                int64\n",
      "G1                      int64\n",
      "G2                      int64\n",
      "G3                      int64\n",
      "dtype: object\n",
      "\n",
      "Data types in Portuguese dataset:\n",
      " school                 object\n",
      "sex                    object\n",
      "age                     int64\n",
      "address                object\n",
      "family_size            object\n",
      "parent_status          object\n",
      "mother_edu              int64\n",
      "father_edu              int64\n",
      "mother_job             object\n",
      "father_job             object\n",
      "reason                 object\n",
      "guardian               object\n",
      "traveltime              int64\n",
      "studytime               int64\n",
      "failures                int64\n",
      "edu_support            object\n",
      "family_support         object\n",
      "paid                   object\n",
      "activities             object\n",
      "nursery                object\n",
      "higher                 object\n",
      "internet               object\n",
      "romantic               object\n",
      "family_relationship     int64\n",
      "freetime                int64\n",
      "goout                   int64\n",
      "workday_alc             int64\n",
      "weekend_alc             int64\n",
      "health                  int64\n",
      "absences                int64\n",
      "G1                      int64\n",
      "G2                      int64\n",
      "G3                      int64\n",
      "dtype: object\n"
     ]
    }
   ],
   "source": [
    "# Convert to appropriate data types if necessary (Step 3) - a quick check\n",
    "math_dtypes = math_df.dtypes\n",
    "por_dtypes = por_df.dtypes\n",
    "print(\"Data types in Math dataset:\\n\", math_dtypes)\n",
    "print(\"\\nData types in Portuguese dataset:\\n\", por_dtypes)"
   ],
   "metadata": {
    "collapsed": false,
    "ExecuteTime": {
     "end_time": "2024-03-06T00:35:12.272522Z",
     "start_time": "2024-03-06T00:35:12.266520Z"
    }
   },
   "id": "a5abc5e9d916d3a1",
   "execution_count": 9
  },
  {
   "cell_type": "code",
   "outputs": [
    {
     "data": {
      "text/plain": "              age  mother_edu  father_edu  traveltime   studytime    failures  \\\ncount  395.000000  395.000000  395.000000  395.000000  395.000000  395.000000   \nmean    16.696203    2.749367    2.521519    1.448101    2.035443    0.334177   \nstd      1.276043    1.094735    1.088201    0.697505    0.839240    0.743651   \nmin     15.000000    0.000000    0.000000    1.000000    1.000000    0.000000   \n25%     16.000000    2.000000    2.000000    1.000000    1.000000    0.000000   \n50%     17.000000    3.000000    2.000000    1.000000    2.000000    0.000000   \n75%     18.000000    4.000000    3.000000    2.000000    2.000000    0.000000   \nmax     22.000000    4.000000    4.000000    4.000000    4.000000    3.000000   \n\n       family_relationship    freetime       goout  workday_alc  weekend_alc  \\\ncount           395.000000  395.000000  395.000000   395.000000   395.000000   \nmean              3.944304    3.235443    3.108861     1.481013     2.291139   \nstd               0.896659    0.998862    1.113278     0.890741     1.287897   \nmin               1.000000    1.000000    1.000000     1.000000     1.000000   \n25%               4.000000    3.000000    2.000000     1.000000     1.000000   \n50%               4.000000    3.000000    3.000000     1.000000     2.000000   \n75%               5.000000    4.000000    4.000000     2.000000     3.000000   \nmax               5.000000    5.000000    5.000000     5.000000     5.000000   \n\n           health    absences          G1          G2          G3  \ncount  395.000000  395.000000  395.000000  395.000000  395.000000  \nmean     3.554430    5.708861   10.908861   10.713924   10.415190  \nstd      1.390303    8.003096    3.319195    3.761505    4.581443  \nmin      1.000000    0.000000    3.000000    0.000000    0.000000  \n25%      3.000000    0.000000    8.000000    9.000000    8.000000  \n50%      4.000000    4.000000   11.000000   11.000000   11.000000  \n75%      5.000000    8.000000   13.000000   13.000000   14.000000  \nmax      5.000000   75.000000   19.000000   19.000000   20.000000  ",
      "text/html": "<div>\n<style scoped>\n    .dataframe tbody tr th:only-of-type {\n        vertical-align: middle;\n    }\n\n    .dataframe tbody tr th {\n        vertical-align: top;\n    }\n\n    .dataframe thead th {\n        text-align: right;\n    }\n</style>\n<table border=\"1\" class=\"dataframe\">\n  <thead>\n    <tr style=\"text-align: right;\">\n      <th></th>\n      <th>age</th>\n      <th>mother_edu</th>\n      <th>father_edu</th>\n      <th>traveltime</th>\n      <th>studytime</th>\n      <th>failures</th>\n      <th>family_relationship</th>\n      <th>freetime</th>\n      <th>goout</th>\n      <th>workday_alc</th>\n      <th>weekend_alc</th>\n      <th>health</th>\n      <th>absences</th>\n      <th>G1</th>\n      <th>G2</th>\n      <th>G3</th>\n    </tr>\n  </thead>\n  <tbody>\n    <tr>\n      <th>count</th>\n      <td>395.000000</td>\n      <td>395.000000</td>\n      <td>395.000000</td>\n      <td>395.000000</td>\n      <td>395.000000</td>\n      <td>395.000000</td>\n      <td>395.000000</td>\n      <td>395.000000</td>\n      <td>395.000000</td>\n      <td>395.000000</td>\n      <td>395.000000</td>\n      <td>395.000000</td>\n      <td>395.000000</td>\n      <td>395.000000</td>\n      <td>395.000000</td>\n      <td>395.000000</td>\n    </tr>\n    <tr>\n      <th>mean</th>\n      <td>16.696203</td>\n      <td>2.749367</td>\n      <td>2.521519</td>\n      <td>1.448101</td>\n      <td>2.035443</td>\n      <td>0.334177</td>\n      <td>3.944304</td>\n      <td>3.235443</td>\n      <td>3.108861</td>\n      <td>1.481013</td>\n      <td>2.291139</td>\n      <td>3.554430</td>\n      <td>5.708861</td>\n      <td>10.908861</td>\n      <td>10.713924</td>\n      <td>10.415190</td>\n    </tr>\n    <tr>\n      <th>std</th>\n      <td>1.276043</td>\n      <td>1.094735</td>\n      <td>1.088201</td>\n      <td>0.697505</td>\n      <td>0.839240</td>\n      <td>0.743651</td>\n      <td>0.896659</td>\n      <td>0.998862</td>\n      <td>1.113278</td>\n      <td>0.890741</td>\n      <td>1.287897</td>\n      <td>1.390303</td>\n      <td>8.003096</td>\n      <td>3.319195</td>\n      <td>3.761505</td>\n      <td>4.581443</td>\n    </tr>\n    <tr>\n      <th>min</th>\n      <td>15.000000</td>\n      <td>0.000000</td>\n      <td>0.000000</td>\n      <td>1.000000</td>\n      <td>1.000000</td>\n      <td>0.000000</td>\n      <td>1.000000</td>\n      <td>1.000000</td>\n      <td>1.000000</td>\n      <td>1.000000</td>\n      <td>1.000000</td>\n      <td>1.000000</td>\n      <td>0.000000</td>\n      <td>3.000000</td>\n      <td>0.000000</td>\n      <td>0.000000</td>\n    </tr>\n    <tr>\n      <th>25%</th>\n      <td>16.000000</td>\n      <td>2.000000</td>\n      <td>2.000000</td>\n      <td>1.000000</td>\n      <td>1.000000</td>\n      <td>0.000000</td>\n      <td>4.000000</td>\n      <td>3.000000</td>\n      <td>2.000000</td>\n      <td>1.000000</td>\n      <td>1.000000</td>\n      <td>3.000000</td>\n      <td>0.000000</td>\n      <td>8.000000</td>\n      <td>9.000000</td>\n      <td>8.000000</td>\n    </tr>\n    <tr>\n      <th>50%</th>\n      <td>17.000000</td>\n      <td>3.000000</td>\n      <td>2.000000</td>\n      <td>1.000000</td>\n      <td>2.000000</td>\n      <td>0.000000</td>\n      <td>4.000000</td>\n      <td>3.000000</td>\n      <td>3.000000</td>\n      <td>1.000000</td>\n      <td>2.000000</td>\n      <td>4.000000</td>\n      <td>4.000000</td>\n      <td>11.000000</td>\n      <td>11.000000</td>\n      <td>11.000000</td>\n    </tr>\n    <tr>\n      <th>75%</th>\n      <td>18.000000</td>\n      <td>4.000000</td>\n      <td>3.000000</td>\n      <td>2.000000</td>\n      <td>2.000000</td>\n      <td>0.000000</td>\n      <td>5.000000</td>\n      <td>4.000000</td>\n      <td>4.000000</td>\n      <td>2.000000</td>\n      <td>3.000000</td>\n      <td>5.000000</td>\n      <td>8.000000</td>\n      <td>13.000000</td>\n      <td>13.000000</td>\n      <td>14.000000</td>\n    </tr>\n    <tr>\n      <th>max</th>\n      <td>22.000000</td>\n      <td>4.000000</td>\n      <td>4.000000</td>\n      <td>4.000000</td>\n      <td>4.000000</td>\n      <td>3.000000</td>\n      <td>5.000000</td>\n      <td>5.000000</td>\n      <td>5.000000</td>\n      <td>5.000000</td>\n      <td>5.000000</td>\n      <td>5.000000</td>\n      <td>75.000000</td>\n      <td>19.000000</td>\n      <td>19.000000</td>\n      <td>20.000000</td>\n    </tr>\n  </tbody>\n</table>\n</div>"
     },
     "execution_count": 10,
     "metadata": {},
     "output_type": "execute_result"
    }
   ],
   "source": [
    "# Step 4: Outliers - Checking for outliers\n",
    "math_df.describe()"
   ],
   "metadata": {
    "collapsed": false,
    "ExecuteTime": {
     "end_time": "2024-03-06T00:35:12.314523Z",
     "start_time": "2024-03-06T00:35:12.273521Z"
    }
   },
   "id": "121f456fb44d2f0a",
   "execution_count": 10
  },
  {
   "cell_type": "code",
   "outputs": [
    {
     "data": {
      "text/plain": "              age  mother_edu  father_edu  traveltime   studytime    failures  \\\ncount  649.000000  649.000000  649.000000  649.000000  649.000000  649.000000   \nmean    16.744222    2.514638    2.306626    1.568567    1.930663    0.221880   \nstd      1.218138    1.134552    1.099931    0.748660    0.829510    0.593235   \nmin     15.000000    0.000000    0.000000    1.000000    1.000000    0.000000   \n25%     16.000000    2.000000    1.000000    1.000000    1.000000    0.000000   \n50%     17.000000    2.000000    2.000000    1.000000    2.000000    0.000000   \n75%     18.000000    4.000000    3.000000    2.000000    2.000000    0.000000   \nmax     22.000000    4.000000    4.000000    4.000000    4.000000    3.000000   \n\n       family_relationship    freetime       goout  workday_alc  weekend_alc  \\\ncount           649.000000  649.000000  649.000000   649.000000   649.000000   \nmean              3.930663    3.180277    3.184900     1.502311     2.280431   \nstd               0.955717    1.051093    1.175766     0.924834     1.284380   \nmin               1.000000    1.000000    1.000000     1.000000     1.000000   \n25%               4.000000    3.000000    2.000000     1.000000     1.000000   \n50%               4.000000    3.000000    3.000000     1.000000     2.000000   \n75%               5.000000    4.000000    4.000000     2.000000     3.000000   \nmax               5.000000    5.000000    5.000000     5.000000     5.000000   \n\n           health    absences          G1          G2          G3  \ncount  649.000000  649.000000  649.000000  649.000000  649.000000  \nmean     3.536210    3.659476   11.399076   11.570108   11.906009  \nstd      1.446259    4.640759    2.745265    2.913639    3.230656  \nmin      1.000000    0.000000    0.000000    0.000000    0.000000  \n25%      2.000000    0.000000   10.000000   10.000000   10.000000  \n50%      4.000000    2.000000   11.000000   11.000000   12.000000  \n75%      5.000000    6.000000   13.000000   13.000000   14.000000  \nmax      5.000000   32.000000   19.000000   19.000000   19.000000  ",
      "text/html": "<div>\n<style scoped>\n    .dataframe tbody tr th:only-of-type {\n        vertical-align: middle;\n    }\n\n    .dataframe tbody tr th {\n        vertical-align: top;\n    }\n\n    .dataframe thead th {\n        text-align: right;\n    }\n</style>\n<table border=\"1\" class=\"dataframe\">\n  <thead>\n    <tr style=\"text-align: right;\">\n      <th></th>\n      <th>age</th>\n      <th>mother_edu</th>\n      <th>father_edu</th>\n      <th>traveltime</th>\n      <th>studytime</th>\n      <th>failures</th>\n      <th>family_relationship</th>\n      <th>freetime</th>\n      <th>goout</th>\n      <th>workday_alc</th>\n      <th>weekend_alc</th>\n      <th>health</th>\n      <th>absences</th>\n      <th>G1</th>\n      <th>G2</th>\n      <th>G3</th>\n    </tr>\n  </thead>\n  <tbody>\n    <tr>\n      <th>count</th>\n      <td>649.000000</td>\n      <td>649.000000</td>\n      <td>649.000000</td>\n      <td>649.000000</td>\n      <td>649.000000</td>\n      <td>649.000000</td>\n      <td>649.000000</td>\n      <td>649.000000</td>\n      <td>649.000000</td>\n      <td>649.000000</td>\n      <td>649.000000</td>\n      <td>649.000000</td>\n      <td>649.000000</td>\n      <td>649.000000</td>\n      <td>649.000000</td>\n      <td>649.000000</td>\n    </tr>\n    <tr>\n      <th>mean</th>\n      <td>16.744222</td>\n      <td>2.514638</td>\n      <td>2.306626</td>\n      <td>1.568567</td>\n      <td>1.930663</td>\n      <td>0.221880</td>\n      <td>3.930663</td>\n      <td>3.180277</td>\n      <td>3.184900</td>\n      <td>1.502311</td>\n      <td>2.280431</td>\n      <td>3.536210</td>\n      <td>3.659476</td>\n      <td>11.399076</td>\n      <td>11.570108</td>\n      <td>11.906009</td>\n    </tr>\n    <tr>\n      <th>std</th>\n      <td>1.218138</td>\n      <td>1.134552</td>\n      <td>1.099931</td>\n      <td>0.748660</td>\n      <td>0.829510</td>\n      <td>0.593235</td>\n      <td>0.955717</td>\n      <td>1.051093</td>\n      <td>1.175766</td>\n      <td>0.924834</td>\n      <td>1.284380</td>\n      <td>1.446259</td>\n      <td>4.640759</td>\n      <td>2.745265</td>\n      <td>2.913639</td>\n      <td>3.230656</td>\n    </tr>\n    <tr>\n      <th>min</th>\n      <td>15.000000</td>\n      <td>0.000000</td>\n      <td>0.000000</td>\n      <td>1.000000</td>\n      <td>1.000000</td>\n      <td>0.000000</td>\n      <td>1.000000</td>\n      <td>1.000000</td>\n      <td>1.000000</td>\n      <td>1.000000</td>\n      <td>1.000000</td>\n      <td>1.000000</td>\n      <td>0.000000</td>\n      <td>0.000000</td>\n      <td>0.000000</td>\n      <td>0.000000</td>\n    </tr>\n    <tr>\n      <th>25%</th>\n      <td>16.000000</td>\n      <td>2.000000</td>\n      <td>1.000000</td>\n      <td>1.000000</td>\n      <td>1.000000</td>\n      <td>0.000000</td>\n      <td>4.000000</td>\n      <td>3.000000</td>\n      <td>2.000000</td>\n      <td>1.000000</td>\n      <td>1.000000</td>\n      <td>2.000000</td>\n      <td>0.000000</td>\n      <td>10.000000</td>\n      <td>10.000000</td>\n      <td>10.000000</td>\n    </tr>\n    <tr>\n      <th>50%</th>\n      <td>17.000000</td>\n      <td>2.000000</td>\n      <td>2.000000</td>\n      <td>1.000000</td>\n      <td>2.000000</td>\n      <td>0.000000</td>\n      <td>4.000000</td>\n      <td>3.000000</td>\n      <td>3.000000</td>\n      <td>1.000000</td>\n      <td>2.000000</td>\n      <td>4.000000</td>\n      <td>2.000000</td>\n      <td>11.000000</td>\n      <td>11.000000</td>\n      <td>12.000000</td>\n    </tr>\n    <tr>\n      <th>75%</th>\n      <td>18.000000</td>\n      <td>4.000000</td>\n      <td>3.000000</td>\n      <td>2.000000</td>\n      <td>2.000000</td>\n      <td>0.000000</td>\n      <td>5.000000</td>\n      <td>4.000000</td>\n      <td>4.000000</td>\n      <td>2.000000</td>\n      <td>3.000000</td>\n      <td>5.000000</td>\n      <td>6.000000</td>\n      <td>13.000000</td>\n      <td>13.000000</td>\n      <td>14.000000</td>\n    </tr>\n    <tr>\n      <th>max</th>\n      <td>22.000000</td>\n      <td>4.000000</td>\n      <td>4.000000</td>\n      <td>4.000000</td>\n      <td>4.000000</td>\n      <td>3.000000</td>\n      <td>5.000000</td>\n      <td>5.000000</td>\n      <td>5.000000</td>\n      <td>5.000000</td>\n      <td>5.000000</td>\n      <td>5.000000</td>\n      <td>32.000000</td>\n      <td>19.000000</td>\n      <td>19.000000</td>\n      <td>19.000000</td>\n    </tr>\n  </tbody>\n</table>\n</div>"
     },
     "execution_count": 11,
     "metadata": {},
     "output_type": "execute_result"
    }
   ],
   "source": [
    "por_df.describe()"
   ],
   "metadata": {
    "collapsed": false,
    "ExecuteTime": {
     "end_time": "2024-03-06T00:35:12.351524Z",
     "start_time": "2024-03-06T00:35:12.316523Z"
    }
   },
   "id": "c833dc29be43f79a",
   "execution_count": 11
  },
  {
   "cell_type": "code",
   "outputs": [
    {
     "data": {
      "text/plain": "                   school sex  age address family_size parent_status  \\\n0         Gabriel Pereira   F   18   urban         GT3         apart   \n1         Gabriel Pereira   F   17   urban         GT3      together   \n2         Gabriel Pereira   F   15   urban         LE3      together   \n3         Gabriel Pereira   F   15   urban         GT3      together   \n4         Gabriel Pereira   F   16   urban         GT3      together   \n..                    ...  ..  ...     ...         ...           ...   \n390  Mousinho da Silveira   M   20   urban         LE3         apart   \n391  Mousinho da Silveira   M   17   urban         LE3      together   \n392  Mousinho da Silveira   M   21   rural         GT3      together   \n393  Mousinho da Silveira   M   18   rural         LE3      together   \n394  Mousinho da Silveira   M   19   urban         LE3      together   \n\n     mother_edu  father_edu mother_job father_job  ... family_relationship  \\\n0             4           4    at_home    teacher  ...                   4   \n1             1           1    at_home      other  ...                   5   \n2             1           1    at_home      other  ...                   4   \n3             4           2     health   services  ...                   3   \n4             3           3      other      other  ...                   4   \n..          ...         ...        ...        ...  ...                 ...   \n390           2           2   services   services  ...                   5   \n391           3           1   services   services  ...                   2   \n392           1           1      other      other  ...                   5   \n393           3           2   services      other  ...                   4   \n394           1           1      other    at_home  ...                   3   \n\n    freetime  goout  workday_alc  weekend_alc health absences  G1  G2  G3  \n0          3      4            1            1      3        6   5   6   6  \n1          3      3            1            1      3        4   5   5   6  \n2          3      2            2            3      3       10   7   8  10  \n3          2      2            1            1      5        2  15  14  15  \n4          3      2            1            2      5        4   6  10  10  \n..       ...    ...          ...          ...    ...      ...  ..  ..  ..  \n390        5      4            4            5      4       11   9   9   9  \n391        4      5            3            4      2        3  14  16  16  \n392        5      3            3            3      3        3  10   8   7  \n393        4      1            3            4      5        0  11  12  10  \n394        2      3            3            3      5        5   8   9   9  \n\n[395 rows x 33 columns]",
      "text/html": "<div>\n<style scoped>\n    .dataframe tbody tr th:only-of-type {\n        vertical-align: middle;\n    }\n\n    .dataframe tbody tr th {\n        vertical-align: top;\n    }\n\n    .dataframe thead th {\n        text-align: right;\n    }\n</style>\n<table border=\"1\" class=\"dataframe\">\n  <thead>\n    <tr style=\"text-align: right;\">\n      <th></th>\n      <th>school</th>\n      <th>sex</th>\n      <th>age</th>\n      <th>address</th>\n      <th>family_size</th>\n      <th>parent_status</th>\n      <th>mother_edu</th>\n      <th>father_edu</th>\n      <th>mother_job</th>\n      <th>father_job</th>\n      <th>...</th>\n      <th>family_relationship</th>\n      <th>freetime</th>\n      <th>goout</th>\n      <th>workday_alc</th>\n      <th>weekend_alc</th>\n      <th>health</th>\n      <th>absences</th>\n      <th>G1</th>\n      <th>G2</th>\n      <th>G3</th>\n    </tr>\n  </thead>\n  <tbody>\n    <tr>\n      <th>0</th>\n      <td>Gabriel Pereira</td>\n      <td>F</td>\n      <td>18</td>\n      <td>urban</td>\n      <td>GT3</td>\n      <td>apart</td>\n      <td>4</td>\n      <td>4</td>\n      <td>at_home</td>\n      <td>teacher</td>\n      <td>...</td>\n      <td>4</td>\n      <td>3</td>\n      <td>4</td>\n      <td>1</td>\n      <td>1</td>\n      <td>3</td>\n      <td>6</td>\n      <td>5</td>\n      <td>6</td>\n      <td>6</td>\n    </tr>\n    <tr>\n      <th>1</th>\n      <td>Gabriel Pereira</td>\n      <td>F</td>\n      <td>17</td>\n      <td>urban</td>\n      <td>GT3</td>\n      <td>together</td>\n      <td>1</td>\n      <td>1</td>\n      <td>at_home</td>\n      <td>other</td>\n      <td>...</td>\n      <td>5</td>\n      <td>3</td>\n      <td>3</td>\n      <td>1</td>\n      <td>1</td>\n      <td>3</td>\n      <td>4</td>\n      <td>5</td>\n      <td>5</td>\n      <td>6</td>\n    </tr>\n    <tr>\n      <th>2</th>\n      <td>Gabriel Pereira</td>\n      <td>F</td>\n      <td>15</td>\n      <td>urban</td>\n      <td>LE3</td>\n      <td>together</td>\n      <td>1</td>\n      <td>1</td>\n      <td>at_home</td>\n      <td>other</td>\n      <td>...</td>\n      <td>4</td>\n      <td>3</td>\n      <td>2</td>\n      <td>2</td>\n      <td>3</td>\n      <td>3</td>\n      <td>10</td>\n      <td>7</td>\n      <td>8</td>\n      <td>10</td>\n    </tr>\n    <tr>\n      <th>3</th>\n      <td>Gabriel Pereira</td>\n      <td>F</td>\n      <td>15</td>\n      <td>urban</td>\n      <td>GT3</td>\n      <td>together</td>\n      <td>4</td>\n      <td>2</td>\n      <td>health</td>\n      <td>services</td>\n      <td>...</td>\n      <td>3</td>\n      <td>2</td>\n      <td>2</td>\n      <td>1</td>\n      <td>1</td>\n      <td>5</td>\n      <td>2</td>\n      <td>15</td>\n      <td>14</td>\n      <td>15</td>\n    </tr>\n    <tr>\n      <th>4</th>\n      <td>Gabriel Pereira</td>\n      <td>F</td>\n      <td>16</td>\n      <td>urban</td>\n      <td>GT3</td>\n      <td>together</td>\n      <td>3</td>\n      <td>3</td>\n      <td>other</td>\n      <td>other</td>\n      <td>...</td>\n      <td>4</td>\n      <td>3</td>\n      <td>2</td>\n      <td>1</td>\n      <td>2</td>\n      <td>5</td>\n      <td>4</td>\n      <td>6</td>\n      <td>10</td>\n      <td>10</td>\n    </tr>\n    <tr>\n      <th>...</th>\n      <td>...</td>\n      <td>...</td>\n      <td>...</td>\n      <td>...</td>\n      <td>...</td>\n      <td>...</td>\n      <td>...</td>\n      <td>...</td>\n      <td>...</td>\n      <td>...</td>\n      <td>...</td>\n      <td>...</td>\n      <td>...</td>\n      <td>...</td>\n      <td>...</td>\n      <td>...</td>\n      <td>...</td>\n      <td>...</td>\n      <td>...</td>\n      <td>...</td>\n      <td>...</td>\n    </tr>\n    <tr>\n      <th>390</th>\n      <td>Mousinho da Silveira</td>\n      <td>M</td>\n      <td>20</td>\n      <td>urban</td>\n      <td>LE3</td>\n      <td>apart</td>\n      <td>2</td>\n      <td>2</td>\n      <td>services</td>\n      <td>services</td>\n      <td>...</td>\n      <td>5</td>\n      <td>5</td>\n      <td>4</td>\n      <td>4</td>\n      <td>5</td>\n      <td>4</td>\n      <td>11</td>\n      <td>9</td>\n      <td>9</td>\n      <td>9</td>\n    </tr>\n    <tr>\n      <th>391</th>\n      <td>Mousinho da Silveira</td>\n      <td>M</td>\n      <td>17</td>\n      <td>urban</td>\n      <td>LE3</td>\n      <td>together</td>\n      <td>3</td>\n      <td>1</td>\n      <td>services</td>\n      <td>services</td>\n      <td>...</td>\n      <td>2</td>\n      <td>4</td>\n      <td>5</td>\n      <td>3</td>\n      <td>4</td>\n      <td>2</td>\n      <td>3</td>\n      <td>14</td>\n      <td>16</td>\n      <td>16</td>\n    </tr>\n    <tr>\n      <th>392</th>\n      <td>Mousinho da Silveira</td>\n      <td>M</td>\n      <td>21</td>\n      <td>rural</td>\n      <td>GT3</td>\n      <td>together</td>\n      <td>1</td>\n      <td>1</td>\n      <td>other</td>\n      <td>other</td>\n      <td>...</td>\n      <td>5</td>\n      <td>5</td>\n      <td>3</td>\n      <td>3</td>\n      <td>3</td>\n      <td>3</td>\n      <td>3</td>\n      <td>10</td>\n      <td>8</td>\n      <td>7</td>\n    </tr>\n    <tr>\n      <th>393</th>\n      <td>Mousinho da Silveira</td>\n      <td>M</td>\n      <td>18</td>\n      <td>rural</td>\n      <td>LE3</td>\n      <td>together</td>\n      <td>3</td>\n      <td>2</td>\n      <td>services</td>\n      <td>other</td>\n      <td>...</td>\n      <td>4</td>\n      <td>4</td>\n      <td>1</td>\n      <td>3</td>\n      <td>4</td>\n      <td>5</td>\n      <td>0</td>\n      <td>11</td>\n      <td>12</td>\n      <td>10</td>\n    </tr>\n    <tr>\n      <th>394</th>\n      <td>Mousinho da Silveira</td>\n      <td>M</td>\n      <td>19</td>\n      <td>urban</td>\n      <td>LE3</td>\n      <td>together</td>\n      <td>1</td>\n      <td>1</td>\n      <td>other</td>\n      <td>at_home</td>\n      <td>...</td>\n      <td>3</td>\n      <td>2</td>\n      <td>3</td>\n      <td>3</td>\n      <td>3</td>\n      <td>5</td>\n      <td>5</td>\n      <td>8</td>\n      <td>9</td>\n      <td>9</td>\n    </tr>\n  </tbody>\n</table>\n<p>395 rows × 33 columns</p>\n</div>"
     },
     "execution_count": 12,
     "metadata": {},
     "output_type": "execute_result"
    }
   ],
   "source": [
    "math_df"
   ],
   "metadata": {
    "collapsed": false,
    "ExecuteTime": {
     "end_time": "2024-03-06T00:35:12.371520Z",
     "start_time": "2024-03-06T00:35:12.352523Z"
    }
   },
   "id": "9a48fa1cd8b2946d",
   "execution_count": 12
  }
 ],
 "metadata": {
  "kernelspec": {
   "display_name": "Python 3",
   "language": "python",
   "name": "python3"
  },
  "language_info": {
   "codemirror_mode": {
    "name": "ipython",
    "version": 2
   },
   "file_extension": ".py",
   "mimetype": "text/x-python",
   "name": "python",
   "nbconvert_exporter": "python",
   "pygments_lexer": "ipython2",
   "version": "2.7.6"
  }
 },
 "nbformat": 4,
 "nbformat_minor": 5
}
