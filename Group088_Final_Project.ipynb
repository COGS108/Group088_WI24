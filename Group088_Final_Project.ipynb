{
 "cells": [
  {
   "cell_type": "code",
   "execution_count": 1,
   "id": "initial_id",
   "metadata": {
    "collapsed": true,
    "ExecuteTime": {
     "end_time": "2024-03-07T21:54:13.845799Z",
     "start_time": "2024-03-07T21:54:13.518452Z"
    }
   },
   "outputs": [],
   "source": [
    "import numpy as np\n",
    "import pandas as pd\n",
    "import matplotlib.pyplot as plt\n",
    "import seaborn as sns\n",
    "from sklearn import datasets\n",
    "from sklearn.model_selection import train_test_split\n",
    "from sklearn.linear_model import LinearRegression\n",
    "from sklearn.metrics import mean_squared_error\n",
    "import requests\n",
    "import json\n",
    "import io"
   ]
  },
  {
   "cell_type": "code",
   "outputs": [
    {
     "data": {
      "text/plain": "    school sex  age address famsize Pstatus  Medu  Fedu      Mjob      Fjob  \\\n0       GP   F   18       U     GT3       A     4     4   at_home   teacher   \n1       GP   F   17       U     GT3       T     1     1   at_home     other   \n2       GP   F   15       U     LE3       T     1     1   at_home     other   \n3       GP   F   15       U     GT3       T     4     2    health  services   \n4       GP   F   16       U     GT3       T     3     3     other     other   \n..     ...  ..  ...     ...     ...     ...   ...   ...       ...       ...   \n390     MS   M   20       U     LE3       A     2     2  services  services   \n391     MS   M   17       U     LE3       T     3     1  services  services   \n392     MS   M   21       R     GT3       T     1     1     other     other   \n393     MS   M   18       R     LE3       T     3     2  services     other   \n394     MS   M   19       U     LE3       T     1     1     other   at_home   \n\n     ... famrel freetime  goout  Dalc  Walc health absences  G1  G2  G3  \n0    ...      4        3      4     1     1      3        6   5   6   6  \n1    ...      5        3      3     1     1      3        4   5   5   6  \n2    ...      4        3      2     2     3      3       10   7   8  10  \n3    ...      3        2      2     1     1      5        2  15  14  15  \n4    ...      4        3      2     1     2      5        4   6  10  10  \n..   ...    ...      ...    ...   ...   ...    ...      ...  ..  ..  ..  \n390  ...      5        5      4     4     5      4       11   9   9   9  \n391  ...      2        4      5     3     4      2        3  14  16  16  \n392  ...      5        5      3     3     3      3        3  10   8   7  \n393  ...      4        4      1     3     4      5        0  11  12  10  \n394  ...      3        2      3     3     3      5        5   8   9   9  \n\n[395 rows x 33 columns]",
      "text/html": "<div>\n<style scoped>\n    .dataframe tbody tr th:only-of-type {\n        vertical-align: middle;\n    }\n\n    .dataframe tbody tr th {\n        vertical-align: top;\n    }\n\n    .dataframe thead th {\n        text-align: right;\n    }\n</style>\n<table border=\"1\" class=\"dataframe\">\n  <thead>\n    <tr style=\"text-align: right;\">\n      <th></th>\n      <th>school</th>\n      <th>sex</th>\n      <th>age</th>\n      <th>address</th>\n      <th>famsize</th>\n      <th>Pstatus</th>\n      <th>Medu</th>\n      <th>Fedu</th>\n      <th>Mjob</th>\n      <th>Fjob</th>\n      <th>...</th>\n      <th>famrel</th>\n      <th>freetime</th>\n      <th>goout</th>\n      <th>Dalc</th>\n      <th>Walc</th>\n      <th>health</th>\n      <th>absences</th>\n      <th>G1</th>\n      <th>G2</th>\n      <th>G3</th>\n    </tr>\n  </thead>\n  <tbody>\n    <tr>\n      <th>0</th>\n      <td>GP</td>\n      <td>F</td>\n      <td>18</td>\n      <td>U</td>\n      <td>GT3</td>\n      <td>A</td>\n      <td>4</td>\n      <td>4</td>\n      <td>at_home</td>\n      <td>teacher</td>\n      <td>...</td>\n      <td>4</td>\n      <td>3</td>\n      <td>4</td>\n      <td>1</td>\n      <td>1</td>\n      <td>3</td>\n      <td>6</td>\n      <td>5</td>\n      <td>6</td>\n      <td>6</td>\n    </tr>\n    <tr>\n      <th>1</th>\n      <td>GP</td>\n      <td>F</td>\n      <td>17</td>\n      <td>U</td>\n      <td>GT3</td>\n      <td>T</td>\n      <td>1</td>\n      <td>1</td>\n      <td>at_home</td>\n      <td>other</td>\n      <td>...</td>\n      <td>5</td>\n      <td>3</td>\n      <td>3</td>\n      <td>1</td>\n      <td>1</td>\n      <td>3</td>\n      <td>4</td>\n      <td>5</td>\n      <td>5</td>\n      <td>6</td>\n    </tr>\n    <tr>\n      <th>2</th>\n      <td>GP</td>\n      <td>F</td>\n      <td>15</td>\n      <td>U</td>\n      <td>LE3</td>\n      <td>T</td>\n      <td>1</td>\n      <td>1</td>\n      <td>at_home</td>\n      <td>other</td>\n      <td>...</td>\n      <td>4</td>\n      <td>3</td>\n      <td>2</td>\n      <td>2</td>\n      <td>3</td>\n      <td>3</td>\n      <td>10</td>\n      <td>7</td>\n      <td>8</td>\n      <td>10</td>\n    </tr>\n    <tr>\n      <th>3</th>\n      <td>GP</td>\n      <td>F</td>\n      <td>15</td>\n      <td>U</td>\n      <td>GT3</td>\n      <td>T</td>\n      <td>4</td>\n      <td>2</td>\n      <td>health</td>\n      <td>services</td>\n      <td>...</td>\n      <td>3</td>\n      <td>2</td>\n      <td>2</td>\n      <td>1</td>\n      <td>1</td>\n      <td>5</td>\n      <td>2</td>\n      <td>15</td>\n      <td>14</td>\n      <td>15</td>\n    </tr>\n    <tr>\n      <th>4</th>\n      <td>GP</td>\n      <td>F</td>\n      <td>16</td>\n      <td>U</td>\n      <td>GT3</td>\n      <td>T</td>\n      <td>3</td>\n      <td>3</td>\n      <td>other</td>\n      <td>other</td>\n      <td>...</td>\n      <td>4</td>\n      <td>3</td>\n      <td>2</td>\n      <td>1</td>\n      <td>2</td>\n      <td>5</td>\n      <td>4</td>\n      <td>6</td>\n      <td>10</td>\n      <td>10</td>\n    </tr>\n    <tr>\n      <th>...</th>\n      <td>...</td>\n      <td>...</td>\n      <td>...</td>\n      <td>...</td>\n      <td>...</td>\n      <td>...</td>\n      <td>...</td>\n      <td>...</td>\n      <td>...</td>\n      <td>...</td>\n      <td>...</td>\n      <td>...</td>\n      <td>...</td>\n      <td>...</td>\n      <td>...</td>\n      <td>...</td>\n      <td>...</td>\n      <td>...</td>\n      <td>...</td>\n      <td>...</td>\n      <td>...</td>\n    </tr>\n    <tr>\n      <th>390</th>\n      <td>MS</td>\n      <td>M</td>\n      <td>20</td>\n      <td>U</td>\n      <td>LE3</td>\n      <td>A</td>\n      <td>2</td>\n      <td>2</td>\n      <td>services</td>\n      <td>services</td>\n      <td>...</td>\n      <td>5</td>\n      <td>5</td>\n      <td>4</td>\n      <td>4</td>\n      <td>5</td>\n      <td>4</td>\n      <td>11</td>\n      <td>9</td>\n      <td>9</td>\n      <td>9</td>\n    </tr>\n    <tr>\n      <th>391</th>\n      <td>MS</td>\n      <td>M</td>\n      <td>17</td>\n      <td>U</td>\n      <td>LE3</td>\n      <td>T</td>\n      <td>3</td>\n      <td>1</td>\n      <td>services</td>\n      <td>services</td>\n      <td>...</td>\n      <td>2</td>\n      <td>4</td>\n      <td>5</td>\n      <td>3</td>\n      <td>4</td>\n      <td>2</td>\n      <td>3</td>\n      <td>14</td>\n      <td>16</td>\n      <td>16</td>\n    </tr>\n    <tr>\n      <th>392</th>\n      <td>MS</td>\n      <td>M</td>\n      <td>21</td>\n      <td>R</td>\n      <td>GT3</td>\n      <td>T</td>\n      <td>1</td>\n      <td>1</td>\n      <td>other</td>\n      <td>other</td>\n      <td>...</td>\n      <td>5</td>\n      <td>5</td>\n      <td>3</td>\n      <td>3</td>\n      <td>3</td>\n      <td>3</td>\n      <td>3</td>\n      <td>10</td>\n      <td>8</td>\n      <td>7</td>\n    </tr>\n    <tr>\n      <th>393</th>\n      <td>MS</td>\n      <td>M</td>\n      <td>18</td>\n      <td>R</td>\n      <td>LE3</td>\n      <td>T</td>\n      <td>3</td>\n      <td>2</td>\n      <td>services</td>\n      <td>other</td>\n      <td>...</td>\n      <td>4</td>\n      <td>4</td>\n      <td>1</td>\n      <td>3</td>\n      <td>4</td>\n      <td>5</td>\n      <td>0</td>\n      <td>11</td>\n      <td>12</td>\n      <td>10</td>\n    </tr>\n    <tr>\n      <th>394</th>\n      <td>MS</td>\n      <td>M</td>\n      <td>19</td>\n      <td>U</td>\n      <td>LE3</td>\n      <td>T</td>\n      <td>1</td>\n      <td>1</td>\n      <td>other</td>\n      <td>at_home</td>\n      <td>...</td>\n      <td>3</td>\n      <td>2</td>\n      <td>3</td>\n      <td>3</td>\n      <td>3</td>\n      <td>5</td>\n      <td>5</td>\n      <td>8</td>\n      <td>9</td>\n      <td>9</td>\n    </tr>\n  </tbody>\n</table>\n<p>395 rows × 33 columns</p>\n</div>"
     },
     "execution_count": 2,
     "metadata": {},
     "output_type": "execute_result"
    }
   ],
   "source": [
    "# load the data\n",
    "math_df = pd.read_csv('student-mat.csv')\n",
    "por_df = pd.read_csv('student-por.csv')\n",
    "math_df"
   ],
   "metadata": {
    "collapsed": false,
    "ExecuteTime": {
     "end_time": "2024-03-07T21:54:13.877357Z",
     "start_time": "2024-03-07T21:54:13.846725Z"
    }
   },
   "id": "38bb5064b3a7b2df",
   "execution_count": 2
  },
  {
   "cell_type": "code",
   "outputs": [
    {
     "name": "stderr",
     "output_type": "stream",
     "text": [
      "C:\\Users\\Nhat\\AppData\\Local\\Temp\\ipykernel_23692\\3743672541.py:8: FutureWarning: A value is trying to be set on a copy of a DataFrame or Series through chained assignment using an inplace method.\n",
      "The behavior will change in pandas 3.0. This inplace method will never work because the intermediate object on which we are setting values always behaves as a copy.\n",
      "\n",
      "For example, when doing 'df[col].method(value, inplace=True)', try using 'df.method({col: value}, inplace=True)' or df[col] = df[col].method(value) instead, to perform the operation inplace on the original object.\n",
      "\n",
      "\n",
      "  math_df['absences'].fillna(math_df['absences'].mean(), inplace=True)\n",
      "C:\\Users\\Nhat\\AppData\\Local\\Temp\\ipykernel_23692\\3743672541.py:9: FutureWarning: A value is trying to be set on a copy of a DataFrame or Series through chained assignment using an inplace method.\n",
      "The behavior will change in pandas 3.0. This inplace method will never work because the intermediate object on which we are setting values always behaves as a copy.\n",
      "\n",
      "For example, when doing 'df[col].method(value, inplace=True)', try using 'df.method({col: value}, inplace=True)' or df[col] = df[col].method(value) instead, to perform the operation inplace on the original object.\n",
      "\n",
      "\n",
      "  por_df['absences'].fillna(por_df['absences'].mean(), inplace=True)\n"
     ]
    }
   ],
   "source": [
    "#### Data Clean for math_df and por_df\n",
    "\n",
    "## Removing rows with missing values\n",
    "math_df.dropna(inplace=True)\n",
    "por_df.dropna(inplace=True)\n",
    "\n",
    "## Imputing missing 'absensces' with the mean weight\n",
    "math_df['absences'].fillna(math_df['absences'].mean(), inplace=True)\n",
    "por_df['absences'].fillna(por_df['absences'].mean(), inplace=True)"
   ],
   "metadata": {
    "collapsed": false,
    "ExecuteTime": {
     "end_time": "2024-03-07T21:54:15.237339Z",
     "start_time": "2024-03-07T21:54:15.221396Z"
    }
   },
   "id": "d3d81b6675f6da35",
   "execution_count": 3
  },
  {
   "cell_type": "code",
   "outputs": [
    {
     "data": {
      "text/plain": "((395, 33), (649, 33))"
     },
     "execution_count": 4,
     "metadata": {},
     "output_type": "execute_result"
    }
   ],
   "source": [
    "# Check the shape of the data\n",
    "math_df.shape, por_df.shape"
   ],
   "metadata": {
    "collapsed": false,
    "ExecuteTime": {
     "end_time": "2024-03-07T21:54:24.287424Z",
     "start_time": "2024-03-07T21:54:24.276492Z"
    }
   },
   "id": "96dc55f6ea0525bd",
   "execution_count": 4
  },
  {
   "cell_type": "code",
   "outputs": [
    {
     "name": "stdout",
     "output_type": "stream",
     "text": [
      "Math dataset:\n",
      "school        0\n",
      "sex           0\n",
      "age           0\n",
      "address       0\n",
      "famsize       0\n",
      "Pstatus       0\n",
      "Medu          0\n",
      "Fedu          0\n",
      "Mjob          0\n",
      "Fjob          0\n",
      "reason        0\n",
      "guardian      0\n",
      "traveltime    0\n",
      "studytime     0\n",
      "failures      0\n",
      "schoolsup     0\n",
      "famsup        0\n",
      "paid          0\n",
      "activities    0\n",
      "nursery       0\n",
      "higher        0\n",
      "internet      0\n",
      "romantic      0\n",
      "famrel        0\n",
      "freetime      0\n",
      "goout         0\n",
      "Dalc          0\n",
      "Walc          0\n",
      "health        0\n",
      "absences      0\n",
      "G1            0\n",
      "G2            0\n",
      "G3            0\n",
      "dtype: int64\n",
      "\n",
      "Portuguese dataset:\n",
      "school        0\n",
      "sex           0\n",
      "age           0\n",
      "address       0\n",
      "famsize       0\n",
      "Pstatus       0\n",
      "Medu          0\n",
      "Fedu          0\n",
      "Mjob          0\n",
      "Fjob          0\n",
      "reason        0\n",
      "guardian      0\n",
      "traveltime    0\n",
      "studytime     0\n",
      "failures      0\n",
      "schoolsup     0\n",
      "famsup        0\n",
      "paid          0\n",
      "activities    0\n",
      "nursery       0\n",
      "higher        0\n",
      "internet      0\n",
      "romantic      0\n",
      "famrel        0\n",
      "freetime      0\n",
      "goout         0\n",
      "Dalc          0\n",
      "Walc          0\n",
      "health        0\n",
      "absences      0\n",
      "G1            0\n",
      "G2            0\n",
      "G3            0\n",
      "dtype: int64\n"
     ]
    }
   ],
   "source": [
    "# Check if there is still any null values\n",
    "print(\"Math dataset:\")\n",
    "print(math_df.isnull().sum())\n",
    "print()\n",
    "print(\"Portuguese dataset:\")\n",
    "print(por_df.isnull().sum())"
   ],
   "metadata": {
    "collapsed": false,
    "ExecuteTime": {
     "end_time": "2024-03-07T21:56:58.553874Z",
     "start_time": "2024-03-07T21:56:58.539343Z"
    }
   },
   "id": "53e30f5a66089099",
   "execution_count": 9
  },
  {
   "cell_type": "code",
   "outputs": [],
   "source": [
    "# Rename columns to be more descriptive\n",
    "math_df.rename(columns={'Medu': 'mother_edu'}, inplace=True)\n",
    "por_df.rename(columns={'Medu': 'mother_edu'}, inplace=True)\n",
    "\n",
    "math_df.rename(columns={'Fedu': 'father_edu'}, inplace=True)\n",
    "por_df.rename(columns={'Fedu': 'father_edu'}, inplace=True)\n",
    "\n",
    "math_df.rename(columns={'Mjob': 'mother_job'}, inplace=True)\n",
    "por_df.rename(columns={'Mjob': 'mother_job'}, inplace=True)\n",
    "\n",
    "math_df.rename(columns={'Fjob': 'father_job'}, inplace=True)\n",
    "por_df.rename(columns={'Fjob': 'father_job'}, inplace=True)\n",
    "\n",
    "math_df.rename(columns={'Pstatus': 'parent_status'}, inplace=True)\n",
    "por_df.rename(columns={'Pstatus': 'parent_status'}, inplace=True)\n",
    "\n",
    "math_df.rename(columns={'famsize': 'family_size'}, inplace=True)\n",
    "por_df.rename(columns={'famsize': 'family_size'}, inplace=True)\n",
    "\n",
    "math_df.rename(columns={'famsup': 'family_support'}, inplace=True)\n",
    "por_df.rename(columns={'famsup': 'family_support'}, inplace=True)\n",
    "\n",
    "math_df.rename(columns={'famrel': 'family_relationship'}, inplace=True)\n",
    "por_df.rename(columns={'famrel': 'family_relationship'}, inplace=True)\n",
    "\n",
    "math_df.rename(columns={'schoolsup': 'edu_support'}, inplace=True)\n",
    "por_df.rename(columns={'schoolsup': 'edu_support'}, inplace=True)\n",
    "\n",
    "math_df.rename(columns={'Dalc': 'workday_alc'}, inplace=True)\n",
    "por_df.rename(columns={'Dalc': 'workday_alc'}, inplace=True)\n",
    "\n",
    "math_df.rename(columns={'Walc': 'weekend_alc'}, inplace=True)\n",
    "por_df.rename(columns={'Walc': 'weekend_alc'}, inplace=True)"
   ],
   "metadata": {
    "collapsed": false
   },
   "id": "f39dc4650f027ac1",
   "execution_count": null
  },
  {
   "cell_type": "code",
   "outputs": [],
   "source": [
    "math_df"
   ],
   "metadata": {
    "collapsed": false
   },
   "id": "4e4915c91fdc2ba6",
   "execution_count": null
  },
  {
   "cell_type": "code",
   "outputs": [],
   "source": [
    "def standardize_school(school):\n",
    "    if school == 'GP':\n",
    "        return 'Gabriel Pereira'\n",
    "    else:\n",
    "        return 'Mousinho da Silveira'\n",
    "\n",
    "def standardize_address(address):\n",
    "    if address == 'U':\n",
    "        return 'urban'\n",
    "    else:\n",
    "        return 'rural'\n",
    "    \n",
    "def standardize_parent_status(status):\n",
    "    if status == 'A':\n",
    "        return 'apart'\n",
    "    else:\n",
    "        return 'together'"
   ],
   "metadata": {
    "collapsed": false
   },
   "id": "4232c80e126f8649",
   "execution_count": null
  },
  {
   "cell_type": "code",
   "outputs": [],
   "source": [
    "math_df['school'] = math_df['school'].apply(standardize_school)\n",
    "por_df['school'] = por_df['school'].apply(standardize_school)\n",
    "\n",
    "math_df['address'] = math_df['address'].apply(standardize_address)\n",
    "por_df['address'] = por_df['address'].apply(standardize_address)\n",
    "\n",
    "math_df['parent_status'] = math_df['parent_status'].apply(standardize_parent_status)\n",
    "por_df['parent_status'] = por_df['parent_status'].apply(standardize_parent_status)"
   ],
   "metadata": {
    "collapsed": false
   },
   "id": "e2c293513e851cf3",
   "execution_count": null
  },
  {
   "cell_type": "code",
   "outputs": [],
   "source": [
    "# Step 1: Missing Values - Checking for missing values\n",
    "print(\"Missing values in Math dataset:\\n\", math_df.isnull().sum())\n",
    "print(\"\\nMissing values in Portuguese dataset:\\n\", por_df.isnull().sum())"
   ],
   "metadata": {
    "collapsed": false
   },
   "id": "c84187cf67417907",
   "execution_count": null
  },
  {
   "cell_type": "code",
   "outputs": [],
   "source": [
    "# Step 2: Duplicate Entries - Checking for duplicates\n",
    "math_duplicates = math_df.duplicated().sum()\n",
    "por_duplicates = por_df.duplicated().sum()\n",
    "print(\"Number of duplicate entries in Math dataset: \", math_duplicates)\n",
    "print(\"Number of duplicate entries in Portuguese dataset: \", por_duplicates)"
   ],
   "metadata": {
    "collapsed": false
   },
   "id": "24ea1e150b342284",
   "execution_count": null
  },
  {
   "cell_type": "code",
   "outputs": [],
   "source": [
    "# Convert to appropriate data types if necessary (Step 3) - a quick check\n",
    "math_dtypes = math_df.dtypes\n",
    "por_dtypes = por_df.dtypes\n",
    "print(\"Data types in Math dataset:\\n\", math_dtypes)\n",
    "print(\"\\nData types in Portuguese dataset:\\n\", por_dtypes)"
   ],
   "metadata": {
    "collapsed": false
   },
   "id": "a5abc5e9d916d3a1",
   "execution_count": null
  },
  {
   "cell_type": "code",
   "outputs": [],
   "source": [
    "# Step 4: Outliers - Checking for outliers\n",
    "math_df.describe()"
   ],
   "metadata": {
    "collapsed": false
   },
   "id": "121f456fb44d2f0a",
   "execution_count": null
  },
  {
   "cell_type": "code",
   "outputs": [],
   "source": [
    "por_df.describe()"
   ],
   "metadata": {
    "collapsed": false
   },
   "id": "c833dc29be43f79a",
   "execution_count": null
  },
  {
   "cell_type": "code",
   "outputs": [],
   "source": [
    "math_df"
   ],
   "metadata": {
    "collapsed": false
   },
   "id": "9a48fa1cd8b2946d",
   "execution_count": null
  },
  {
   "cell_type": "code",
   "outputs": [],
   "source": [
    "math_df['age'].value_counts()"
   ],
   "metadata": {
    "collapsed": false
   },
   "id": "ebeb3152b77003ab",
   "execution_count": null
  },
  {
   "cell_type": "code",
   "outputs": [],
   "source": [
    "por_df['age'].value_counts()"
   ],
   "metadata": {
    "collapsed": false
   },
   "id": "c7c1ffb90225fa66",
   "execution_count": null
  },
  {
   "cell_type": "code",
   "outputs": [],
   "source": [
    "math_df['reason'].value_counts()"
   ],
   "metadata": {
    "collapsed": false
   },
   "id": "37e85bf38732e710",
   "execution_count": null
  },
  {
   "cell_type": "code",
   "outputs": [],
   "source": [
    "# math_df = math_df[['sex', 'G1', 'G2', 'G3', 'health', 'absences', 'family_relationship', 'workday_alc', 'weekend_alc', 'studytime', 'freetime', 'goout']]\n",
    "# por_df = por_df[['sex', 'G1', 'G2', 'G3', 'health', 'absences', 'family_relationship', 'workday_alc', 'weekend_alc', 'studytime', 'freetime', 'goout']]"
   ],
   "metadata": {
    "collapsed": false
   },
   "id": "6b240d27fe222364",
   "execution_count": null
  },
  {
   "cell_type": "code",
   "outputs": [],
   "source": [
    "# math_df"
   ],
   "metadata": {
    "collapsed": false
   },
   "id": "3cb7b57513331a2",
   "execution_count": null
  },
  {
   "cell_type": "markdown",
   "source": [],
   "metadata": {
    "collapsed": false
   },
   "id": "4fe21963cdfd4ba8"
  }
 ],
 "metadata": {
  "kernelspec": {
   "display_name": "Python 3",
   "language": "python",
   "name": "python3"
  },
  "language_info": {
   "codemirror_mode": {
    "name": "ipython",
    "version": 2
   },
   "file_extension": ".py",
   "mimetype": "text/x-python",
   "name": "python",
   "nbconvert_exporter": "python",
   "pygments_lexer": "ipython2",
   "version": "2.7.6"
  }
 },
 "nbformat": 4,
 "nbformat_minor": 5
}
