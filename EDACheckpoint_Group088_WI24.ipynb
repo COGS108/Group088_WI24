{
 "cells": [
  {
   "cell_type": "markdown",
   "metadata": {},
   "source": [
    "**If you lost points on the last checkpoint you can get them back by responding to TA/IA feedback**  \n",
    "\n",
    "Update/change the relevant sections where you lost those points, make sure you respond on GitHub Issues to your TA/IA to call their attention to the changes you made here.\n",
    "\n",
    "Please update your Timeline... no battle plan survives contact with the enemy, so make sure we understand how your plans have changed."
   ]
  },
  {
   "cell_type": "markdown",
   "metadata": {},
   "source": [
    "# COGS 108 - EDA Checkpoint"
   ]
  },
  {
   "cell_type": "markdown",
   "metadata": {},
   "source": [
    "# Names\n",
    "\n",
    "- Oswaldo Medina Jr\n",
    "- Minh Duong\n",
    "- Ryan Hwang\n",
    "- Tianhao Chen\n",
    "- Sapna Rachapudi"
   ]
  },
  {
   "cell_type": "markdown",
   "metadata": {},
   "source": [
    "# Research Question"
   ]
  },
  {
   "cell_type": "markdown",
   "metadata": {},
   "source": [
    "-  Include a specific, clear data science question.\n",
    "-  Make sure what you're measuring (variables) to answer the question is clear\n",
    "\n",
    "What is your research question? Include the specific question you're setting out to answer. This question should be specific, answerable with data, and clear. A general question with specific subquestions is permitted. (1-2 sentences)\n",
    "\n",
    "***Does early exposure to alcohol consumption of alcoholic beverages have a direct impact on children’s mental health and academic performance? How does this impact on the children’s family, friends, and supporters of their journey in life?***"
   ]
  },
  {
   "cell_type": "markdown",
   "metadata": {},
   "source": [
    "## Background and Prior Work"
   ]
  },
  {
   "cell_type": "markdown",
   "metadata": {},
   "source": [
    "\n",
    "- Include a general introduction to your topic\n",
    "- Include explanation of what work has been done previously\n",
    "- Include citations or links to previous work\n",
    "\n",
    "This section will present the background and context of your topic and question in a few paragraphs. Include a general introduction to your topic and then describe what information you currently know about the topic after doing your initial research. Include references to other projects who have asked similar questions or approached similar problems. Explain what others have learned in their projects.\n",
    "\n",
    "Find some relevant prior work, and reference those sources, summarizing what each did and what they learned. Even if you think you have a totally novel question, find the most similar prior work that you can and discuss how it relates to your project.\n",
    "\n",
    "References can be research publications, but they need not be. Blogs, GitHub repositories, company websites, etc., are all viable references if they are relevant to your project. It must be clear which information comes from which references. (2-3 paragraphs, including at least 2 references)\n",
    "\n",
    " **Use inline citation through HTML footnotes to specify which references support which statements** \n",
    "\n",
    "For example: After government genocide in the 20th century, real birds were replaced with surveillance drones designed to look just like birds.<a name=\"cite_ref-1\"></a>[<sup>1</sup>](#cite_note-1) Use a minimum of 2 or 3 citations, but we prefer more.<a name=\"cite_ref-2\"></a>[<sup>2</sup>](#cite_note-2) You need enough to fully explain and back up important facts. \n",
    "\n",
    "Note that if you click a footnote number in the paragraph above it will transport you to the proper entry in the footnotes list below.  And if you click the ^ in the footnote entry, it will return you to the place in the main text where the footnote is made.\n",
    "\n",
    "To understand the HTML here, `<a name=\"#...\"> </a>` is a tag that allows you produce a named reference for a given location.  Markdown has the construciton `[text with hyperlink](#named reference)` that will produce a clickable link that transports you the named reference.\n",
    "\n",
    "1. <a name=\"cite_note-1\"></a> [^](#cite_ref-1) Lorenz, T. (9 Dec 2021) Birds Aren’t Real, or Are They? Inside a Gen Z Conspiracy Theory. *The New York Times*. https://www.nytimes.com/2021/12/09/technology/birds-arent-real-gen-z-misinformation.html \n",
    "2. <a name=\"cite_note-2\"></a> [^](#cite_ref-2) Also refs should be important to the background, not some randomly chosen vaguely related stuff. Include a web link if possible in refs as above.\n"
   ]
  },
  {
   "cell_type": "markdown",
   "source": [
    "The interplay between alcohol consumption and academic performance is an area of significant concern for stakeholders across the educational landscape, including students, faculty, staff, and parents. At institutions like Kansas State University (K-State), the observed negative associations between alcohol use and academic outcomes—such as missing classes, lagging behind in coursework, underperforming on exams or papers, and overall lower grades—underscore the urgency of addressing this issue.<a name=\"cite_ref-1\"></a>[<sup>1</sup>](#cite_note-1) K-State's Academic Achievement Center and Lafene Health Center offer myriad services to support students struggling with academic challenges related to substance abuse and mental health, highlighting institutional efforts to combat the adverse effects of alcohol on student success.\n",
    "\n",
    "Further, the broader research community, as evidenced by findings shared through sources like orcd-library.org, acknowledges the multifaceted impact of alcohol consumption on educational outcomes.<a name=\"cite_ref-2\"></a>[<sup>2</sup>](#cite_note-2) Alcohol's influence extends through biological, behavioral, and emotional pathways, affecting cognitive functions, school attendance, and students' engagement with their academic work. Notably, heavy episodic drinking, prevalent among adolescents, correlates with a range of negative health and educational outcomes. The research underscores not only the direct effects of alcohol on neurodegeneration and cognitive impairment but also the broader behavioral and emotional ramifications that can detract from a student's academic commitment and performance.\n",
    "\n",
    "This complex relationship is further complicated by the bidirectional nature of alcohol use and academic outcomes, where poor performance may drive increased alcohol consumption as a coping mechanism. Confounding factors such as family income, parental education, self-esteem, and motivation also play critical roles in shaping this dynamic. The dataset from the survey of students in math and Portuguese language courses at the secondary school level, encompassing a wide array of variables including alcohol consumption (Dalc and Walc), study habits (studytime), and academic performance (G1, G2, and G3 grades), presents an invaluable resource for delving into these interactions. By examining the specific impacts of alcohol consumption within this rich dataset, this study aims to contribute nuanced insights into the strategies and interventions that can support student success in the face of these challenges.\n",
    "\n",
    "References:\n",
    "\n",
    "1. <a name=\"cite_note-1\"></a> [^](#cite_ref-1) K-State Lafene Health Center. Kansas State University. https://www.k-state.edu/lafene/services/prevention/alcohol-education/reality-of-drinking/academics.html#:~:text=Alcohol%20consumption%20has%20been%20negatively,to%20student%20attrition%20from%20college.\n",
    "2. <a name=\"cite_note-2\"></a> [^](#cite_ref-2) OECD (2019), The relationship between alcohol consumption and educational outcomes in children, OECD iLibrary, https://www.oecd-ilibrary.org/sites/8f9105c7-en/index.html?itemId=/content/component/8f9105c7-en\n",
    "3. [Link for dataset](https://www.kaggle.com/datasets/uciml/student-alcohol-consumption?resource=download)"
   ],
   "metadata": {
    "collapsed": false
   }
  },
  {
   "cell_type": "markdown",
   "metadata": {},
   "source": [
    "# Hypothesis\n"
   ]
  },
  {
   "cell_type": "markdown",
   "metadata": {},
   "source": [
    "\n",
    "- Include your team's hypothesis\n",
    "- Ensure that this hypothesis is clear to readers\n",
    "- Explain why you think this will be the outcome (what was your thinking?)\n",
    "\n",
    "What is your main hypothesis/predictions about what the answer to your question is? Briefly explain your thinking. (2-3 sentences)\n",
    "\n",
    "**Hypothesis:** Higher levels of alcohol consumption among secondary school students (measured by Dalc for weekdays and Walc for weekends) are anticipated to be negatively correlated with their academic performance, particularly in math and Portuguese language courses, as reflected in their grades (G1, G2, and G3). This hypothesis is predicated on the premise that alcohol consumption impairs cognitive functions and academic engagement, leading to lower academic achievements.\n",
    "\n",
    "**Explanation:** This hypothesis is rooted in the broader literature, which has documented the adverse effects of alcohol on cognitive capabilities, memory formation, and educational engagement. Given that alcohol consumption can disrupt sleep patterns, affect concentration, and lead to increased absenteeism, it logically follows that students engaging in higher levels of alcohol consumption would exhibit poorer academic performance. By analyzing the relationship between alcohol consumption rates and academic outcomes, we aim to clarify how these behaviors impact student success, controlling for potential confounding factors to ensure a robust examination of this relationship."
   ]
  },
  {
   "cell_type": "markdown",
   "metadata": {},
   "source": [
    "# Data"
   ]
  },
  {
   "cell_type": "markdown",
   "metadata": {},
   "source": [
    "## Data overview\n",
    "\n",
    "For each dataset include the following information\n",
    "- Dataset #1\n",
    "  - Dataset Name: Student Alcohol Consumption - Math and Portuguese Language Courses\n",
    "  - Link to the dataset: https://www.kaggle.com/datasets/uciml/student-alcohol-consumption?resource=download\n",
    "  - Number of observations: 395 (Math course), 649 (Portuguese language course)\n",
    "  - Number of variables: 33\n",
    "Now write 2 - 5 sentences describing each dataset here. Include a short description of the important variables in the dataset; what the metrics and datatypes are, what concepts they may be proxies for. Include information about how you would need to wrangle/clean/preprocess the dataset\n",
    "\n",
    "If you plan to use multiple datasets, add a few sentences about how you plan to combine these datasets."
   ]
  },
  {
   "cell_type": "markdown",
   "source": [
    "**Description**: The data were obtained in a survey of students' math and Portuguese language courses in secondary school. It contains information on student alcohol consumption, which is our main area of interest as well as some student success metrics like grades, past failures, and attendance. Additionally it contains potentially correlating information like information related to parents status such as job, education level. The dataset is rich in variables, including binary, categorical, and ordinal data, and presents a valuable resource for examining the relationship between alcohol consumption and academic outcomes. The dataset will require cleaning and preprocessing to handle missing values, standardize categorical variables, and potentially create new features to capture the complex interplay between alcohol consumption and academic performance."
   ],
   "metadata": {
    "collapsed": false
   }
  },
  {
   "cell_type": "markdown",
   "source": [
    "### DATA CLEANING: Get each of your datasets into a usable (likely, tidy) format. Briefly explain what steps you had to take before you were able to use the datasets you chose to answer your question of interest.\n",
    "#### How 'clean' is the data?\n",
    "We drop the null data appearing in each column and replace the possible null value in ‘absences’ column with the mean value.\n",
    "#### What did you have to do to get the data into a usable format? (If you did nothing, how did you determine there was nothing to do?)\n",
    "We discussed columns to remove from the data that we do not need\n",
    "We renamed some columns to make them clear to readers such as Mjob to Mother’s job\n",
    "#### What pre-processing steps that were required for your methods (for example, checking data distributions and performing any transformations that may be required)\n",
    "We will plot the distribution \n",
    "\n",
    "For the research question concerning the impact of early exposure to alcohol consumption on children's mental health and academic performance, as well as its effects on their family, friends, and supporters, the following features from the dataset could be particularly relevant:\n",
    "\n",
    "1. Alcohol Consumption (`Dalc` and `Walc`): Measures of daily and weekend alcohol consumption to quantify the level of alcohol exposure.\n",
    "2. Academic Performance (`G1`, `G2`, `G3`): Grades across three periods to assess academic outcomes.\n",
    "3. Mental Health (`health`): A proxy for mental health status, indicating how health issues might correlate with alcohol consumption and academic performance.\n",
    "4. Family Relationships (`famrel`): Quality of family relationships, which could be affected by or have an effect on alcohol consumption patterns.\n",
    "5. Free Time and Going Out (`freetime`, `goout`): Indicators of social behavior, potentially reflecting the influence of or on peer groups.\n",
    "6. Study Time (`studytime`): Amount of time dedicated to studying, which could be impacted by alcohol consumption.\n",
    "7. Absences (`absences`): School absenteeism, which might be related to both academic performance and alcohol consumption.\n",
    "\n",
    "In this project, we aim to investigate the direct impact of early exposure to alcohol on children's mental health and academic achievements, alongside its broader implications on their interpersonal relationships and support networks. By analyzing alcohol consumption levels (`Dalc` and `Walc`), we can quantify the extent of exposure and correlate it with mental health status (`health`), academic performance (`G1`, `G2`, `G3`), and school attendance (`absences`). The quality of family relationships (`famrel`) will help us understand the familial context of these students, potentially highlighting how alcohol impacts or is impacted by family dynamics. Additionally, assessing students' free time and social activities (`freetime`, `goout`) will provide insights into the role of peer influence. Finally, study habits (`studytime`) will offer a lens through which to view the balance between academic pursuits and extracurricular influences, including alcohol consumption. Together, these features will allow for a comprehensive analysis of the multifaceted impacts of early alcohol exposure on children's lives and their circles of support.\n"
   ],
   "metadata": {
    "collapsed": false
   }
  },
  {
   "cell_type": "markdown",
   "source": [
    "## Feature Name Explanation (as in original dataset):\n",
    "1. school - student's school (binary: 'GP' - Gabriel Pereira or 'MS' - Mousinho da Silveira)\n",
    "2.  sex - student's sex (binary: 'F' - female or 'M' - male)\n",
    "3.  age - student's age (numeric: from 15 to 22)\n",
    "4.  address - student's home address type (binary: 'U' - urban or 'R' - rural)\n",
    "5.  famsize - family size (binary: 'LE3' - less or equal to 3 or 'GT3' - greater than 3)\n",
    "6.  Pstatus - parent's cohabitation status (binary: 'T' - living together or 'A' - apart)\n",
    "7.  Medu - mother's education (numeric: 0 - none, 1 - primary education (4th grade), 2 – 5th to 9th grade, 3 – secondary education or 4 – higher education)\n",
    "8.  Fedu - father's education (numeric: 0 - none, 1 - primary education (4th grade), 2 – 5th to 9th grade, 3 – secondary education or 4 – higher education)\n",
    "9.  Mjob - mother's job (nominal: 'teacher', 'health' care related, civil 'services' (e.g. administrative or police), 'at_home' or 'other')\n",
    "10.  Fjob - father's job (nominal: 'teacher', 'health' care related, civil 'services' (e.g. administrative or police), 'at_home' or 'other')\n",
    "11.  reason - reason to choose this school (nominal: close to 'home', school 'reputation', 'course' preference or 'other')\n",
    "12.  guardian - student's guardian (nominal: 'mother', 'father' or 'other')\n",
    "13.  traveltime - home to school travel time (numeric: 1 - <15 min., 2 - 15 to 30 min., 3 - 30 min. to 1 hour, or 4 - >1 hour)\n",
    "14.  studytime - weekly study time (numeric: 1 - <2 hours, 2 - 2 to 5 hours, 3 - 5 to 10 hours, or 4 - >10 hours)\n",
    "15.  failures - number of past class failures (numeric: n if 1<=n<3, else 4)\n",
    "16.  schoolsup - extra educational support (binary: yes or no)\n",
    "17.  famsup - family educational support (binary: yes or no)\n",
    "18.  paid - extra paid classes within the course subject (Math or Portuguese)\n",
    "(binary: yes or no)\n",
    "19.  activities - extracurricular activities (binary: yes or no)\n",
    "20.  nursery - attended nursery school (binary: yes or no)\n",
    "21.  higher - wants to take higher education (binary: yes or no) \n",
    "22.  internet - Internet access at home (binary: yes or no)\n",
    "23.  romantic - with a romantic relationship (binary: yes or no) *\n",
    "24.  famrel - quality of family relationships (numeric: from 1 - very bad to 5 - excellent)\n",
    "25.  freetime - free time after school (numeric: from 1 - very low to 5 - very high)\n",
    "26.  goout - going out with friends (numeric: from 1 - very low to 5 - very high)* \n",
    "27.  Dalc - workday alcohol consumption (numeric: from 1 - very low to 5 - very high)\n",
    "28.  Walc - weekend alcohol consumption (numeric: from 1 - very low to 5 - very high)\n",
    "29.  health - current health status (numeric: from 1 - very bad to 5 - very good)\n",
    "30.  absences - number of school absences (numeric: from 0 to 93)\n",
    "\n",
    "These grades are related with the course subject, Math or Portuguese:\n",
    "\n",
    "31.  G1 - first period grade (numeric: from 0 to 20)\n",
    "32.  G2 - second period grade (numeric: from 0 to 20)\n",
    "33.  G3 - final grade (numeric: from 0 to 20, output target)\n",
    "\n",
    "\n",
    "Additional note: there are several (382) students that belong to both datasets .\n",
    "\n",
    "#### CHANGES:\n",
    "- Pstatus to parent_status\n",
    "- Medu to mother_edu\n",
    "- Fedu to father_edu\n",
    "- Mjob to mother_job\n",
    "- Fjob to father_job\n",
    "- Standardize the “parent_status” into “apart” and “together”\n",
    "- Standardize the “address” into “urban” and “rural”\n",
    "- Standardize the \"school” into “Gabriel Pereira” and “Mousinho da Silveira\"\n",
    "\n",
    "We first attempted to size down our data set in order to make it more manageable to work with. We chose a few columns that we felt had less relevance to our research question. However as we have yet to fully finalize our approach for this research topic, we attempted to be as conservative as possible while removing columns. We found that the data is already relatively clean, and we were able to think of use cases for all of the categories. Most of the information was either quantitative or binary, so we didn’t really feel a need to cut down the data set at this point. \n",
    "Then we started off by changing the titles of our columns to be more descriptive. The original titles were vague and might be difficult to understand, especially to someone not familiar with the data set already. \n",
    "After this we standardized some of the variable values to make them easier to understand. \n",
    "\n",
    "\n",
    "These students can be identified by searching for identical attributes that characterize each student, as shown in the annexed R file.\n"
   ],
   "metadata": {
    "collapsed": false
   }
  },
  {
   "cell_type": "markdown",
   "metadata": {},
   "source": [
    "## Dataset #1 (use name instead of number here)"
   ]
  },
  {
   "cell_type": "code",
   "execution_count": null,
   "metadata": {},
   "outputs": [],
   "source": [
    "## YOUR CODE TO LOAD/CLEAN/TIDY/WRANGLE THE DATA GOES HERE\n",
    "## FEEL FREE TO ADD MULTIPLE CELLS PER SECTION \n",
    "\n",
    "import numpy as np\n",
    "import pandas as pd\n",
    "import matplotlib.pyplot as plt\n",
    "import seaborn as sns\n",
    "from sklearn import datasets\n",
    "from sklearn.model_selection import train_test_split\n",
    "from sklearn.linear_model import LinearRegression\n",
    "from sklearn.metrics import mean_squared_error\n",
    "import requests\n",
    "import json\n",
    "import io\n",
    "\n",
    "math_df = pd.read_csv('student-mat.csv')\n",
    "por_df = pd.read_csv('student-por.csv')"
   ]
  },
  {
   "cell_type": "markdown",
   "metadata": {},
   "source": [
    "## Dataset #2 (if you have more than one, use name instead of number here)"
   ]
  },
  {
   "cell_type": "code",
   "execution_count": null,
   "metadata": {},
   "outputs": [],
   "source": [
    "## YOUR CODE TO LOAD/CLEAN/TIDY/WRANGLE THE DATA GOES HERE\n",
    "## FEEL FREE TO ADD MULTIPLE CELLS PER SECTION "
   ]
  },
  {
   "cell_type": "markdown",
   "metadata": {},
   "source": [
    "# Results\n",
    "\n",
    "## Exploratory Data Analysis\n",
    "\n",
    "Carry out whatever EDA you need to for your project.  Because every project will be different we can't really give you much of a template at this point. But please make sure you describe the what and why in text here as well as providing interpretation of results and context."
   ]
  },
  {
   "cell_type": "markdown",
   "metadata": {},
   "source": [
    "### Section 1 of EDA - please give it a better title than this\n",
    "\n",
    "Some more words and stuff.  Remember notebooks work best if you interleave the code that generates a result with properly annotate figures and text that puts these results into context."
   ]
  },
  {
   "cell_type": "code",
   "execution_count": null,
   "metadata": {},
   "outputs": [],
   "source": [
    "## YOUR CODE HERE\n",
    "## FEEL FREE TO ADD MULTIPLE CELLS PER SECTION"
   ]
  },
  {
   "cell_type": "markdown",
   "metadata": {},
   "source": [
    "### Section 2 of EDA if you need it  - please give it a better title than this\n",
    "\n",
    "Some more words and stuff.  Remember notebooks work best if you interleave the code that generates a result with properly annotate figures and text that puts these results into context."
   ]
  },
  {
   "cell_type": "code",
   "execution_count": null,
   "metadata": {},
   "outputs": [],
   "source": [
    "## YOUR CODE HERE\n",
    "## FEEL FREE TO ADD MULTIPLE CELLS PER SECTION"
   ]
  },
  {
   "cell_type": "markdown",
   "metadata": {},
   "source": [
    "# Ethics & Privacy"
   ]
  },
  {
   "cell_type": "markdown",
   "metadata": {},
   "source": [
    "- Thoughtful discussion of ethical concerns included\n",
    "- Ethical concerns consider the whole data science process (question asked, data collected, data being used, the bias in data, analysis, post-analysis, etc.)\n",
    "- How your group handled bias/ethical concerns clearly described\n",
    "\n",
    "Acknowledge and address any ethics & privacy related issues of your question(s), proposed dataset(s), and/or analyses. Use the information provided in lecture to guide your group discussion and thinking. If you need further guidance, check out [Deon's Ethics Checklist](http://deon.drivendata.org/#data-science-ethics-checklist). In particular:\n",
    "\n",
    "- Are there any biases/privacy/terms of use issues with the data you propsed?\n",
    "- Are there potential biases in your dataset(s), in terms of who it composes, and how it was collected, that may be problematic in terms of it allowing for equitable analysis? (For example, does your data exclude particular populations, or is it likely to reflect particular human biases in a way that could be a problem?)\n",
    "- How will you set out to detect these specific biases before, during, and after/when communicating your analysis?\n",
    "- Are there any other issues related to your topic area, data, and/or analyses that are potentially problematic in terms of data privacy and equitable impact?\n",
    "- How will you handle issues you identified?"
   ]
  },
  {
   "cell_type": "markdown",
   "source": [
    "**Ethics & Privacy Issues:**\n",
    "\n",
    "Our research into the relationship between alcohol consumption and academic performance in secondary students raises several ethical and privacy concerns, primarily related to the sensitivity of the data involved and the potential for bias in our analysis. \n",
    "\n",
    "1. **Data Sensitivity and Privacy:** The dataset contains sensitive information regarding students' alcohol consumption habits, academic performance, and personal demographics. There is a potential risk of identifying individual students, especially in smaller subsets of data. To mitigate this risk, we will ensure all data used is anonymized, with no direct or indirect identifiers present in our dataset.\n",
    "\n",
    "2. **Bias in Data Collection:** Our dataset might not equally represent all student populations, potentially excluding or under-representing certain groups based on geography, socio-economic status, or other factors. This could introduce biases that skew our analysis and conclusions. To address this concern, we will critically assess the dataset's composition and collection methods, seeking to understand and acknowledge any limitations in our analysis. Where possible, we will use statistical techniques to adjust for known biases.\n",
    "\n",
    "3. **Detecting and Handling Biases:** To detect biases in our dataset, we will perform exploratory data analysis (EDA) to identify any disproportionate representation of groups. During analysis, we will be mindful of how these biases could influence our findings and will use statistical methods to minimize their impact. After analysis, we will transparently communicate any biases or limitations identified in our study, ensuring that our findings are interpreted within the appropriate context.\n",
    "\n",
    "4. **Equitable Analysis and Impact:** There is a risk that our analysis could inadvertently stigmatize students who consume alcohol or those from specific demographics. To prevent this, we will approach our analysis with sensitivity, focusing on the broader systemic factors that contribute to our findings rather than attributing behaviors or outcomes to individual moral failings. We will also consider the potential impact of our findings on policy and practice, advocating for interventions that are supportive and non-punitive.\n",
    "\n",
    "5. **Handling Identified Issues:** Any issues related to data privacy or bias identified during our research will be addressed through modifications to our analysis plan and by applying appropriate statistical adjustments. We commit to conducting our research ethically, prioritizing the privacy and dignity of the students represented in the dataset, and being transparent about our methodology and findings. Also, if we find any issues above our handle, we will report them to the course staff and seek guidance on how to proceed."
   ],
   "metadata": {
    "collapsed": false
   }
  },
  {
   "cell_type": "markdown",
   "metadata": {},
   "source": [
    "# Team Expectations "
   ]
  },
  {
   "cell_type": "markdown",
   "metadata": {},
   "source": [
    "\n",
    "Read over the [COGS108 Team Policies](https://github.com/COGS108/Projects/blob/master/COGS108_TeamPolicies.md) individually. Then, include your group’s expectations of one another for successful completion of your COGS108 project below. Discuss and agree on what all of your expectations are. Discuss how your team will communicate throughout the quarter and consider how you will communicate respectfully should conflicts arise. By including each member’s name above and by adding their name to the submission, you are indicating that you have read the COGS108 Team Policies, accept your team’s expectations below, and have every intention to fulfill them. These expectations are for your team’s use and benefit — they won’t be graded for their details.\n",
    "\n",
    "* *Team Expectation 1*\n",
    "* *Team Expectation 2*\n",
    "* *Team Expecation 3*\n",
    "* ..."
   ]
  },
  {
   "cell_type": "markdown",
   "source": [
    "*Note: This may be different depending on what the assignment is. If we are working on the final project, the meeting may be more like catching up on the part that other people in the group are working on.*\n",
    "\n",
    "**Communication** \n",
    "- My team will meet via Zoom or Discord, whichever is convenient for everyone in the group. \n",
    "\n",
    "**Meeting**\n",
    "- We will try to have at least 1-2 meetings per week. The first meeting will be a discussion about what we need to do for the entire week. Then, we will wrap up the assignment in the second meeting.\n",
    "- The meeting time will be flexible based on the time available to people provided on When2Meet. \n",
    "\n",
    "**Expectation**\n",
    "- The research question is as stated in this proposal, and we expect to have a fit dataset to work on towards the end of the quarter.\n",
    "- As a group project, we will all divide the work equally so that everyone can have a chance to work.\n",
    "- If anyone has any issues while working on the project, that person needs to let other people know within a proper amount of time. \n",
    "- Weekly meeting notes with quick summary/ plan of action for the next week for each person. Check the meeting notes if you miss a meeting, and ask questions if you have them.\n",
    "- The team should take notes during each meeting regarding the project progress and discussions to ensures that everyone can catch up on any information they may have missed."
   ],
   "metadata": {
    "collapsed": false
   }
  },
  {
   "cell_type": "markdown",
   "metadata": {},
   "source": [
    "# Project Timeline Proposal"
   ]
  },
  {
   "cell_type": "markdown",
   "metadata": {},
   "source": [
    "Specify your team's specific project timeline. An example timeline has been provided. Changes the dates, times, names, and details to fit your group's plan.\n",
    "\n",
    "If you think you will need any special resources or training outside what we have covered in COGS 108 to solve your problem, then your proposal should state these clearly. For example, if you have selected a problem that involves implementing multiple neural networks, please state this so we can make sure you know what you’re doing and so we can point you to resources you will need to implement your project. Note that you are not required to use outside methods.\n",
    "\n",
    "\n",
    "\n",
    "| Meeting Date | Meeting Time    | Completed Before Meeting                                                | Discuss at Meeting                                                             |\n",
    "|--------------|-----------------|-------------------------------------------------------------------------|--------------------------------------------------------------------------------|\n",
    "| 3/5          | 4:30 PM         | Take a look on the EDA Checkpoint Notebook to know what to do in advance | Decide which features we are working on                                        |\n",
    "| 3/6          | 5 PM            | Have everyone's featues and choose which works best for the project     | Start working on the EDA, and do visualization                                 |\n",
    "| 3/8          | 5 PM            | Try to finish up some visualizations                                    | Fill out the EDACheckpoint and submit                                          |\n",
    "| 3/12         | 4 PM            | Start working on the final part                                         | Work further with the EDA and visualization. Apply concepts from class into it |\n",
    "| 3/14         | 5 PM            | Complete the analysis; Continue on our results/conclusion/discussion    | Discuss/edit the full project                                                  |\n",
    "| 3/18         | Before 11:59 PM | Any corrections that might be to be fixed                               | Turn in Final Project & Group Project Survey                                   |"
   ]
  }
 ],
 "metadata": {
  "kernelspec": {
   "display_name": "Python 3 (ipykernel)",
   "language": "python",
   "name": "python3"
  },
  "language_info": {
   "codemirror_mode": {
    "name": "ipython",
    "version": 3
   },
   "file_extension": ".py",
   "mimetype": "text/x-python",
   "name": "python",
   "nbconvert_exporter": "python",
   "pygments_lexer": "ipython3",
   "version": "3.9.7"
  }
 },
 "nbformat": 4,
 "nbformat_minor": 2
}
