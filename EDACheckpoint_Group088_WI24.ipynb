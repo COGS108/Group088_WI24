{
 "cells": [
  {
   "cell_type": "markdown",
   "metadata": {},
   "source": [
    "**If you lost points on the last checkpoint you can get them back by responding to TA/IA feedback**  \n",
    "\n",
    "Update/change the relevant sections where you lost those points, make sure you respond on GitHub Issues to your TA/IA to call their attention to the changes you made here.\n",
    "\n",
    "Please update your Timeline... no battle plan survives contact with the enemy, so make sure we understand how your plans have changed."
   ]
  },
  {
   "cell_type": "markdown",
   "metadata": {},
   "source": [
    "# COGS 108 - EDA Checkpoint"
   ]
  },
  {
   "cell_type": "markdown",
   "metadata": {},
   "source": [
    "# Names\n",
    "\n",
    "- Oswaldo Medina Jr\n",
    "- Minh Duong\n",
    "- Ryan Hwang\n",
    "- Tianhao Chen\n",
    "- Sapna Rachapudi"
   ]
  },
  {
   "cell_type": "markdown",
   "metadata": {},
   "source": [
    "# Research Question"
   ]
  },
  {
   "cell_type": "markdown",
   "metadata": {},
   "source": [
    "-  Include a specific, clear data science question.\n",
    "-  Make sure what you're measuring (variables) to answer the question is clear\n",
    "\n",
    "What is your research question? Include the specific question you're setting out to answer. This question should be specific, answerable with data, and clear. A general question with specific subquestions is permitted. (1-2 sentences)\n",
    "\n",
    "***Does early exposure to alcohol consumption, specifically in adolescents aged 15-22, have a direct impact on their mental health and academic performance? Additionally, how does this exposure affect the relationships and interactions between these adolescents and their family, friends, and supporters throughout their educational journey?***"
   ]
  },
  {
   "cell_type": "markdown",
   "metadata": {},
   "source": [
    "## Background and Prior Work"
   ]
  },
  {
   "cell_type": "markdown",
   "metadata": {},
   "source": [
    "\n",
    "- Include a general introduction to your topic\n",
    "- Include explanation of what work has been done previously\n",
    "- Include citations or links to previous work\n",
    "\n",
    "This section will present the background and context of your topic and question in a few paragraphs. Include a general introduction to your topic and then describe what information you currently know about the topic after doing your initial research. Include references to other projects who have asked similar questions or approached similar problems. Explain what others have learned in their projects.\n",
    "\n",
    "Find some relevant prior work, and reference those sources, summarizing what each did and what they learned. Even if you think you have a totally novel question, find the most similar prior work that you can and discuss how it relates to your project.\n",
    "\n",
    "References can be research publications, but they need not be. Blogs, GitHub repositories, company websites, etc., are all viable references if they are relevant to your project. It must be clear which information comes from which references. (2-3 paragraphs, including at least 2 references)\n",
    "\n",
    " **Use inline citation through HTML footnotes to specify which references support which statements** \n",
    "\n",
    "For example: After government genocide in the 20th century, real birds were replaced with surveillance drones designed to look just like birds.<a name=\"cite_ref-1\"></a>[<sup>1</sup>](#cite_note-1) Use a minimum of 2 or 3 citations, but we prefer more.<a name=\"cite_ref-2\"></a>[<sup>2</sup>](#cite_note-2) You need enough to fully explain and back up important facts. \n",
    "\n",
    "Note that if you click a footnote number in the paragraph above it will transport you to the proper entry in the footnotes list below.  And if you click the ^ in the footnote entry, it will return you to the place in the main text where the footnote is made.\n",
    "\n",
    "To understand the HTML here, `<a name=\"#...\"> </a>` is a tag that allows you produce a named reference for a given location.  Markdown has the construciton `[text with hyperlink](#named reference)` that will produce a clickable link that transports you the named reference.\n",
    "\n",
    "1. <a name=\"cite_note-1\"></a> [^](#cite_ref-1) Lorenz, T. (9 Dec 2021) Birds Aren’t Real, or Are They? Inside a Gen Z Conspiracy Theory. *The New York Times*. https://www.nytimes.com/2021/12/09/technology/birds-arent-real-gen-z-misinformation.html \n",
    "2. <a name=\"cite_note-2\"></a> [^](#cite_ref-2) Also refs should be important to the background, not some randomly chosen vaguely related stuff. Include a web link if possible in refs as above.\n"
   ]
  },
  {
   "cell_type": "markdown",
   "source": [
    "The interplay between alcohol consumption and academic performance is an area of significant concern for stakeholders across the educational landscape, including students, faculty, staff, and parents. At institutions like Kansas State University (K-State), the observed negative associations between alcohol use and academic outcomes—such as missing classes, lagging behind in coursework, underperforming on exams or papers, and overall lower grades—underscore the urgency of addressing this issue.<a name=\"cite_ref-1\"></a>[<sup>1</sup>](#cite_note-1) K-State's Academic Achievement Center and Lafene Health Center offer myriad services to support students struggling with academic challenges related to substance abuse and mental health, highlighting institutional efforts to combat the adverse effects of alcohol on student success.\n",
    "\n",
    "Further, the broader research community, as evidenced by findings shared through sources like orcd-library.org, acknowledges the multifaceted impact of alcohol consumption on educational outcomes.<a name=\"cite_ref-2\"></a>[<sup>2</sup>](#cite_note-2) Alcohol's influence extends through biological, behavioral, and emotional pathways, affecting cognitive functions, school attendance, and students' engagement with their academic work. Notably, heavy episodic drinking, prevalent among adolescents, correlates with a range of negative health and educational outcomes. The research underscores not only the direct effects of alcohol on neurodegeneration and cognitive impairment but also the broader behavioral and emotional ramifications that can detract from a student's academic commitment and performance.\n",
    "\n",
    "This complex relationship is further complicated by the bidirectional nature of alcohol use and academic outcomes, where poor performance may drive increased alcohol consumption as a coping mechanism. Confounding factors such as family income, parental education, self-esteem, and motivation also play critical roles in shaping this dynamic. The dataset from the survey of students in math and Portuguese language courses at the secondary school level, encompassing a wide array of variables including alcohol consumption (Dalc and Walc), study habits (studytime), and academic performance (G1, G2, and G3 grades), presents an invaluable resource for delving into these interactions. By examining the specific impacts of alcohol consumption within this rich dataset, this study aims to contribute nuanced insights into the strategies and interventions that can support student success in the face of these challenges.\n",
    "\n",
    "References:\n",
    "\n",
    "1. <a name=\"cite_note-1\"></a> [^](#cite_ref-1) K-State Lafene Health Center. Kansas State University. https://www.k-state.edu/lafene/services/prevention/alcohol-education/reality-of-drinking/academics.html#:~:text=Alcohol%20consumption%20has%20been%20negatively,to%20student%20attrition%20from%20college.\n",
    "2. <a name=\"cite_note-2\"></a> [^](#cite_ref-2) OECD (2019), The relationship between alcohol consumption and educational outcomes in children, OECD iLibrary, https://www.oecd-ilibrary.org/sites/8f9105c7-en/index.html?itemId=/content/component/8f9105c7-en\n",
    "3. [Link for dataset](https://www.kaggle.com/datasets/uciml/student-alcohol-consumption?resource=download)"
   ],
   "metadata": {
    "collapsed": false
   }
  },
  {
   "cell_type": "markdown",
   "metadata": {},
   "source": [
    "# Hypothesis\n"
   ]
  },
  {
   "cell_type": "markdown",
   "metadata": {},
   "source": [
    "\n",
    "- Include your team's hypothesis\n",
    "- Ensure that this hypothesis is clear to readers\n",
    "- Explain why you think this will be the outcome (what was your thinking?)\n",
    "\n",
    "What is your main hypothesis/predictions about what the answer to your question is? Briefly explain your thinking. (2-3 sentences)\n",
    "\n",
    "**Hypothesis:** Higher levels of alcohol consumption among secondary school students (measured by Dalc for weekdays and Walc for weekends) are anticipated to be negatively correlated with their academic performance, particularly in math and Portuguese language courses, as reflected in their grades (G1, G2, and G3). This hypothesis is predicated on the premise that alcohol consumption impairs cognitive functions and academic engagement, leading to lower academic achievements.\n",
    "\n",
    "**Explanation:** This hypothesis is rooted in the broader literature, which has documented the adverse effects of alcohol on cognitive capabilities, memory formation, and educational engagement. Given that alcohol consumption can disrupt sleep patterns, affect concentration, and lead to increased absenteeism, it logically follows that students engaging in higher levels of alcohol consumption would exhibit poorer academic performance. By analyzing the relationship between alcohol consumption rates and academic outcomes, we aim to clarify how these behaviors impact student success, controlling for potential confounding factors to ensure a robust examination of this relationship."
   ]
  },
  {
   "cell_type": "markdown",
   "metadata": {},
   "source": [
    "# Data"
   ]
  },
  {
   "cell_type": "markdown",
   "metadata": {},
   "source": [
    "## Data overview\n",
    "\n",
    "For each dataset include the following information\n",
    "- Dataset #1\n",
    "  - Dataset Name: Student Alcohol Consumption - Math and Portuguese Language Courses\n",
    "  - Link to the dataset: https://www.kaggle.com/datasets/uciml/student-alcohol-consumption?resource=download\n",
    "  - Number of observations: 395 (Math course), 649 (Portuguese language course)\n",
    "  - Number of variables: 33\n",
    "Now write 2 - 5 sentences describing each dataset here. Include a short description of the important variables in the dataset; what the metrics and datatypes are, what concepts they may be proxies for. Include information about how you would need to wrangle/clean/preprocess the dataset\n",
    "\n",
    "If you plan to use multiple datasets, add a few sentences about how you plan to combine these datasets."
   ]
  },
  {
   "cell_type": "markdown",
   "source": [
    "**Description**: The dataset sourced from a survey of students in aged 15-22, provides a detailed examination of alcohol consumption patterns and their implications on mental health and academic performance, devoid of a specific focus on Math or Portuguese courses. It encompasses a variety of data types, including academic metrics, parental background, and lifestyle choices, to facilitate a comprehensive analysis of the factors influencing adolescent development. Last updated 7 years ago, this dataset's temporal context requires careful consideration to account for evolving societal norms and educational environments. The preparation for analysis will include meticulous cleaning, preprocessing, and the creation of new features to accurately reflect the intricate relationships at play. This process aims to unravel the complex dynamics between early alcohol exposure and its effects on adolescents' academic achievements and social interactions, providing insights into the broader ramifications on their support networks."
   ],
   "metadata": {
    "collapsed": false
   }
  },
  {
   "cell_type": "markdown",
   "source": [
    "### DATA CLEANING: Get each of your datasets into a usable (likely, tidy) format. Briefly explain what steps you had to take before you were able to use the datasets you chose to answer your question of interest.\n",
    "#### How 'clean' is the data?\n",
    "We drop the null data appearing in each column and replace the possible null value in ‘absences’ column with the mean value.\n",
    "\n",
    "#### What did you have to do to get the data into a usable format? (If you did nothing, how did you determine there was nothing to do?)\n",
    "We discussed columns to remove from the data that we do not need. Here, we will focus on the following features: `['sex', 'age', 'G3', 'absences', 'Dalc', 'Walc', 'studytime', 'health', 'freetime', 'higher', 'famrel']`. We also renamed several columns to make it more readable.\n",
    "\n",
    "#### What pre-processing steps that were required for your methods (for example, checking data distributions and performing any transformations that may be required)\n",
    "We will state the data types in the dataset and check if there is any null value in the dataset. If there is, we will replace it with the mean value. After that, we print out all the descriptive statistics to see if there is any outlier. If there is, we will remove it. Otherwise, we start working on the EDA.\n",
    "\n",
    "For the research question concerning the impact of early exposure to alcohol consumption on children's mental health and academic performance, as well as its effects on their family, friends, and supporters, the following features from the dataset could be particularly relevant:\n",
    "\n",
    "1. Sex (`sex`) and Age (`age`): Demographic variables that could influence alcohol consumption and academic performance.\n",
    "2. Academic Performance (`G3`): Final grade in the course, reflecting the impact of alcohol consumption on academic outcomes.\n",
    "3. Absences (`absences`): School absenteeism, which might be related to both academic performance and alcohol consumption.\n",
    "4. Alcohol Consumption (`Dalc` and `Walc`): Measures of daily and weekend alcohol consumption to quantify the level of alcohol exposure.\n",
    "5. Study Time (`studytime`): Amount of time dedicated to studying, which could be impacted by alcohol consumption.\n",
    "6. Mental Health (`health`): A proxy for mental health status, indicating how health issues might correlate with alcohol consumption and academic performance.\n",
    "7. Free Time (`freetime`): Amount of free time after school, which might influence alcohol consumption and academic performance.\n",
    "8. Higher education (`higher`): Aspiration for higher education, which could be affected by or have an effect on alcohol consumption patterns.\n",
    "9. Family Relationships (`famrel`): Quality of family relationships, which could be affected by or have an effect on alcohol consumption patterns."
   ],
   "metadata": {
    "collapsed": false
   }
  },
  {
   "cell_type": "markdown",
   "source": [
    "In our project, we aim to thoroughly investigate how early exposure to alcohol affects adolescents aged 15-22, focusing specifically on mental health, academic performance, and their interactions within their personal networks. Our analysis will concentrate on key variables: sex (`sex`), age (`age`), final grades (`G3`), school absences (`absences`), daily (`Dalc`) and weekend (`Walc`) alcohol consumption levels, study time (`studytime`), health status (`health`), free time after school (`freetime`), aspirations for higher education (`higher`), and quality of family relationships (`famrel`). By examining these dimensions, we intend to quantify the extent of alcohol exposure and its correlation with crucial aspects of adolescent life, including their well-being, academic achievements, and the dynamics of their relationships with family and friends. This focused approach will allow us to illuminate the broader effects of early alcohol exposure, contributing to a deeper understanding of its impact on adolescents' educational journeys and social environments."
   ],
   "metadata": {
    "collapsed": false
   }
  },
  {
   "cell_type": "markdown",
   "source": [
    "## Feature Name Explanation (as in original dataset):\n",
    "1. sex - student's sex (binary: 'F' - female or 'M' - male)\n",
    "2. age - student's age (numeric: from 15 to 22)\n",
    "3. studytime - weekly study time (numeric: 1 - <2 hours, 2 - 2 to 5 hours, 3 - 5 to 10 hours, or 4 - >10 hours)\n",
    "4. higher - wants to take higher education (binary: yes or no) \n",
    "5. famrel - quality of family relationships (numeric: from 1 - very bad to 5 - excellent)\n",
    "6. freetime - free time after school (numeric: from 1 - very low to 5 - very high)\n",
    "7.  Dalc - workday alcohol consumption (numeric: from 1 - very low to 5 - very high)\n",
    "8.  Walc - weekend alcohol consumption (numeric: from 1 - very low to 5 - very high)\n",
    "9.  health - current health status (numeric: from 1 - very bad to 5 - very good)\n",
    "10.  absences - number of school absences (numeric: from 0 to 93)\n",
    "11.  G3 - final grade (numeric: from 0 to 20, output target)\n",
    "\n",
    "#### CHANGES:\n",
    "- Dalc to workday_alc\n",
    "- Walc to weekend_alc\n",
    "- famrel to family_relationship\n",
    "\n",
    "In this revise version, we will focus on the following features: `['sex', 'age', 'G3', 'absences', 'Dalc', 'Walc', 'studytime', 'health', 'freetime', 'higher', 'famrel']`. First, we need to update the name of several features to make sure it's readable. Then, we will drop the null data appearing in each column and replace the possible null value in ‘absences’ column with the mean value. After that, we will plot the distribution of each feature to see if there is any outlier. If there is, we will remove it. Unfortunately, the data is already in understandable format, so we do not need to do any standardization on those. Check out through the "
   ],
   "metadata": {
    "collapsed": false
   }
  },
  {
   "cell_type": "markdown",
   "metadata": {},
   "source": [
    "## Dataset #1 (use name instead of number here)"
   ]
  },
  {
   "cell_type": "code",
   "execution_count": 1,
   "metadata": {
    "ExecuteTime": {
     "end_time": "2024-03-07T22:37:45.045224Z",
     "start_time": "2024-03-07T22:37:44.781366Z"
    }
   },
   "outputs": [],
   "source": [
    "## YOUR CODE TO LOAD/CLEAN/TIDY/WRANGLE THE DATA GOES HERE\n",
    "## FEEL FREE TO ADD MULTIPLE CELLS PER SECTION \n",
    "\n",
    "import numpy as np\n",
    "import pandas as pd\n",
    "import matplotlib.pyplot as plt\n",
    "import seaborn as sns\n",
    "from sklearn import datasets\n",
    "from sklearn.model_selection import train_test_split\n",
    "from sklearn.linear_model import LinearRegression\n",
    "from sklearn.metrics import mean_squared_error\n",
    "import requests\n",
    "import json\n",
    "import io\n",
    "\n",
    "# load the data\n",
    "math_df = pd.read_csv('student-mat.csv')\n",
    "por_df = pd.read_csv('student-por.csv')"
   ]
  },
  {
   "cell_type": "code",
   "outputs": [],
   "source": [
    "# Choose features to work on\n",
    "math_df = math_df[['sex', 'age', 'G3', 'absences', 'Dalc', 'Walc', 'studytime', 'health', 'freetime', 'higher', 'famrel']]\n",
    "por_df = por_df[['sex', 'age', 'G3', 'absences', 'Dalc', 'Walc', 'studytime', 'health', 'freetime', 'higher', 'famrel']]"
   ],
   "metadata": {
    "collapsed": false,
    "ExecuteTime": {
     "end_time": "2024-03-07T22:37:45.060795Z",
     "start_time": "2024-03-07T22:37:45.045942Z"
    }
   },
   "execution_count": 2
  },
  {
   "cell_type": "code",
   "outputs": [
    {
     "data": {
      "text/plain": "  sex  age  G3  absences  workday_alc  weekend_alc  studytime  health  \\\n0   F   18   6         6            1            1          2       3   \n1   F   17   6         4            1            1          2       3   \n2   F   15  10        10            2            3          2       3   \n3   F   15  15         2            1            1          3       5   \n4   F   16  10         4            1            2          2       5   \n\n   freetime higher  family_relationship  \n0         3    yes                    4  \n1         3    yes                    5  \n2         3    yes                    4  \n3         2    yes                    3  \n4         3    yes                    4  ",
      "text/html": "<div>\n<style scoped>\n    .dataframe tbody tr th:only-of-type {\n        vertical-align: middle;\n    }\n\n    .dataframe tbody tr th {\n        vertical-align: top;\n    }\n\n    .dataframe thead th {\n        text-align: right;\n    }\n</style>\n<table border=\"1\" class=\"dataframe\">\n  <thead>\n    <tr style=\"text-align: right;\">\n      <th></th>\n      <th>sex</th>\n      <th>age</th>\n      <th>G3</th>\n      <th>absences</th>\n      <th>workday_alc</th>\n      <th>weekend_alc</th>\n      <th>studytime</th>\n      <th>health</th>\n      <th>freetime</th>\n      <th>higher</th>\n      <th>family_relationship</th>\n    </tr>\n  </thead>\n  <tbody>\n    <tr>\n      <th>0</th>\n      <td>F</td>\n      <td>18</td>\n      <td>6</td>\n      <td>6</td>\n      <td>1</td>\n      <td>1</td>\n      <td>2</td>\n      <td>3</td>\n      <td>3</td>\n      <td>yes</td>\n      <td>4</td>\n    </tr>\n    <tr>\n      <th>1</th>\n      <td>F</td>\n      <td>17</td>\n      <td>6</td>\n      <td>4</td>\n      <td>1</td>\n      <td>1</td>\n      <td>2</td>\n      <td>3</td>\n      <td>3</td>\n      <td>yes</td>\n      <td>5</td>\n    </tr>\n    <tr>\n      <th>2</th>\n      <td>F</td>\n      <td>15</td>\n      <td>10</td>\n      <td>10</td>\n      <td>2</td>\n      <td>3</td>\n      <td>2</td>\n      <td>3</td>\n      <td>3</td>\n      <td>yes</td>\n      <td>4</td>\n    </tr>\n    <tr>\n      <th>3</th>\n      <td>F</td>\n      <td>15</td>\n      <td>15</td>\n      <td>2</td>\n      <td>1</td>\n      <td>1</td>\n      <td>3</td>\n      <td>5</td>\n      <td>2</td>\n      <td>yes</td>\n      <td>3</td>\n    </tr>\n    <tr>\n      <th>4</th>\n      <td>F</td>\n      <td>16</td>\n      <td>10</td>\n      <td>4</td>\n      <td>1</td>\n      <td>2</td>\n      <td>2</td>\n      <td>5</td>\n      <td>3</td>\n      <td>yes</td>\n      <td>4</td>\n    </tr>\n  </tbody>\n</table>\n</div>"
     },
     "execution_count": 18,
     "metadata": {},
     "output_type": "execute_result"
    }
   ],
   "source": [
    "math_df.head()"
   ],
   "metadata": {
    "collapsed": false,
    "ExecuteTime": {
     "end_time": "2024-03-07T23:13:55.018651Z",
     "start_time": "2024-03-07T23:13:55.006652Z"
    }
   },
   "execution_count": 18
  },
  {
   "cell_type": "code",
   "outputs": [
    {
     "data": {
      "text/plain": "  sex  age  G3  absences  workday_alc  weekend_alc  studytime  health  \\\n0   F   18  11         4            1            1          2       3   \n1   F   17  11         2            1            1          2       3   \n2   F   15  12         6            2            3          2       3   \n3   F   15  14         0            1            1          3       5   \n4   F   16  13         0            1            2          2       5   \n\n   freetime higher  family_relationship  \n0         3    yes                    4  \n1         3    yes                    5  \n2         3    yes                    4  \n3         2    yes                    3  \n4         3    yes                    4  ",
      "text/html": "<div>\n<style scoped>\n    .dataframe tbody tr th:only-of-type {\n        vertical-align: middle;\n    }\n\n    .dataframe tbody tr th {\n        vertical-align: top;\n    }\n\n    .dataframe thead th {\n        text-align: right;\n    }\n</style>\n<table border=\"1\" class=\"dataframe\">\n  <thead>\n    <tr style=\"text-align: right;\">\n      <th></th>\n      <th>sex</th>\n      <th>age</th>\n      <th>G3</th>\n      <th>absences</th>\n      <th>workday_alc</th>\n      <th>weekend_alc</th>\n      <th>studytime</th>\n      <th>health</th>\n      <th>freetime</th>\n      <th>higher</th>\n      <th>family_relationship</th>\n    </tr>\n  </thead>\n  <tbody>\n    <tr>\n      <th>0</th>\n      <td>F</td>\n      <td>18</td>\n      <td>11</td>\n      <td>4</td>\n      <td>1</td>\n      <td>1</td>\n      <td>2</td>\n      <td>3</td>\n      <td>3</td>\n      <td>yes</td>\n      <td>4</td>\n    </tr>\n    <tr>\n      <th>1</th>\n      <td>F</td>\n      <td>17</td>\n      <td>11</td>\n      <td>2</td>\n      <td>1</td>\n      <td>1</td>\n      <td>2</td>\n      <td>3</td>\n      <td>3</td>\n      <td>yes</td>\n      <td>5</td>\n    </tr>\n    <tr>\n      <th>2</th>\n      <td>F</td>\n      <td>15</td>\n      <td>12</td>\n      <td>6</td>\n      <td>2</td>\n      <td>3</td>\n      <td>2</td>\n      <td>3</td>\n      <td>3</td>\n      <td>yes</td>\n      <td>4</td>\n    </tr>\n    <tr>\n      <th>3</th>\n      <td>F</td>\n      <td>15</td>\n      <td>14</td>\n      <td>0</td>\n      <td>1</td>\n      <td>1</td>\n      <td>3</td>\n      <td>5</td>\n      <td>2</td>\n      <td>yes</td>\n      <td>3</td>\n    </tr>\n    <tr>\n      <th>4</th>\n      <td>F</td>\n      <td>16</td>\n      <td>13</td>\n      <td>0</td>\n      <td>1</td>\n      <td>2</td>\n      <td>2</td>\n      <td>5</td>\n      <td>3</td>\n      <td>yes</td>\n      <td>4</td>\n    </tr>\n  </tbody>\n</table>\n</div>"
     },
     "execution_count": 19,
     "metadata": {},
     "output_type": "execute_result"
    }
   ],
   "source": [
    "por_df.head()"
   ],
   "metadata": {
    "collapsed": false,
    "ExecuteTime": {
     "end_time": "2024-03-07T23:14:01.697921Z",
     "start_time": "2024-03-07T23:14:01.682925Z"
    }
   },
   "execution_count": 19
  },
  {
   "cell_type": "code",
   "outputs": [
    {
     "data": {
      "text/plain": "((395, 11), (649, 11))"
     },
     "execution_count": 4,
     "metadata": {},
     "output_type": "execute_result"
    }
   ],
   "source": [
    "# Check the shape of the data\n",
    "math_df.shape, por_df.shape"
   ],
   "metadata": {
    "collapsed": false,
    "ExecuteTime": {
     "end_time": "2024-03-07T22:37:45.091378Z",
     "start_time": "2024-03-07T22:37:45.076938Z"
    }
   },
   "execution_count": 4
  },
  {
   "cell_type": "code",
   "outputs": [
    {
     "name": "stdout",
     "output_type": "stream",
     "text": [
      "Data types in Math dataset:\n",
      " sex          object\n",
      "age           int64\n",
      "G3            int64\n",
      "absences      int64\n",
      "Dalc          int64\n",
      "Walc          int64\n",
      "studytime     int64\n",
      "health        int64\n",
      "freetime      int64\n",
      "higher       object\n",
      "famrel        int64\n",
      "dtype: object\n",
      "\n",
      "Data types in Portuguese dataset:\n",
      " sex          object\n",
      "age           int64\n",
      "G3            int64\n",
      "absences      int64\n",
      "Dalc          int64\n",
      "Walc          int64\n",
      "studytime     int64\n",
      "health        int64\n",
      "freetime      int64\n",
      "higher       object\n",
      "famrel        int64\n",
      "dtype: object\n"
     ]
    }
   ],
   "source": [
    "# Convert to appropriate data types if necessary - a quick check\n",
    "math_dtypes = math_df.dtypes\n",
    "por_dtypes = por_df.dtypes\n",
    "print(\"Data types in Math dataset:\\n\", math_dtypes)\n",
    "print(\"\\nData types in Portuguese dataset:\\n\", por_dtypes)"
   ],
   "metadata": {
    "collapsed": false,
    "ExecuteTime": {
     "end_time": "2024-03-07T22:37:45.139240Z",
     "start_time": "2024-03-07T22:37:45.124241Z"
    }
   },
   "execution_count": 7
  },
  {
   "cell_type": "markdown",
   "source": [
    "### Data types\n",
    "The data types in both datasets are:\n",
    "- **int64**: age, G3, absences, workday_alc, weekend_alc, studytime, health, freetime, family_relationship\n",
    "- **object**: sex, higher"
   ],
   "metadata": {
    "collapsed": false
   }
  },
  {
   "cell_type": "code",
   "outputs": [],
   "source": [
    "# Rename columns to be more descriptive\n",
    "math_df.rename(columns={'famrel': 'family_relationship'}, inplace=True)\n",
    "por_df.rename(columns={'famrel': 'family_relationship'}, inplace=True)\n",
    "\n",
    "math_df.rename(columns={'Dalc': 'workday_alc'}, inplace=True)\n",
    "por_df.rename(columns={'Dalc': 'workday_alc'}, inplace=True)\n",
    "\n",
    "math_df.rename(columns={'Walc': 'weekend_alc'}, inplace=True)\n",
    "por_df.rename(columns={'Walc': 'weekend_alc'}, inplace=True)"
   ],
   "metadata": {
    "collapsed": false,
    "ExecuteTime": {
     "end_time": "2024-03-07T22:37:45.218100Z",
     "start_time": "2024-03-07T22:37:45.204006Z"
    }
   },
   "execution_count": 10
  },
  {
   "cell_type": "code",
   "outputs": [
    {
     "name": "stdout",
     "output_type": "stream",
     "text": [
      "Math dataset:\n",
      "sex          0\n",
      "age          0\n",
      "G3           0\n",
      "absences     0\n",
      "Dalc         0\n",
      "Walc         0\n",
      "studytime    0\n",
      "health       0\n",
      "freetime     0\n",
      "higher       0\n",
      "famrel       0\n",
      "dtype: int64\n",
      "\n",
      "Portuguese dataset:\n",
      "sex          0\n",
      "age          0\n",
      "G3           0\n",
      "absences     0\n",
      "Dalc         0\n",
      "Walc         0\n",
      "studytime    0\n",
      "health       0\n",
      "freetime     0\n",
      "higher       0\n",
      "famrel       0\n",
      "dtype: int64\n"
     ]
    }
   ],
   "source": [
    "# Check if there is still any null values\n",
    "print(\"Math dataset:\")\n",
    "print(math_df.isnull().sum())\n",
    "print()\n",
    "print(\"Portuguese dataset:\")\n",
    "print(por_df.isnull().sum())"
   ],
   "metadata": {
    "collapsed": false,
    "ExecuteTime": {
     "end_time": "2024-03-07T22:37:45.107241Z",
     "start_time": "2024-03-07T22:37:45.093240Z"
    }
   },
   "execution_count": 5
  },
  {
   "cell_type": "code",
   "outputs": [
    {
     "name": "stderr",
     "output_type": "stream",
     "text": [
      "C:\\Users\\Nhat\\AppData\\Local\\Temp\\ipykernel_9708\\2940684128.py:8: FutureWarning: A value is trying to be set on a copy of a DataFrame or Series through chained assignment using an inplace method.\n",
      "The behavior will change in pandas 3.0. This inplace method will never work because the intermediate object on which we are setting values always behaves as a copy.\n",
      "\n",
      "For example, when doing 'df[col].method(value, inplace=True)', try using 'df.method({col: value}, inplace=True)' or df[col] = df[col].method(value) instead, to perform the operation inplace on the original object.\n",
      "\n",
      "\n",
      "  math_df['absences'].fillna(math_df['absences'].mean(), inplace=True)\n",
      "C:\\Users\\Nhat\\AppData\\Local\\Temp\\ipykernel_9708\\2940684128.py:9: FutureWarning: A value is trying to be set on a copy of a DataFrame or Series through chained assignment using an inplace method.\n",
      "The behavior will change in pandas 3.0. This inplace method will never work because the intermediate object on which we are setting values always behaves as a copy.\n",
      "\n",
      "For example, when doing 'df[col].method(value, inplace=True)', try using 'df.method({col: value}, inplace=True)' or df[col] = df[col].method(value) instead, to perform the operation inplace on the original object.\n",
      "\n",
      "\n",
      "  por_df['absences'].fillna(por_df['absences'].mean(), inplace=True)\n"
     ]
    }
   ],
   "source": [
    "# Data Clean for math_df and por_df\n",
    "\n",
    "## Removing rows with missing values\n",
    "math_df.dropna(inplace=True)\n",
    "por_df.dropna(inplace=True)\n",
    "\n",
    "## Imputing missing 'absensces' with the mean weight\n",
    "math_df['absences'].fillna(math_df['absences'].mean(), inplace=True)\n",
    "por_df['absences'].fillna(por_df['absences'].mean(), inplace=True)"
   ],
   "metadata": {
    "collapsed": false,
    "ExecuteTime": {
     "end_time": "2024-03-07T22:37:45.075938Z",
     "start_time": "2024-03-07T22:37:45.061762Z"
    }
   },
   "execution_count": 3
  },
  {
   "cell_type": "code",
   "outputs": [
    {
     "name": "stdout",
     "output_type": "stream",
     "text": [
      "Number of duplicate entries in Math dataset:  0\n",
      "Number of duplicate entries in Portuguese dataset:  0\n"
     ]
    }
   ],
   "source": [
    "# Duplicate Entries - Checking for duplicates\n",
    "math_duplicates = math_df.duplicated().sum()\n",
    "por_duplicates = por_df.duplicated().sum()\n",
    "print(\"Number of duplicate entries in Math dataset: \", math_duplicates)\n",
    "print(\"Number of duplicate entries in Portuguese dataset: \", por_duplicates)"
   ],
   "metadata": {
    "collapsed": false,
    "ExecuteTime": {
     "end_time": "2024-03-07T22:37:45.123240Z",
     "start_time": "2024-03-07T22:37:45.108243Z"
    }
   },
   "execution_count": 6
  },
  {
   "cell_type": "code",
   "outputs": [
    {
     "name": "stdout",
     "output_type": "stream",
     "text": [
      "Math outliers:\n"
     ]
    },
    {
     "data": {
      "text/plain": "              age          G3    absences        Dalc        Walc   studytime  \\\ncount  395.000000  395.000000  395.000000  395.000000  395.000000  395.000000   \nmean    16.696203   10.415190    5.708861    1.481013    2.291139    2.035443   \nstd      1.276043    4.581443    8.003096    0.890741    1.287897    0.839240   \nmin     15.000000    0.000000    0.000000    1.000000    1.000000    1.000000   \n25%     16.000000    8.000000    0.000000    1.000000    1.000000    1.000000   \n50%     17.000000   11.000000    4.000000    1.000000    2.000000    2.000000   \n75%     18.000000   14.000000    8.000000    2.000000    3.000000    2.000000   \nmax     22.000000   20.000000   75.000000    5.000000    5.000000    4.000000   \n\n           health    freetime      famrel  \ncount  395.000000  395.000000  395.000000  \nmean     3.554430    3.235443    3.944304  \nstd      1.390303    0.998862    0.896659  \nmin      1.000000    1.000000    1.000000  \n25%      3.000000    3.000000    4.000000  \n50%      4.000000    3.000000    4.000000  \n75%      5.000000    4.000000    5.000000  \nmax      5.000000    5.000000    5.000000  ",
      "text/html": "<div>\n<style scoped>\n    .dataframe tbody tr th:only-of-type {\n        vertical-align: middle;\n    }\n\n    .dataframe tbody tr th {\n        vertical-align: top;\n    }\n\n    .dataframe thead th {\n        text-align: right;\n    }\n</style>\n<table border=\"1\" class=\"dataframe\">\n  <thead>\n    <tr style=\"text-align: right;\">\n      <th></th>\n      <th>age</th>\n      <th>G3</th>\n      <th>absences</th>\n      <th>Dalc</th>\n      <th>Walc</th>\n      <th>studytime</th>\n      <th>health</th>\n      <th>freetime</th>\n      <th>famrel</th>\n    </tr>\n  </thead>\n  <tbody>\n    <tr>\n      <th>count</th>\n      <td>395.000000</td>\n      <td>395.000000</td>\n      <td>395.000000</td>\n      <td>395.000000</td>\n      <td>395.000000</td>\n      <td>395.000000</td>\n      <td>395.000000</td>\n      <td>395.000000</td>\n      <td>395.000000</td>\n    </tr>\n    <tr>\n      <th>mean</th>\n      <td>16.696203</td>\n      <td>10.415190</td>\n      <td>5.708861</td>\n      <td>1.481013</td>\n      <td>2.291139</td>\n      <td>2.035443</td>\n      <td>3.554430</td>\n      <td>3.235443</td>\n      <td>3.944304</td>\n    </tr>\n    <tr>\n      <th>std</th>\n      <td>1.276043</td>\n      <td>4.581443</td>\n      <td>8.003096</td>\n      <td>0.890741</td>\n      <td>1.287897</td>\n      <td>0.839240</td>\n      <td>1.390303</td>\n      <td>0.998862</td>\n      <td>0.896659</td>\n    </tr>\n    <tr>\n      <th>min</th>\n      <td>15.000000</td>\n      <td>0.000000</td>\n      <td>0.000000</td>\n      <td>1.000000</td>\n      <td>1.000000</td>\n      <td>1.000000</td>\n      <td>1.000000</td>\n      <td>1.000000</td>\n      <td>1.000000</td>\n    </tr>\n    <tr>\n      <th>25%</th>\n      <td>16.000000</td>\n      <td>8.000000</td>\n      <td>0.000000</td>\n      <td>1.000000</td>\n      <td>1.000000</td>\n      <td>1.000000</td>\n      <td>3.000000</td>\n      <td>3.000000</td>\n      <td>4.000000</td>\n    </tr>\n    <tr>\n      <th>50%</th>\n      <td>17.000000</td>\n      <td>11.000000</td>\n      <td>4.000000</td>\n      <td>1.000000</td>\n      <td>2.000000</td>\n      <td>2.000000</td>\n      <td>4.000000</td>\n      <td>3.000000</td>\n      <td>4.000000</td>\n    </tr>\n    <tr>\n      <th>75%</th>\n      <td>18.000000</td>\n      <td>14.000000</td>\n      <td>8.000000</td>\n      <td>2.000000</td>\n      <td>3.000000</td>\n      <td>2.000000</td>\n      <td>5.000000</td>\n      <td>4.000000</td>\n      <td>5.000000</td>\n    </tr>\n    <tr>\n      <th>max</th>\n      <td>22.000000</td>\n      <td>20.000000</td>\n      <td>75.000000</td>\n      <td>5.000000</td>\n      <td>5.000000</td>\n      <td>4.000000</td>\n      <td>5.000000</td>\n      <td>5.000000</td>\n      <td>5.000000</td>\n    </tr>\n  </tbody>\n</table>\n</div>"
     },
     "execution_count": 8,
     "metadata": {},
     "output_type": "execute_result"
    }
   ],
   "source": [
    "# Outliers - Checking for outliers\n",
    "print(\"Math outliers:\")\n",
    "math_df.describe()"
   ],
   "metadata": {
    "collapsed": false,
    "ExecuteTime": {
     "end_time": "2024-03-07T22:37:45.170880Z",
     "start_time": "2024-03-07T22:37:45.142244Z"
    }
   },
   "execution_count": 8
  },
  {
   "cell_type": "code",
   "outputs": [
    {
     "name": "stdout",
     "output_type": "stream",
     "text": [
      "Portuguese outliers:\n"
     ]
    },
    {
     "data": {
      "text/plain": "              age          G3    absences        Dalc        Walc   studytime  \\\ncount  649.000000  649.000000  649.000000  649.000000  649.000000  649.000000   \nmean    16.744222   11.906009    3.659476    1.502311    2.280431    1.930663   \nstd      1.218138    3.230656    4.640759    0.924834    1.284380    0.829510   \nmin     15.000000    0.000000    0.000000    1.000000    1.000000    1.000000   \n25%     16.000000   10.000000    0.000000    1.000000    1.000000    1.000000   \n50%     17.000000   12.000000    2.000000    1.000000    2.000000    2.000000   \n75%     18.000000   14.000000    6.000000    2.000000    3.000000    2.000000   \nmax     22.000000   19.000000   32.000000    5.000000    5.000000    4.000000   \n\n           health    freetime      famrel  \ncount  649.000000  649.000000  649.000000  \nmean     3.536210    3.180277    3.930663  \nstd      1.446259    1.051093    0.955717  \nmin      1.000000    1.000000    1.000000  \n25%      2.000000    3.000000    4.000000  \n50%      4.000000    3.000000    4.000000  \n75%      5.000000    4.000000    5.000000  \nmax      5.000000    5.000000    5.000000  ",
      "text/html": "<div>\n<style scoped>\n    .dataframe tbody tr th:only-of-type {\n        vertical-align: middle;\n    }\n\n    .dataframe tbody tr th {\n        vertical-align: top;\n    }\n\n    .dataframe thead th {\n        text-align: right;\n    }\n</style>\n<table border=\"1\" class=\"dataframe\">\n  <thead>\n    <tr style=\"text-align: right;\">\n      <th></th>\n      <th>age</th>\n      <th>G3</th>\n      <th>absences</th>\n      <th>Dalc</th>\n      <th>Walc</th>\n      <th>studytime</th>\n      <th>health</th>\n      <th>freetime</th>\n      <th>famrel</th>\n    </tr>\n  </thead>\n  <tbody>\n    <tr>\n      <th>count</th>\n      <td>649.000000</td>\n      <td>649.000000</td>\n      <td>649.000000</td>\n      <td>649.000000</td>\n      <td>649.000000</td>\n      <td>649.000000</td>\n      <td>649.000000</td>\n      <td>649.000000</td>\n      <td>649.000000</td>\n    </tr>\n    <tr>\n      <th>mean</th>\n      <td>16.744222</td>\n      <td>11.906009</td>\n      <td>3.659476</td>\n      <td>1.502311</td>\n      <td>2.280431</td>\n      <td>1.930663</td>\n      <td>3.536210</td>\n      <td>3.180277</td>\n      <td>3.930663</td>\n    </tr>\n    <tr>\n      <th>std</th>\n      <td>1.218138</td>\n      <td>3.230656</td>\n      <td>4.640759</td>\n      <td>0.924834</td>\n      <td>1.284380</td>\n      <td>0.829510</td>\n      <td>1.446259</td>\n      <td>1.051093</td>\n      <td>0.955717</td>\n    </tr>\n    <tr>\n      <th>min</th>\n      <td>15.000000</td>\n      <td>0.000000</td>\n      <td>0.000000</td>\n      <td>1.000000</td>\n      <td>1.000000</td>\n      <td>1.000000</td>\n      <td>1.000000</td>\n      <td>1.000000</td>\n      <td>1.000000</td>\n    </tr>\n    <tr>\n      <th>25%</th>\n      <td>16.000000</td>\n      <td>10.000000</td>\n      <td>0.000000</td>\n      <td>1.000000</td>\n      <td>1.000000</td>\n      <td>1.000000</td>\n      <td>2.000000</td>\n      <td>3.000000</td>\n      <td>4.000000</td>\n    </tr>\n    <tr>\n      <th>50%</th>\n      <td>17.000000</td>\n      <td>12.000000</td>\n      <td>2.000000</td>\n      <td>1.000000</td>\n      <td>2.000000</td>\n      <td>2.000000</td>\n      <td>4.000000</td>\n      <td>3.000000</td>\n      <td>4.000000</td>\n    </tr>\n    <tr>\n      <th>75%</th>\n      <td>18.000000</td>\n      <td>14.000000</td>\n      <td>6.000000</td>\n      <td>2.000000</td>\n      <td>3.000000</td>\n      <td>2.000000</td>\n      <td>5.000000</td>\n      <td>4.000000</td>\n      <td>5.000000</td>\n    </tr>\n    <tr>\n      <th>max</th>\n      <td>22.000000</td>\n      <td>19.000000</td>\n      <td>32.000000</td>\n      <td>5.000000</td>\n      <td>5.000000</td>\n      <td>4.000000</td>\n      <td>5.000000</td>\n      <td>5.000000</td>\n      <td>5.000000</td>\n    </tr>\n  </tbody>\n</table>\n</div>"
     },
     "execution_count": 9,
     "metadata": {},
     "output_type": "execute_result"
    }
   ],
   "source": [
    "print(\"Portuguese outliers:\")\n",
    "por_df.describe()"
   ],
   "metadata": {
    "collapsed": false,
    "ExecuteTime": {
     "end_time": "2024-03-07T22:37:45.203003Z",
     "start_time": "2024-03-07T22:37:45.171844Z"
    }
   },
   "execution_count": 9
  },
  {
   "cell_type": "markdown",
   "metadata": {},
   "source": [
    "# Results\n",
    "\n",
    "## Exploratory Data Analysis\n",
    "\n",
    "Carry out whatever EDA you need to for your project.  Because every project will be different we can't really give you much of a template at this point. But please make sure you describe the what and why in text here as well as providing interpretation of results and context."
   ]
  },
  {
   "cell_type": "markdown",
   "metadata": {},
   "source": [
    "### Section 1 of EDA - please give it a better title than this\n",
    "\n",
    "Some more words and stuff.  Remember notebooks work best if you interleave the code that generates a result with properly annotate figures and text that puts these results into context."
   ]
  },
  {
   "cell_type": "code",
   "execution_count": 12,
   "metadata": {
    "ExecuteTime": {
     "end_time": "2024-03-07T22:37:45.295025Z",
     "start_time": "2024-03-07T22:37:45.282353Z"
    }
   },
   "outputs": [],
   "source": [
    "## YOUR CODE HERE\n",
    "## FEEL FREE TO ADD MULTIPLE CELLS PER SECTION"
   ]
  },
  {
   "cell_type": "markdown",
   "metadata": {},
   "source": [
    "### Section 2 of EDA if you need it  - please give it a better title than this\n",
    "\n",
    "Some more words and stuff.  Remember notebooks work best if you interleave the code that generates a result with properly annotate figures and text that puts these results into context."
   ]
  },
  {
   "cell_type": "code",
   "execution_count": 13,
   "metadata": {
    "ExecuteTime": {
     "end_time": "2024-03-07T22:37:45.310548Z",
     "start_time": "2024-03-07T22:37:45.296026Z"
    }
   },
   "outputs": [],
   "source": [
    "## YOUR CODE HERE\n",
    "## FEEL FREE TO ADD MULTIPLE CELLS PER SECTION"
   ]
  },
  {
   "cell_type": "markdown",
   "metadata": {},
   "source": [
    "# Ethics & Privacy"
   ]
  },
  {
   "cell_type": "markdown",
   "metadata": {},
   "source": [
    "- Thoughtful discussion of ethical concerns included\n",
    "- Ethical concerns consider the whole data science process (question asked, data collected, data being used, the bias in data, analysis, post-analysis, etc.)\n",
    "- How your group handled bias/ethical concerns clearly described\n",
    "\n",
    "Acknowledge and address any ethics & privacy related issues of your question(s), proposed dataset(s), and/or analyses. Use the information provided in lecture to guide your group discussion and thinking. If you need further guidance, check out [Deon's Ethics Checklist](http://deon.drivendata.org/#data-science-ethics-checklist). In particular:\n",
    "\n",
    "- Are there any biases/privacy/terms of use issues with the data you propsed?\n",
    "- Are there potential biases in your dataset(s), in terms of who it composes, and how it was collected, that may be problematic in terms of it allowing for equitable analysis? (For example, does your data exclude particular populations, or is it likely to reflect particular human biases in a way that could be a problem?)\n",
    "- How will you set out to detect these specific biases before, during, and after/when communicating your analysis?\n",
    "- Are there any other issues related to your topic area, data, and/or analyses that are potentially problematic in terms of data privacy and equitable impact?\n",
    "- How will you handle issues you identified?"
   ]
  },
  {
   "cell_type": "markdown",
   "source": [
    "**Ethics & Privacy Issues:**\n",
    "\n",
    "Our research into the relationship between alcohol consumption and academic performance in secondary students raises several ethical and privacy concerns, primarily related to the sensitivity of the data involved and the potential for bias in our analysis. \n",
    "\n",
    "1. **Data Sensitivity and Privacy:** The dataset contains sensitive information regarding students' alcohol consumption habits, academic performance, and personal demographics. There is a potential risk of identifying individual students, especially in smaller subsets of data. To mitigate this risk, we will ensure all data used is anonymized, with no direct or indirect identifiers present in our dataset.\n",
    "\n",
    "2. **Bias in Data Collection:** Our dataset might not equally represent all student populations, potentially excluding or under-representing certain groups based on geography, socio-economic status, or other factors. This could introduce biases that skew our analysis and conclusions. To address this concern, we will critically assess the dataset's composition and collection methods, seeking to understand and acknowledge any limitations in our analysis. Where possible, we will use statistical techniques to adjust for known biases.\n",
    "\n",
    "3. **Detecting and Handling Biases:** To detect biases in our dataset, we will perform exploratory data analysis (EDA) to identify any disproportionate representation of groups. During analysis, we will be mindful of how these biases could influence our findings and will use statistical methods to minimize their impact. After analysis, we will transparently communicate any biases or limitations identified in our study, ensuring that our findings are interpreted within the appropriate context.\n",
    "\n",
    "4. **Equitable Analysis and Impact:** There is a risk that our analysis could inadvertently stigmatize students who consume alcohol or those from specific demographics. To prevent this, we will approach our analysis with sensitivity, focusing on the broader systemic factors that contribute to our findings rather than attributing behaviors or outcomes to individual moral failings. We will also consider the potential impact of our findings on policy and practice, advocating for interventions that are supportive and non-punitive.\n",
    "\n",
    "5. **Handling Identified Issues:** Any issues related to data privacy or bias identified during our research will be addressed through modifications to our analysis plan and by applying appropriate statistical adjustments. We commit to conducting our research ethically, prioritizing the privacy and dignity of the students represented in the dataset, and being transparent about our methodology and findings. Also, if we find any issues above our handle, we will report them to the course staff and seek guidance on how to proceed."
   ],
   "metadata": {
    "collapsed": false
   }
  },
  {
   "cell_type": "markdown",
   "metadata": {},
   "source": [
    "# Team Expectations "
   ]
  },
  {
   "cell_type": "markdown",
   "metadata": {},
   "source": [
    "\n",
    "Read over the [COGS108 Team Policies](https://github.com/COGS108/Projects/blob/master/COGS108_TeamPolicies.md) individually. Then, include your group’s expectations of one another for successful completion of your COGS108 project below. Discuss and agree on what all of your expectations are. Discuss how your team will communicate throughout the quarter and consider how you will communicate respectfully should conflicts arise. By including each member’s name above and by adding their name to the submission, you are indicating that you have read the COGS108 Team Policies, accept your team’s expectations below, and have every intention to fulfill them. These expectations are for your team’s use and benefit — they won’t be graded for their details.\n",
    "\n",
    "* *Team Expectation 1*\n",
    "* *Team Expectation 2*\n",
    "* *Team Expecation 3*\n",
    "* ..."
   ]
  },
  {
   "cell_type": "markdown",
   "source": [
    "*Note: This may be different depending on what the assignment is. If we are working on the final project, the meeting may be more like catching up on the part that other people in the group are working on.*\n",
    "\n",
    "**Communication** \n",
    "- My team will meet via Zoom or Discord, whichever is convenient for everyone in the group. \n",
    "\n",
    "**Meeting**\n",
    "- We will try to have at least 1-2 meetings per week. The first meeting will be a discussion about what we need to do for the entire week. Then, we will wrap up the assignment in the second meeting.\n",
    "- The meeting time will be flexible based on the time available to people provided on When2Meet. \n",
    "\n",
    "**Expectation**\n",
    "- The research question is as stated in this proposal, and we expect to have a fit dataset to work on towards the end of the quarter.\n",
    "- As a group project, we will all divide the work equally so that everyone can have a chance to work.\n",
    "- If anyone has any issues while working on the project, that person needs to let other people know within a proper amount of time. \n",
    "- Weekly meeting notes with quick summary/ plan of action for the next week for each person. Check the meeting notes if you miss a meeting, and ask questions if you have them.\n",
    "- The team should take notes during each meeting regarding the project progress and discussions to ensures that everyone can catch up on any information they may have missed."
   ],
   "metadata": {
    "collapsed": false
   }
  },
  {
   "cell_type": "markdown",
   "metadata": {},
   "source": [
    "# Project Timeline Proposal"
   ]
  },
  {
   "cell_type": "markdown",
   "metadata": {},
   "source": [
    "Specify your team's specific project timeline. An example timeline has been provided. Changes the dates, times, names, and details to fit your group's plan.\n",
    "\n",
    "If you think you will need any special resources or training outside what we have covered in COGS 108 to solve your problem, then your proposal should state these clearly. For example, if you have selected a problem that involves implementing multiple neural networks, please state this so we can make sure you know what you’re doing and so we can point you to resources you will need to implement your project. Note that you are not required to use outside methods.\n",
    "\n",
    "\n",
    "\n",
    "| Meeting Date | Meeting Time    | Completed Before Meeting                                                | Discuss at Meeting                                                             |\n",
    "|--------------|-----------------|-------------------------------------------------------------------------|--------------------------------------------------------------------------------|\n",
    "| 3/5          | 4:30 PM         | Take a look on the EDA Checkpoint Notebook to know what to do in advance | Decide which features we are working on                                        |\n",
    "| 3/6          | 5 PM            | Have everyone's featues and choose which works best for the project     | Start working on the EDA, and do visualization                                 |\n",
    "| 3/8          | 5 PM            | Try to finish up some visualizations                                    | Fill out the EDACheckpoint and submit                                          |\n",
    "| 3/12         | 4 PM            | Start working on the final part                                         | Work further with the EDA and visualization. Apply concepts from class into it |\n",
    "| 3/14         | 5 PM            | Complete the analysis; Continue on our results/conclusion/discussion    | Discuss/edit the full project                                                  |\n",
    "| 3/18         | Before 11:59 PM | Any corrections that might be to be fixed                               | Turn in Final Project & Group Project Survey                                   |"
   ]
  }
 ],
 "metadata": {
  "kernelspec": {
   "display_name": "Python 3 (ipykernel)",
   "language": "python",
   "name": "python3"
  },
  "language_info": {
   "codemirror_mode": {
    "name": "ipython",
    "version": 3
   },
   "file_extension": ".py",
   "mimetype": "text/x-python",
   "name": "python",
   "nbconvert_exporter": "python",
   "pygments_lexer": "ipython3",
   "version": "3.9.7"
  }
 },
 "nbformat": 4,
 "nbformat_minor": 2
}
