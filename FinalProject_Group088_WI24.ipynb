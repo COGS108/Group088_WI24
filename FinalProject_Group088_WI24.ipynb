{
 "cells": [
  {
   "cell_type": "markdown",
   "metadata": {},
   "source": [
    "# COGS 108 - Final Project (change this to your project's title)\n",
    "\n",
    "# Permissions\n",
    "\n",
    "Place an `X` in the appropriate bracket below to specify if you would like your group's project to be made available to the public. (Note that student names will be included (but PIDs will be scraped from any groups who include their PIDs).\n",
    "\n",
    "* [  ] YES - make available\n",
    "* [  ] NO - keep private\n",
    "\n",
    "# Names\n",
    "\n",
    "- Oswaldo Medina Jr\n",
    "- Minh Duong\n",
    "- Ryan Hwang\n",
    "- Tianhao Chen\n",
    "- Sapna Rachapudi\n",
    "\n",
    "# Abstract\n",
    "\n",
    "Please write one to four paragraphs that describe a very brief overview of why you did this, how you did, and the major findings and conclusions."
   ]
  },
  {
   "cell_type": "markdown",
   "metadata": {},
   "source": [
    "# Research Question"
   ]
  },
  {
   "cell_type": "markdown",
   "metadata": {},
   "source": [
    "-  Include a specific, clear data science question.\n",
    "-  Make sure what you're measuring (variables) to answer the question is clear\n",
    "\n",
    "What is your research question? Include the specific question you're setting out to answer. This question should be specific, answerable with data, and clear. A general question with specific subquestions is permitted. (1-2 sentences)\n",
    "\n",
    "***Does early exposure to alcohol consumption, specifically in adolescents aged 15-22, have a direct impact on their mental health and academic performance? Additionally, how does this exposure affect the relationships and interactions between these adolescents and their family, friends, and supporters throughout their educational journey?***"
   ]
  },
  {
   "cell_type": "markdown",
   "metadata": {},
   "source": [
    "## Background and Prior Work"
   ]
  },
  {
   "cell_type": "markdown",
   "metadata": {},
   "source": [
    "\n",
    "- Include a general introduction to your topic\n",
    "- Include explanation of what work has been done previously\n",
    "- Include citations or links to previous work\n",
    "\n",
    "This section will present the background and context of your topic and question in a few paragraphs. Include a general introduction to your topic and then describe what information you currently know about the topic after doing your initial research. Include references to other projects who have asked similar questions or approached similar problems. Explain what others have learned in their projects.\n",
    "\n",
    "Find some relevant prior work, and reference those sources, summarizing what each did and what they learned. Even if you think you have a totally novel question, find the most similar prior work that you can and discuss how it relates to your project.\n",
    "\n",
    "References can be research publications, but they need not be. Blogs, GitHub repositories, company websites, etc., are all viable references if they are relevant to your project. It must be clear which information comes from which references. (2-3 paragraphs, including at least 2 references)\n",
    "\n",
    "  **Use inline citation through HTML footnotes to specify which references support which statements** \n",
    "\n",
    "For example: After government genocide in the 20th century, real birds were replaced with surveillance drones designed to look just like birds.<a name=\"cite_ref-1\"></a>[<sup>1</sup>](#cite_note-1) Use a minimum of 2 or 3 citations, but we prefer more.<a name=\"cite_ref-2\"></a>[<sup>2</sup>](#cite_note-2) You need enough to fully explain and back up important facts. \n",
    "\n",
    "Note that if you click a footnote number in the paragraph above it will transport you to the proper entry in the footnotes list below.  And if you click the ^ in the footnote entry, it will return you to the place in the main text where the footnote is made.\n",
    "\n",
    "To understand the HTML here, `<a name=\"#...\"> </a>` is a tag that allows you produce a named reference for a given location.  Markdown has the construciton `[text with hyperlink](#named reference)` that will produce a clickable link that transports you the named reference.\n",
    "\n",
    "1. <a name=\"cite_note-1\"></a> [^](#cite_ref-1) Lorenz, T. (9 Dec 2021) Birds Aren’t Real, or Are They? Inside a Gen Z Conspiracy Theory. *The New York Times*. https://www.nytimes.com/2021/12/09/technology/birds-arent-real-gen-z-misinformation.html \n",
    "2. <a name=\"cite_note-2\"></a> [^](#cite_ref-2) Also refs should be important to the background, not some randomly chosen vaguely related stuff. Include a web link if possible in refs as above.\n"
   ]
  },
  {
   "cell_type": "markdown",
   "source": [
    "The interplay between alcohol consumption and academic performance is an area of significant concern for stakeholders across the educational landscape, including students, faculty, staff, and parents. At institutions like Kansas State University (K-State), the observed negative associations between alcohol use and academic outcomes—such as missing classes, lagging behind in coursework, underperforming on exams or papers, and overall lower grades—underscore the urgency of addressing this issue.<a name=\"cite_ref-1\"></a>[<sup>1</sup>](#cite_note-1) K-State's Academic Achievement Center and Lafene Health Center offer myriad services to support students struggling with academic challenges related to substance abuse and mental health, highlighting institutional efforts to combat the adverse effects of alcohol on student success.\n",
    "\n",
    "Further, the broader research community, as evidenced by findings shared through sources like orcd-library.org, acknowledges the multifaceted impact of alcohol consumption on educational outcomes.<a name=\"cite_ref-2\"></a>[<sup>2</sup>](#cite_note-2) Alcohol's influence extends through biological, behavioral, and emotional pathways, affecting cognitive functions, school attendance, and students' engagement with their academic work. Notably, heavy episodic drinking, prevalent among adolescents, correlates with a range of negative health and educational outcomes. The research underscores not only the direct effects of alcohol on neurodegeneration and cognitive impairment but also the broader behavioral and emotional ramifications that can detract from a student's academic commitment and performance.\n",
    "\n",
    "This complex relationship is further complicated by the bidirectional nature of alcohol use and academic outcomes, where poor performance may drive increased alcohol consumption as a coping mechanism. Confounding factors such as family income, parental education, self-esteem, and motivation also play critical roles in shaping this dynamic. The dataset from the survey of students in math and Portuguese language courses at the secondary school level, encompassing a wide array of variables including alcohol consumption (Dalc and Walc), study habits (studytime), and academic performance (G1, G2, and G3 grades), presents an invaluable resource for delving into these interactions. By examining the specific impacts of alcohol consumption within this rich dataset, this study aims to contribute nuanced insights into the strategies and interventions that can support student success in the face of these challenges.\n",
    "\n",
    "References:\n",
    "\n",
    "1. <a name=\"cite_note-1\"></a> [^](#cite_ref-1) K-State Lafene Health Center. Kansas State University. https://www.k-state.edu/lafene/services/prevention/alcohol-education/reality-of-drinking/academics.html#:~:text=Alcohol%20consumption%20has%20been%20negatively,to%20student%20attrition%20from%20college.\n",
    "2. <a name=\"cite_note-2\"></a> [^](#cite_ref-2) OECD (2019), The relationship between alcohol consumption and educational outcomes in children, OECD iLibrary, https://www.oecd-ilibrary.org/sites/8f9105c7-en/index.html?itemId=/content/component/8f9105c7-en\n",
    "3. [Link for dataset](https://www.kaggle.com/datasets/uciml/student-alcohol-consumption?resource=download)"
   ],
   "metadata": {
    "collapsed": false
   }
  },
  {
   "cell_type": "markdown",
   "metadata": {},
   "source": [
    "# Hypothesis\n"
   ]
  },
  {
   "cell_type": "markdown",
   "source": [
    "\n",
    "- Include your team's hypothesis\n",
    "- Ensure that this hypothesis is clear to readers\n",
    "- Explain why you think this will be the outcome (what was your thinking?)\n",
    "\n",
    "What is your main hypothesis/predictions about what the answer to your question is? Briefly explain your thinking. (2-3 sentences)\n",
    "\n",
    "**Hypothesis:** Higher levels of alcohol consumption among secondary school students (measured by Dalc for weekdays and Walc for weekends) are anticipated to be negatively correlated with their academic performance, particularly in math and Portuguese language courses, as reflected in their grades (G1, G2, and G3). This hypothesis is predicated on the premise that alcohol consumption impairs cognitive functions and academic engagement, leading to lower academic achievements.\n",
    "\n",
    "**Explanation:** This hypothesis is rooted in the broader literature, which has documented the adverse effects of alcohol on cognitive capabilities, memory formation, and educational engagement. Given that alcohol consumption can disrupt sleep patterns, affect concentration, and lead to increased absenteeism, it logically follows that students engaging in higher levels of alcohol consumption would exhibit poorer academic performance. By analyzing the relationship between alcohol consumption rates and academic outcomes, we aim to clarify how these behaviors impact student success, controlling for potential confounding factors to ensure a robust examination of this relationship."
   ],
   "metadata": {
    "collapsed": false
   }
  },
  {
   "cell_type": "markdown",
   "metadata": {},
   "source": [
    "# Data"
   ]
  },
  {
   "cell_type": "markdown",
   "source": [
    "## Data overview\n",
    "\n",
    "For each dataset include the following information\n",
    "- Dataset #1\n",
    "  - Dataset Name: Student Alcohol Consumption in Math Courses\n",
    "  - Link to the dataset: [Math course](https://www.kaggle.com/datasets/uciml/student-alcohol-consumption?resource=download)\n",
    "  - Number of observations: 395\n",
    "  - Number of variables: 33\n",
    "- Dataset #2\n",
    "  - Dataset Name: Student Alcohol Consumption in Portuguese Language Courses\n",
    "  - Link to the dataset: [Portuguese course](https://www.kaggle.com/datasets/uciml/student-alcohol-consumption?resource=download)\n",
    "  - Number of observations: 649\n",
    "  - Number of variables: 33\n",
    "\n",
    "Now write 2 - 5 sentences describing each dataset here. Include a short description of the important variables in the dataset; what the metrics and datatypes are, what concepts they may be proxies for. Include information about how you would need to wrangle/clean/preprocess the dataset\n",
    "\n",
    "If you plan to use multiple datasets, add a few sentences about how you plan to combine these datasets."
   ],
   "metadata": {
    "collapsed": false
   }
  },
  {
   "cell_type": "markdown",
   "source": [
    "**Description**: The dataset sourced from a survey of students in aged 15-22, provides a detailed examination of alcohol consumption patterns and their implications on mental health and academic performance, devoid of a specific focus on Math or Portuguese courses. It encompasses a variety of data types, including academic metrics, parental background, and lifestyle choices, to facilitate a comprehensive analysis of the factors influencing adolescent development. Last updated 7 years ago, as well as created by a research group at the University of California, Irvine, the dataset is a valuable resource for understanding the complex interplay between alcohol consumption and academic performance. The preparation for analysis will include meticulous cleaning, preprocessing, and the creation of new features to accurately reflect the intricate relationships at play. This process aims to unravel the complex dynamics between early alcohol exposure and its effects on adolescents' academic achievements and social interactions, providing insights into the broader ramifications on their support networks.\n",
    "\n",
    "$\\rightarrow$ Throughout the analysis, we will combine two datasets together because we actually don't focus on the differences between the two courses. We will focus on the relationship between alcohol consumption and academic performance, so we will combine the two datasets together to have a larger dataset to work on."
   ],
   "metadata": {
    "collapsed": false
   }
  },
  {
   "cell_type": "markdown",
   "source": [
    "### DATA CLEANING: Get each of your datasets into a usable (likely, tidy) format. Briefly explain what steps you had to take before you were able to use the datasets you chose to answer your question of interest.\n",
    "#### How 'clean' is the data?\n",
    "We drop the null data appearing in each column and replace the possible null value in ‘absences’ column with the mean value.\n",
    "\n",
    "#### What did you have to do to get the data into a usable format? (If you did nothing, how did you determine there was nothing to do?)\n",
    "We discussed columns to remove from the data that we do not need. Here, we will focus on the following features: `['sex', 'age', 'G3', 'absences', 'Dalc', 'Walc', 'studytime', 'health', 'freetime', 'higher', 'famrel']`. We also renamed several columns to make it more readable.\n",
    "\n",
    "#### What pre-processing steps that were required for your methods (for example, checking data distributions and performing any transformations that may be required)\n",
    "We will state the data types in the dataset and check if there is any null value in the dataset. If there is, we will replace it with the mean value. After that, we print out all the descriptive statistics to see if there is any outlier. If there is, we will remove it. Otherwise, we start working on the EDA.\n",
    "\n",
    "For the research question concerning the impact of early exposure to alcohol consumption on children's mental health and academic performance, as well as its effects on their family, friends, and supporters, the following features from the dataset could be particularly relevant:\n",
    "\n",
    "1. Sex (`sex`) and Age (`age`): Demographic variables that could influence alcohol consumption and academic performance.\n",
    "2. Academic Performance (`G3`): Final grade in the course, reflecting the impact of alcohol consumption on academic outcomes.\n",
    "3. Absences (`absences`): School absenteeism, which might be related to both academic performance and alcohol consumption.\n",
    "4. Alcohol Consumption (`Dalc` and `Walc`): Measures of daily and weekend alcohol consumption to quantify the level of alcohol exposure.\n",
    "5. Study Time (`studytime`): Amount of time dedicated to studying, which could be impacted by alcohol consumption.\n",
    "6. Mental Health (`health`): A proxy for mental health status, indicating how health issues might correlate with alcohol consumption and academic performance.\n",
    "7. Free Time (`freetime`): Amount of free time after school, which might influence alcohol consumption and academic performance.\n",
    "8. Higher education (`higher`): Aspiration for higher education, which could be affected by or have an effect on alcohol consumption patterns.\n",
    "9. Family Relationships (`famrel`): Quality of family relationships, which could be affected by or have an effect on alcohol consumption patterns.\n",
    "\n",
    "When we merge the two datasets, we will also need to check if there is any duplicate data and remove it if there is."
   ],
   "metadata": {
    "collapsed": false
   }
  },
  {
   "cell_type": "markdown",
   "source": [
    "In our project, we aim to thoroughly investigate how early exposure to alcohol affects adolescents aged 15-22, focusing specifically on mental health, academic performance, and their interactions within their personal networks. Our analysis will concentrate on key variables: sex (`sex`), age (`age`), final grades (`G3`), school absences (`absences`), daily (`Dalc`) and weekend (`Walc`) alcohol consumption levels, study time (`studytime`), health status (`health`), free time after school (`freetime`), aspirations for higher education (`higher`), and quality of family relationships (`famrel`). By examining these dimensions, we intend to quantify the extent of alcohol exposure and its correlation with crucial aspects of adolescent life, including their well-being, academic achievements, and the dynamics of their relationships with family and friends. This focused approach will allow us to illuminate the broader effects of early alcohol exposure, contributing to a deeper understanding of its impact on adolescents' educational journeys and social environments."
   ],
   "metadata": {
    "collapsed": false
   }
  },
  {
   "cell_type": "markdown",
   "source": [
    "## Feature Name Explanation (as in original dataset):\n",
    "1. sex - student's sex (binary: 'F' - female or 'M' - male)\n",
    "2. age - student's age (numeric: from 15 to 22)\n",
    "3. studytime - weekly study time (numeric: 1 - <2 hours, 2 - 2 to 5 hours, 3 - 5 to 10 hours, or 4 - >10 hours)\n",
    "4. higher - wants to take higher education (binary: yes or no) \n",
    "5. famrel - quality of family relationships (numeric: from 1 - very bad to 5 - excellent)\n",
    "6. freetime - free time after school (numeric: from 1 - very low to 5 - very high)\n",
    "7.  Dalc - workday alcohol consumption (numeric: from 1 - very low to 5 - very high)\n",
    "8.  Walc - weekend alcohol consumption (numeric: from 1 - very low to 5 - very high)\n",
    "9.  health - current health status (numeric: from 1 - very bad to 5 - very good)\n",
    "10.  absences - number of school absences (numeric: from 0 to 93)\n",
    "11.  G3 - final grade (numeric: from 0 to 20, output target)\n",
    "\n",
    "#### CHANGES:\n",
    "- Dalc to workday_alc\n",
    "- Walc to weekend_alc\n",
    "- famrel to family_relationship\n",
    "\n",
    "In this revise version, we will focus on the following features: `['sex', 'age', 'G3', 'absences', 'Dalc', 'Walc', 'studytime', 'health', 'freetime', 'higher', 'famrel']`. First, we need to update the name of several features to make sure it's readable. Then, we will drop the null data appearing in each column and replace the possible null value in ‘absences’ column with the mean value. After that, we will plot the distribution of each feature to see if there is any outlier. If there is, we will remove it. Unfortunately, the data is already in understandable format, so we do not need to do any standardization on those. Check out through the "
   ],
   "metadata": {
    "collapsed": false
   }
  },
  {
   "cell_type": "markdown",
   "metadata": {},
   "source": [
    "## Dataset #1 (use name instead of number here)"
   ]
  },
  {
   "cell_type": "code",
   "outputs": [],
   "source": [
    "## YOUR CODE TO LOAD/CLEAN/TIDY/WRANGLE THE DATA GOES HERE\n",
    "## FEEL FREE TO ADD MULTIPLE CELLS PER SECTION \n",
    "\n",
    "import numpy as np\n",
    "import pandas as pd\n",
    "import matplotlib.pyplot as plt\n",
    "import seaborn as sns\n",
    "from sklearn import datasets\n",
    "from sklearn.model_selection import train_test_split\n",
    "from sklearn.linear_model import LinearRegression\n",
    "from sklearn.metrics import mean_squared_error\n",
    "import requests\n",
    "import json\n",
    "import io\n",
    "\n",
    "# load the data\n",
    "math_df = pd.read_csv('student-mat.csv')\n",
    "por_df = pd.read_csv('student-por.csv')"
   ],
   "metadata": {
    "collapsed": false
   },
   "execution_count": 2
  },
  {
   "cell_type": "code",
   "outputs": [
    {
     "data": {
      "text/plain": [
       "(1044, 33)"
      ]
     },
     "execution_count": 3,
     "metadata": {},
     "output_type": "execute_result"
    }
   ],
   "source": [
    "# Combine the two datasets\n",
    "df = pd.concat([math_df, por_df], ignore_index=True)\n",
    "\n",
    "# Remove duplicates\n",
    "df.drop_duplicates(inplace=True)\n",
    "\n",
    "# Check the shape of the merged DataFrame\n",
    "df.shape"
   ],
   "metadata": {
    "collapsed": false
   },
   "execution_count": 3
  },
  {
   "cell_type": "code",
   "outputs": [],
   "source": [
    "# Rename columns to be more descriptive\n",
    "df.rename(columns={'famrel': 'family_relationship'}, inplace=True)\n",
    "df.rename(columns={'Dalc': 'workday_alc'}, inplace=True)\n",
    "df.rename(columns={'Walc': 'weekend_alc'}, inplace=True)"
   ],
   "metadata": {
    "collapsed": false
   },
   "execution_count": 4
  },
  {
   "cell_type": "code",
   "outputs": [],
   "source": [
    "# Features to work on\n",
    "selected_features = ['sex', 'age', 'G3', 'absences', 'workday_alc', 'weekend_alc', 'studytime', 'health', 'freetime', 'higher', 'family_relationship']"
   ],
   "metadata": {
    "collapsed": false
   },
   "execution_count": 5
  },
  {
   "cell_type": "code",
   "outputs": [
    {
     "data": {
      "text/html": [
       "<div>\n",
       "<style scoped>\n",
       "    .dataframe tbody tr th:only-of-type {\n",
       "        vertical-align: middle;\n",
       "    }\n",
       "\n",
       "    .dataframe tbody tr th {\n",
       "        vertical-align: top;\n",
       "    }\n",
       "\n",
       "    .dataframe thead th {\n",
       "        text-align: right;\n",
       "    }\n",
       "</style>\n",
       "<table border=\"1\" class=\"dataframe\">\n",
       "  <thead>\n",
       "    <tr style=\"text-align: right;\">\n",
       "      <th></th>\n",
       "      <th>sex</th>\n",
       "      <th>age</th>\n",
       "      <th>G3</th>\n",
       "      <th>absences</th>\n",
       "      <th>workday_alc</th>\n",
       "      <th>weekend_alc</th>\n",
       "      <th>studytime</th>\n",
       "      <th>health</th>\n",
       "      <th>freetime</th>\n",
       "      <th>higher</th>\n",
       "      <th>family_relationship</th>\n",
       "    </tr>\n",
       "  </thead>\n",
       "  <tbody>\n",
       "    <tr>\n",
       "      <th>0</th>\n",
       "      <td>F</td>\n",
       "      <td>18</td>\n",
       "      <td>6</td>\n",
       "      <td>6</td>\n",
       "      <td>1</td>\n",
       "      <td>1</td>\n",
       "      <td>2</td>\n",
       "      <td>3</td>\n",
       "      <td>3</td>\n",
       "      <td>yes</td>\n",
       "      <td>4</td>\n",
       "    </tr>\n",
       "    <tr>\n",
       "      <th>1</th>\n",
       "      <td>F</td>\n",
       "      <td>17</td>\n",
       "      <td>6</td>\n",
       "      <td>4</td>\n",
       "      <td>1</td>\n",
       "      <td>1</td>\n",
       "      <td>2</td>\n",
       "      <td>3</td>\n",
       "      <td>3</td>\n",
       "      <td>yes</td>\n",
       "      <td>5</td>\n",
       "    </tr>\n",
       "    <tr>\n",
       "      <th>2</th>\n",
       "      <td>F</td>\n",
       "      <td>15</td>\n",
       "      <td>10</td>\n",
       "      <td>10</td>\n",
       "      <td>2</td>\n",
       "      <td>3</td>\n",
       "      <td>2</td>\n",
       "      <td>3</td>\n",
       "      <td>3</td>\n",
       "      <td>yes</td>\n",
       "      <td>4</td>\n",
       "    </tr>\n",
       "    <tr>\n",
       "      <th>3</th>\n",
       "      <td>F</td>\n",
       "      <td>15</td>\n",
       "      <td>15</td>\n",
       "      <td>2</td>\n",
       "      <td>1</td>\n",
       "      <td>1</td>\n",
       "      <td>3</td>\n",
       "      <td>5</td>\n",
       "      <td>2</td>\n",
       "      <td>yes</td>\n",
       "      <td>3</td>\n",
       "    </tr>\n",
       "    <tr>\n",
       "      <th>4</th>\n",
       "      <td>F</td>\n",
       "      <td>16</td>\n",
       "      <td>10</td>\n",
       "      <td>4</td>\n",
       "      <td>1</td>\n",
       "      <td>2</td>\n",
       "      <td>2</td>\n",
       "      <td>5</td>\n",
       "      <td>3</td>\n",
       "      <td>yes</td>\n",
       "      <td>4</td>\n",
       "    </tr>\n",
       "    <tr>\n",
       "      <th>5</th>\n",
       "      <td>M</td>\n",
       "      <td>16</td>\n",
       "      <td>15</td>\n",
       "      <td>10</td>\n",
       "      <td>1</td>\n",
       "      <td>2</td>\n",
       "      <td>2</td>\n",
       "      <td>5</td>\n",
       "      <td>4</td>\n",
       "      <td>yes</td>\n",
       "      <td>5</td>\n",
       "    </tr>\n",
       "    <tr>\n",
       "      <th>6</th>\n",
       "      <td>M</td>\n",
       "      <td>16</td>\n",
       "      <td>11</td>\n",
       "      <td>0</td>\n",
       "      <td>1</td>\n",
       "      <td>1</td>\n",
       "      <td>2</td>\n",
       "      <td>3</td>\n",
       "      <td>4</td>\n",
       "      <td>yes</td>\n",
       "      <td>4</td>\n",
       "    </tr>\n",
       "    <tr>\n",
       "      <th>7</th>\n",
       "      <td>F</td>\n",
       "      <td>17</td>\n",
       "      <td>6</td>\n",
       "      <td>6</td>\n",
       "      <td>1</td>\n",
       "      <td>1</td>\n",
       "      <td>2</td>\n",
       "      <td>1</td>\n",
       "      <td>1</td>\n",
       "      <td>yes</td>\n",
       "      <td>4</td>\n",
       "    </tr>\n",
       "    <tr>\n",
       "      <th>8</th>\n",
       "      <td>M</td>\n",
       "      <td>15</td>\n",
       "      <td>19</td>\n",
       "      <td>0</td>\n",
       "      <td>1</td>\n",
       "      <td>1</td>\n",
       "      <td>2</td>\n",
       "      <td>1</td>\n",
       "      <td>2</td>\n",
       "      <td>yes</td>\n",
       "      <td>4</td>\n",
       "    </tr>\n",
       "    <tr>\n",
       "      <th>9</th>\n",
       "      <td>M</td>\n",
       "      <td>15</td>\n",
       "      <td>15</td>\n",
       "      <td>0</td>\n",
       "      <td>1</td>\n",
       "      <td>1</td>\n",
       "      <td>2</td>\n",
       "      <td>5</td>\n",
       "      <td>5</td>\n",
       "      <td>yes</td>\n",
       "      <td>5</td>\n",
       "    </tr>\n",
       "  </tbody>\n",
       "</table>\n",
       "</div>"
      ],
      "text/plain": [
       "  sex  age  G3  absences  workday_alc  weekend_alc  studytime  health  \\\n",
       "0   F   18   6         6            1            1          2       3   \n",
       "1   F   17   6         4            1            1          2       3   \n",
       "2   F   15  10        10            2            3          2       3   \n",
       "3   F   15  15         2            1            1          3       5   \n",
       "4   F   16  10         4            1            2          2       5   \n",
       "5   M   16  15        10            1            2          2       5   \n",
       "6   M   16  11         0            1            1          2       3   \n",
       "7   F   17   6         6            1            1          2       1   \n",
       "8   M   15  19         0            1            1          2       1   \n",
       "9   M   15  15         0            1            1          2       5   \n",
       "\n",
       "   freetime higher  family_relationship  \n",
       "0         3    yes                    4  \n",
       "1         3    yes                    5  \n",
       "2         3    yes                    4  \n",
       "3         2    yes                    3  \n",
       "4         3    yes                    4  \n",
       "5         4    yes                    5  \n",
       "6         4    yes                    4  \n",
       "7         1    yes                    4  \n",
       "8         2    yes                    4  \n",
       "9         5    yes                    5  "
      ]
     },
     "execution_count": 6,
     "metadata": {},
     "output_type": "execute_result"
    }
   ],
   "source": [
    "# Selecting a subset of columns from the merged DataFrame\n",
    "df = df[selected_features]\n",
    "df.head(10)"
   ],
   "metadata": {
    "collapsed": false
   },
   "execution_count": 6
  },
  {
   "cell_type": "code",
   "outputs": [
    {
     "data": {
      "text/plain": [
       "sex                    object\n",
       "age                     int64\n",
       "G3                      int64\n",
       "absences                int64\n",
       "workday_alc             int64\n",
       "weekend_alc             int64\n",
       "studytime               int64\n",
       "health                  int64\n",
       "freetime                int64\n",
       "higher                 object\n",
       "family_relationship     int64\n",
       "dtype: object"
      ]
     },
     "execution_count": 7,
     "metadata": {},
     "output_type": "execute_result"
    }
   ],
   "source": [
    "# Check the datatypes of the features\n",
    "df.dtypes"
   ],
   "metadata": {
    "collapsed": false
   },
   "execution_count": 7
  },
  {
   "cell_type": "markdown",
   "source": [
    "### Data types\n",
    "The data types in both datasets are:\n",
    "- **int64**: age, G3, absences, workday_alc, weekend_alc, studytime, health, freetime, family_relationship\n",
    "- **object**: sex, higher"
   ],
   "metadata": {
    "collapsed": false
   }
  },
  {
   "cell_type": "code",
   "outputs": [
    {
     "name": "stdout",
     "output_type": "stream",
     "text": [
      "sex                    0\n",
      "age                    0\n",
      "G3                     0\n",
      "absences               0\n",
      "workday_alc            0\n",
      "weekend_alc            0\n",
      "studytime              0\n",
      "health                 0\n",
      "freetime               0\n",
      "higher                 0\n",
      "family_relationship    0\n",
      "dtype: int64\n"
     ]
    }
   ],
   "source": [
    "# Check if there is still any null values\n",
    "print(df.isnull().sum())"
   ],
   "metadata": {
    "collapsed": false
   },
   "execution_count": 8
  },
  {
   "cell_type": "code",
   "outputs": [
    {
     "name": "stderr",
     "output_type": "stream",
     "text": [
      "C:\\Users\\Nhat\\AppData\\Local\\Temp\\ipykernel_3512\\1157174834.py:7: FutureWarning: A value is trying to be set on a copy of a DataFrame or Series through chained assignment using an inplace method.\n",
      "The behavior will change in pandas 3.0. This inplace method will never work because the intermediate object on which we are setting values always behaves as a copy.\n",
      "\n",
      "For example, when doing 'df[col].method(value, inplace=True)', try using 'df.method({col: value}, inplace=True)' or df[col] = df[col].method(value) instead, to perform the operation inplace on the original object.\n",
      "\n",
      "\n",
      "  df['absences'].fillna(df['absences'].mean(), inplace=True)\n"
     ]
    }
   ],
   "source": [
    "# Data Clean for math_df and por_df\n",
    "\n",
    "## Removing rows with missing values\n",
    "df.dropna(inplace=True)\n",
    "\n",
    "## Imputing missing 'absensces' with the mean weight\n",
    "df['absences'].fillna(df['absences'].mean(), inplace=True)"
   ],
   "metadata": {
    "collapsed": false
   },
   "execution_count": 9
  },
  {
   "cell_type": "code",
   "outputs": [
    {
     "data": {
      "text/html": [
       "<div>\n",
       "<style scoped>\n",
       "    .dataframe tbody tr th:only-of-type {\n",
       "        vertical-align: middle;\n",
       "    }\n",
       "\n",
       "    .dataframe tbody tr th {\n",
       "        vertical-align: top;\n",
       "    }\n",
       "\n",
       "    .dataframe thead th {\n",
       "        text-align: right;\n",
       "    }\n",
       "</style>\n",
       "<table border=\"1\" class=\"dataframe\">\n",
       "  <thead>\n",
       "    <tr style=\"text-align: right;\">\n",
       "      <th></th>\n",
       "      <th>age</th>\n",
       "      <th>G3</th>\n",
       "      <th>absences</th>\n",
       "      <th>workday_alc</th>\n",
       "      <th>weekend_alc</th>\n",
       "      <th>studytime</th>\n",
       "      <th>health</th>\n",
       "      <th>freetime</th>\n",
       "      <th>family_relationship</th>\n",
       "    </tr>\n",
       "  </thead>\n",
       "  <tbody>\n",
       "    <tr>\n",
       "      <th>count</th>\n",
       "      <td>1044.000000</td>\n",
       "      <td>1044.000000</td>\n",
       "      <td>1044.000000</td>\n",
       "      <td>1044.000000</td>\n",
       "      <td>1044.000000</td>\n",
       "      <td>1044.000000</td>\n",
       "      <td>1044.000000</td>\n",
       "      <td>1044.000000</td>\n",
       "      <td>1044.000000</td>\n",
       "    </tr>\n",
       "    <tr>\n",
       "      <th>mean</th>\n",
       "      <td>16.726054</td>\n",
       "      <td>11.341954</td>\n",
       "      <td>4.434866</td>\n",
       "      <td>1.494253</td>\n",
       "      <td>2.284483</td>\n",
       "      <td>1.970307</td>\n",
       "      <td>3.543103</td>\n",
       "      <td>3.201149</td>\n",
       "      <td>3.935824</td>\n",
       "    </tr>\n",
       "    <tr>\n",
       "      <th>std</th>\n",
       "      <td>1.239975</td>\n",
       "      <td>3.864796</td>\n",
       "      <td>6.210017</td>\n",
       "      <td>0.911714</td>\n",
       "      <td>1.285105</td>\n",
       "      <td>0.834353</td>\n",
       "      <td>1.424703</td>\n",
       "      <td>1.031507</td>\n",
       "      <td>0.933401</td>\n",
       "    </tr>\n",
       "    <tr>\n",
       "      <th>min</th>\n",
       "      <td>15.000000</td>\n",
       "      <td>0.000000</td>\n",
       "      <td>0.000000</td>\n",
       "      <td>1.000000</td>\n",
       "      <td>1.000000</td>\n",
       "      <td>1.000000</td>\n",
       "      <td>1.000000</td>\n",
       "      <td>1.000000</td>\n",
       "      <td>1.000000</td>\n",
       "    </tr>\n",
       "    <tr>\n",
       "      <th>25%</th>\n",
       "      <td>16.000000</td>\n",
       "      <td>10.000000</td>\n",
       "      <td>0.000000</td>\n",
       "      <td>1.000000</td>\n",
       "      <td>1.000000</td>\n",
       "      <td>1.000000</td>\n",
       "      <td>3.000000</td>\n",
       "      <td>3.000000</td>\n",
       "      <td>4.000000</td>\n",
       "    </tr>\n",
       "    <tr>\n",
       "      <th>50%</th>\n",
       "      <td>17.000000</td>\n",
       "      <td>11.000000</td>\n",
       "      <td>2.000000</td>\n",
       "      <td>1.000000</td>\n",
       "      <td>2.000000</td>\n",
       "      <td>2.000000</td>\n",
       "      <td>4.000000</td>\n",
       "      <td>3.000000</td>\n",
       "      <td>4.000000</td>\n",
       "    </tr>\n",
       "    <tr>\n",
       "      <th>75%</th>\n",
       "      <td>18.000000</td>\n",
       "      <td>14.000000</td>\n",
       "      <td>6.000000</td>\n",
       "      <td>2.000000</td>\n",
       "      <td>3.000000</td>\n",
       "      <td>2.000000</td>\n",
       "      <td>5.000000</td>\n",
       "      <td>4.000000</td>\n",
       "      <td>5.000000</td>\n",
       "    </tr>\n",
       "    <tr>\n",
       "      <th>max</th>\n",
       "      <td>22.000000</td>\n",
       "      <td>20.000000</td>\n",
       "      <td>75.000000</td>\n",
       "      <td>5.000000</td>\n",
       "      <td>5.000000</td>\n",
       "      <td>4.000000</td>\n",
       "      <td>5.000000</td>\n",
       "      <td>5.000000</td>\n",
       "      <td>5.000000</td>\n",
       "    </tr>\n",
       "  </tbody>\n",
       "</table>\n",
       "</div>"
      ],
      "text/plain": [
       "               age           G3     absences  workday_alc  weekend_alc  \\\n",
       "count  1044.000000  1044.000000  1044.000000  1044.000000  1044.000000   \n",
       "mean     16.726054    11.341954     4.434866     1.494253     2.284483   \n",
       "std       1.239975     3.864796     6.210017     0.911714     1.285105   \n",
       "min      15.000000     0.000000     0.000000     1.000000     1.000000   \n",
       "25%      16.000000    10.000000     0.000000     1.000000     1.000000   \n",
       "50%      17.000000    11.000000     2.000000     1.000000     2.000000   \n",
       "75%      18.000000    14.000000     6.000000     2.000000     3.000000   \n",
       "max      22.000000    20.000000    75.000000     5.000000     5.000000   \n",
       "\n",
       "         studytime       health     freetime  family_relationship  \n",
       "count  1044.000000  1044.000000  1044.000000          1044.000000  \n",
       "mean      1.970307     3.543103     3.201149             3.935824  \n",
       "std       0.834353     1.424703     1.031507             0.933401  \n",
       "min       1.000000     1.000000     1.000000             1.000000  \n",
       "25%       1.000000     3.000000     3.000000             4.000000  \n",
       "50%       2.000000     4.000000     3.000000             4.000000  \n",
       "75%       2.000000     5.000000     4.000000             5.000000  \n",
       "max       4.000000     5.000000     5.000000             5.000000  "
      ]
     },
     "execution_count": 10,
     "metadata": {},
     "output_type": "execute_result"
    }
   ],
   "source": [
    "# Outliers - Checking for outliers\n",
    "df.describe()"
   ],
   "metadata": {
    "collapsed": false
   },
   "execution_count": 10
  },
  {
   "cell_type": "markdown",
   "metadata": {},
   "source": [
    "# Results\n",
    "\n",
    "## Exploratory Data Analysis\n",
    "\n",
    "Carry out whatever EDA you need to for your project.  Because every project will be different we can't really give you much of a template at this point. But please make sure you describe the what and why in text here as well as providing interpretation of results and context."
   ]
  },
  {
   "cell_type": "markdown",
   "source": [
    "### Effects of Early Alcohol Exposure on Adolescents EDA: Mental health, Academic Performance, and Social Relationships"
   ],
   "metadata": {
    "collapsed": false
   }
  },
  {
   "cell_type": "markdown",
   "source": [
    "### Data Visualization\n",
    "This section will present visualizations of the selected features from the datasets. The visualizations will help us understand the distribution of the features and identify any potential patterns or associations that could inform our analysis. Through a series of visualizations, we aim to uncover underlying patterns and distributions within the data. By using bar charts and histograms, we can visually represent and contrast the frequency and distribution of both categorical and numerical variables. This visualization approach not only facilitates a more intuitive understanding of the data but also aids in identifying any anomalies or trends that may warrant further investigation. Our goal is to utilize these insights to inform potential areas of research focus, such as the impact of study habits on academic success or the correlation between health factors and student attendance."
   ],
   "metadata": {
    "collapsed": false
   }
  },
  {
   "cell_type": "code",
   "execution_count": null,
   "metadata": {},
   "outputs": [],
   "source": [
    "## YOUR CODE HERE\n",
    "## FEEL FREE TO ADD MULTIPLE CELLS PER SECTION"
   ]
  },
  {
   "cell_type": "markdown",
   "metadata": {},
   "source": [
    "## Second Analysis You Did - Give it a better title\n",
    "\n",
    "Some more words and stuff.  Remember notebooks work best if you interleave the code that generates a result with properly annotate figures and text that puts these results into context."
   ]
  },
  {
   "cell_type": "code",
   "execution_count": null,
   "metadata": {},
   "outputs": [],
   "source": [
    "## YOUR CODE HERE\n",
    "## FEEL FREE TO ADD MULTIPLE CELLS PER SECTION"
   ]
  },
  {
   "cell_type": "markdown",
   "metadata": {},
   "source": [
    "## ETC AD NASEUM\n",
    "\n",
    "Some more words and stuff.  Remember notebooks work best if you interleave the code that generates a result with properly annotate figures and text that puts these results into context."
   ]
  },
  {
   "cell_type": "code",
   "execution_count": null,
   "metadata": {},
   "outputs": [],
   "source": [
    "## YOUR CODE HERE\n",
    "## FEEL FREE TO ADD MULTIPLE CELLS PER SECTION"
   ]
  },
  {
   "cell_type": "markdown",
   "metadata": {},
   "source": [
    "# Ethics & Privacy"
   ]
  },
  {
   "cell_type": "markdown",
   "metadata": {},
   "source": [
    "- Thoughtful discussion of ethical concerns included\n",
    "- Ethical concerns consider the whole data science process (question asked, data collected, data being used, the bias in data, analysis, post-analysis, etc.)\n",
    "- How your group handled bias/ethical concerns clearly described\n",
    "\n",
    "Acknowledge and address any ethics & privacy related issues of your question(s), proposed dataset(s), and/or analyses. Use the information provided in lecture to guide your group discussion and thinking. If you need further guidance, check out [Deon's Ethics Checklist](http://deon.drivendata.org/#data-science-ethics-checklist). In particular:\n",
    "\n",
    "- Are there any biases/privacy/terms of use issues with the data you propsed?\n",
    "- Are there potential biases in your dataset(s), in terms of who it composes, and how it was collected, that may be problematic in terms of it allowing for equitable analysis? (For example, does your data exclude particular populations, or is it likely to reflect particular human biases in a way that could be a problem?)\n",
    "- How will you set out to detect these specific biases before, during, and after/when communicating your analysis?\n",
    "- Are there any other issues related to your topic area, data, and/or analyses that are potentially problematic in terms of data privacy and equitable impact?\n",
    "- How will you handle issues you identified?"
   ]
  },
  {
   "cell_type": "markdown",
   "metadata": {},
   "source": [
    "# Discusison and Conclusion\n",
    "\n",
    "Wrap it all up here.  Somewhere between 3 and 10 paragraphs roughly.  A good time to refer back to your Background section and review how this work extended the previous stuff. \n",
    "\n",
    "\n",
    "# Team Contributions\n",
    "\n",
    "Speficy who did what.  This should be pretty granular, perhaps bullet points, no more than a few sentences per person."
   ]
  }
 ],
 "metadata": {
  "kernelspec": {
   "display_name": "Python 3 (ipykernel)",
   "language": "python",
   "name": "python3"
  },
  "language_info": {
   "codemirror_mode": {
    "name": "ipython",
    "version": 3
   },
   "file_extension": ".py",
   "mimetype": "text/x-python",
   "name": "python",
   "nbconvert_exporter": "python",
   "pygments_lexer": "ipython3",
   "version": "3.9.7"
  }
 },
 "nbformat": 4,
 "nbformat_minor": 2
}
