{
 "cells": [
  {
   "cell_type": "markdown",
   "metadata": {},
   "source": [
    "**If you lost points on the last checkpoint you can get them back by responding to TA/IA feedback**  \n",
    "\n",
    "Update/change the relevant sections where you lost those points, make sure you respond on GitHub Issues to your TA/IA to call their attention to the changes you made here.\n",
    "\n",
    "Please update your Timeline... no battle plan survives contact with the enemy, so make sure we understand how your plans have changed."
   ]
  },
  {
   "cell_type": "markdown",
   "metadata": {},
   "source": [
    "# COGS 108 - Data Checkpoint"
   ]
  },
  {
   "cell_type": "markdown",
   "metadata": {},
   "source": [
    "# Names\n",
    "\n",
    "- Oswaldo Medina Jr\n",
    "- Minh Duong\n",
    "- Ryan Hwang\n",
    "- Tianhao Chen\n",
    "- Sapna Rachapudi"
   ]
  },
  {
   "cell_type": "markdown",
   "metadata": {},
   "source": [
    "# Research Question"
   ]
  },
  {
   "cell_type": "markdown",
   "metadata": {},
   "source": [
    "-  Include a specific, clear data science question.\n",
    "-  Make sure what you're measuring (variables) to answer the question is clear\n",
    "\n",
    "What is your research question? Include the specific question you're setting out to answer. This question should be specific, answerable with data, and clear. A general question with specific subquestions is permitted. (1-2 sentences)\n",
    "\n",
    "***Does the salaries of administrative faculty and other senior staff have a direct impact on the student bodies’ wellbeing and success at California public universities? How is this having an impact on faculty and staff that are supporting students?***"
   ]
  },
  {
   "cell_type": "markdown",
   "metadata": {},
   "source": [
    "## Background and Prior Work"
   ]
  },
  {
   "cell_type": "markdown",
   "metadata": {},
   "source": [
    "\n",
    "- Include a general introduction to your topic\n",
    "- Include explanation of what work has been done previously\n",
    "- Include citations or links to previous work\n",
    "\n",
    "This section will present the background and context of your topic and question in a few paragraphs. Include a general introduction to your topic and then describe what information you currently know about the topic after doing your initial research. Include references to other projects who have asked similar questions or approached similar problems. Explain what others have learned in their projects.\n",
    "\n",
    "Find some relevant prior work, and reference those sources, summarizing what each did and what they learned. Even if you think you have a totally novel question, find the most similar prior work that you can and discuss how it relates to your project.\n",
    "\n",
    "References can be research publications, but they need not be. Blogs, GitHub repositories, company websites, etc., are all viable references if they are relevant to your project. It must be clear which information comes from which references. (2-3 paragraphs, including at least 2 references)\n",
    "\n",
    " **Use inline citation through HTML footnotes to specify which references support which statements** \n",
    "\n",
    "For example: After government genocide in the 20th century, real birds were replaced with surveillance drones designed to look just like birds.<a name=\"cite_ref-1\"></a>[<sup>1</sup>](#cite_note-1) Use a minimum of 2 or 3 citations, but we prefer more.<a name=\"cite_ref-2\"></a>[<sup>2</sup>](#cite_note-2) You need enough to fully explain and back up important facts. \n",
    "\n",
    "Note that if you click a footnote number in the paragraph above it will transport you to the proper entry in the footnotes list below.  And if you click the ^ in the footnote entry, it will return you to the place in the main text where the footnote is made.\n",
    "\n",
    "To understand the HTML here, `<a name=\"#...\"> </a>` is a tag that allows you produce a named reference for a given location.  Markdown has the construciton `[text with hyperlink](#named reference)` that will produce a clickable link that transports you the named reference.\n",
    "\n",
    "1. <a name=\"cite_note-1\"></a> [^](#cite_ref-1) Lorenz, T. (9 Dec 2021) Birds Aren’t Real, or Are They? Inside a Gen Z Conspiracy Theory. *The New York Times*. https://www.nytimes.com/2021/12/09/technology/birds-arent-real-gen-z-misinformation.html \n",
    "2. <a name=\"cite_note-2\"></a> [^](#cite_ref-2) Also refs should be important to the background, not some randomly chosen vaguely related stuff. Include a web link if possible in refs as above.\n"
   ]
  },
  {
   "cell_type": "markdown",
   "metadata": {},
   "source": [
    "# Hypothesis\n"
   ]
  },
  {
   "cell_type": "markdown",
   "metadata": {},
   "source": [
    "- Include your team's hypothesis\n",
    "- Ensure that this hypothesis is clear to readers\n",
    "- Explain why you think this will be the outcome (what was your thinking?)\n",
    "\n",
    "What is your main hypothesis/predictions about what the answer to your question is? Briefly explain your thinking. (2-3 sentences)\n",
    "\n",
    "**Hypothesis:** The impact of higher faculty salaries on student well-being and success at public California universities is complex and potentially obscured by multiple confounding factors, including class size, campus facilities, financial aid availability, and the socio-economic backgrounds of the students. It is hypothesized that, while high salaries for top faculty might symbolize a university's dedication to academic excellence, this could inadvertently lead to a decrease in the allocation of resources towards critical student services and support, thereby negatively affecting key student success metrics such as graduation rates, retention, levels of engagement, and overall satisfaction.\n",
    "\n",
    "**Explanation:** This hypothesis acknowledges the multifaceted nature of factors that influence student well-being and success, emphasizing the necessity to control for these variables in order to accurately assess the relationship between faculty salaries and student outcomes. The recommendation to utilize multivariate regression analysis as a statistical method to include multiple independent variables offers a concrete approach to account for these confounding factors. By doing so, this analysis aims to isolate the specific effect of faculty salaries on student well-being and success, providing a clearer understanding of how the distribution of university budget priorities impacts student experiences and educational outcomes."
   ]
  },
  {
   "cell_type": "markdown",
   "metadata": {},
   "source": [
    "# Data"
   ]
  },
  {
   "cell_type": "markdown",
   "metadata": {},
   "source": [
    "## Data overview\n",
    "\n",
    "For each dataset include the following information\n",
    "- Dataset #1\n",
    "  - Dataset Name:\n",
    "  - Link to the dataset:\n",
    "  - Number of observations:\n",
    "  - Number of variables:\n",
    "- Dataset #2 (if you have more than one!)\n",
    "  - Dataset Name:\n",
    "  - Link to the dataset:\n",
    "  - Number of observations:\n",
    "  - Number of variables:\n",
    "- etc\n",
    "\n",
    "Now write 2 - 5 sentences describing each dataset here. Include a short description of the important variables in the dataset; what the metrics and datatypes are, what concepts they may be proxies for. Include information about how you would need to wrangle/clean/preprocess the dataset\n",
    "\n",
    "If you plan to use multiple datasets, add a few sentences about how you plan to combine these datasets."
   ]
  },
  {
   "cell_type": "markdown",
   "metadata": {},
   "source": [
    "## Dataset #1 (use name instead of number here)"
   ]
  },
  {
   "cell_type": "code",
   "execution_count": null,
   "metadata": {},
   "outputs": [],
   "source": [
    "## YOUR CODE TO LOAD/CLEAN/TIDY/WRANGLE THE DATA GOES HERE\n",
    "## FEEL FREE TO ADD MULTIPLE CELLS PER SECTION "
   ]
  },
  {
   "cell_type": "markdown",
   "metadata": {},
   "source": [
    "## Dataset #2 (if you have more than one, use name instead of number here)"
   ]
  },
  {
   "cell_type": "code",
   "execution_count": null,
   "metadata": {},
   "outputs": [],
   "source": [
    "## YOUR CODE TO LOAD/CLEAN/TIDY/WRANGLE THE DATA GOES HERE\n",
    "## FEEL FREE TO ADD MULTIPLE CELLS PER SECTION "
   ]
  },
  {
   "cell_type": "markdown",
   "metadata": {},
   "source": [
    "# Ethics & Privacy"
   ]
  },
  {
   "cell_type": "markdown",
   "metadata": {},
   "source": [
    "- Thoughtful discussion of ethical concerns included\n",
    "- Ethical concerns consider the whole data science process (question asked, data collected, data being used, the bias in data, analysis, post-analysis, etc.)\n",
    "- How your group handled bias/ethical concerns clearly described\n",
    "\n",
    "Acknowledge and address any ethics & privacy related issues of your question(s), proposed dataset(s), and/or analyses. Use the information provided in lecture to guide your group discussion and thinking. If you need further guidance, check out [Deon's Ethics Checklist](http://deon.drivendata.org/#data-science-ethics-checklist). In particular:\n",
    "\n",
    "- Are there any biases/privacy/terms of use issues with the data you propsed?\n",
    "- Are there potential biases in your dataset(s), in terms of who it composes, and how it was collected, that may be problematic in terms of it allowing for equitable analysis? (For example, does your data exclude particular populations, or is it likely to reflect particular human biases in a way that could be a problem?)\n",
    "- How will you set out to detect these specific biases before, during, and after/when communicating your analysis?\n",
    "- Are there any other issues related to your topic area, data, and/or analyses that are potentially problematic in terms of data privacy and equitable impact?\n",
    "- How will you handle issues you identified?"
   ]
  },
  {
   "cell_type": "markdown",
   "metadata": {},
   "source": [
    "**Ethics and privacy issues:**\n",
    "- The salaries of most of the top administration is publicly available, so that is not an issue on finding\n",
    "    - Maybe anonymize this data too? Don’t refer to the administration by name\n",
    "- While researching and measuring the “success/wellbeing” of student bodies, that could bring up privacy issues\n",
    "    - Anonymize the data and do not ever refer to any of the student sources by name or any identifying information\n",
    "- If any surveys are taken, make sure informed consent is obtained first\n",
    "\n",
    "**Are there any biases/privacy/terms of use issues with the data you proposed?**\n",
    "- Possible to underrepresented or overrepresent certain groups from our data sourcing\n",
    "- We should try to consider all possible biases to try and find a solution for it or try to avoid what we can\n",
    "- The data we will be using will be more from older sources, because there is not full databases of more recent salaries like 2023-2024, and it will be difficult collecting data about student success from current students as opposed to already graduated students with records already set\n",
    "- In our project, we will be transparent about any biases and how we attempted to mitigate them\n",
    "\n",
    "**How will you set out to detect these specific biases before, during, and after/when communicating your analysis?**\n",
    "- Follow strict guidelines to address biases and privacy concerns like data anonymization, and discuss which data sampling method would be the most appropriate for us\n",
    "- Maintain transparency of our project\n",
    "- Constantly be keeping an eye out for any new issues in biases or privacy issues that could be added to the project\n",
    "- Document and report on any biases or privacy issues found and how they were handled"
   ]
  },
  {
   "cell_type": "markdown",
   "metadata": {},
   "source": [
    "# Team Expectations "
   ]
  },
  {
   "cell_type": "markdown",
   "metadata": {},
   "source": [
    "\n",
    "Read over the [COGS108 Team Policies](https://github.com/COGS108/Projects/blob/master/COGS108_TeamPolicies.md) individually. Then, include your group’s expectations of one another for successful completion of your COGS108 project below. Discuss and agree on what all of your expectations are. Discuss how your team will communicate throughout the quarter and consider how you will communicate respectfully should conflicts arise. By including each member’s name above and by adding their name to the submission, you are indicating that you have read the COGS108 Team Policies, accept your team’s expectations below, and have every intention to fulfill them. These expectations are for your team’s use and benefit — they won’t be graded for their details.\n",
    "\n",
    "* *Team Expectation 1*\n",
    "* *Team Expectation 2*\n",
    "* *Team Expecation 3*\n",
    "* ..."
   ]
  },
  {
   "cell_type": "markdown",
   "metadata": {},
   "source": [
    "*Note: This may be different depending on what the assignment is. If we are working on the final project, the meeting may be more like catching up on the part that other people in the group are working on.*\n",
    "\n",
    "**Communication** \n",
    "- My team will meet via Zoom or Discord, whichever is convenient for everyone in the group. \n",
    "\n",
    "**Meeting**\n",
    "- We will try to have at least 1-2 meetings per week. The first meeting will be a discussion about what we need to do for the entire week. Then, we will wrap up the assignment in the second meeting.\n",
    "- The meeting time will be flexible based on the time available to people provided on When2Meet. \n",
    "\n",
    "**Expectation**\n",
    "- The research question is as stated in this proposal, and we expect to have a fit dataset to work on towards the end of the quarter.\n",
    "- As a group project, we will all divide the work equally so that everyone can have a chance to work.\n",
    "- If anyone has any issues while working on the project, that person needs to let other people know within a proper amount of time. \n",
    "- Weekly meeting notes with quick summary/ plan of action for the next week for each person. Check the meeting notes if you miss a meeting, and ask questions if you have them.\n",
    "- The team should take notes during each meeting regarding the project progress and discussions to ensures that everyone can catch up on any information they may have missed."
   ]
  },
  {
   "cell_type": "markdown",
   "metadata": {},
   "source": [
    "# Project Timeline Proposal"
   ]
  },
  {
   "cell_type": "markdown",
   "metadata": {},
   "source": [
    "Specify your team's specific project timeline. An example timeline has been provided. Changes the dates, times, names, and details to fit your group's plan.\n",
    "\n",
    "If you think you will need any special resources or training outside what we have covered in COGS 108 to solve your problem, then your proposal should state these clearly. For example, if you have selected a problem that involves implementing multiple neural networks, please state this so we can make sure you know what you’re doing and so we can point you to resources you will need to implement your project. Note that you are not required to use outside methods.\n",
    "\n",
    "| Meeting Date  | Meeting Time| Completed Before Meeting  | Discuss at Meeting |\n",
    "|---|---|---|---|\n",
    "| 2/12  |  5 PM | Read & Think about our project proposal in depth and think about any direction we could head towards our storytelling for our project  | Finalize our roles in the project. Which datasets are we trying to look for | \n",
    "| 2/19  |  5 PM | Search for datasets that are corrected with our project or any resource you might find to be useful  | Discuss Wrangling and possible analytical approaches; Assign group members to lead each specific part | \n",
    "| 2/26  | 5 PM  | Import & Wrangle Data; EDA  |  Review/Edit wrangling/EDA; Discuss Analysis Plan |\n",
    "| 3/4  | 5 PM  | Finalize wrangling/ EDA; Being Analysis | Discuss/edit Analysis; Complete project check-in |\n",
    "| 3/11  | 5 PM  | Continue Data Analyst; start on our results/conclusion/ discussion | continue to discuss our project and try to connect our data analyst towards the story we are trying to tell  |\n",
    "| 3/14  | 5 PM  | Complete the analysis; Continue on our results/conclusion/discussion | Discuss/edit the full project |\n",
    "| 3/18  | Before 11:59 PM  | Any corrections that might be to be fixed | Turn in Final Project & Group Project Survey |"
   ]
  }
 ],
 "metadata": {
  "kernelspec": {
   "display_name": "Python 3 (ipykernel)",
   "language": "python",
   "name": "python3"
  },
  "language_info": {
   "codemirror_mode": {
    "name": "ipython",
    "version": 3
   },
   "file_extension": ".py",
   "mimetype": "text/x-python",
   "name": "python",
   "nbconvert_exporter": "python",
   "pygments_lexer": "ipython3",
   "version": "3.9.7"
  }
 },
 "nbformat": 4,
 "nbformat_minor": 2
}
